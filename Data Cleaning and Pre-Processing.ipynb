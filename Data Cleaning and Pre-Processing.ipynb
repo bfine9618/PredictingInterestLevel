{
 "cells": [
  {
   "cell_type": "code",
   "execution_count": 490,
   "metadata": {
    "collapsed": true
   },
   "outputs": [],
   "source": [
    "import numpy as np\n",
    "import pandas as pd\n",
    "import seaborn as sns\n",
    "import matplotlib.pyplot as plt\n",
    "% matplotlib inline\n",
    "\n",
    "import requests as re\n",
    "from html.parser import HTMLParser\n",
    "\n",
    "sns.set_context('poster')\n",
    "sns.set_style('whitegrid')"
   ]
  },
  {
   "cell_type": "code",
   "execution_count": 491,
   "metadata": {
    "collapsed": true
   },
   "outputs": [],
   "source": [
    "df = pd.read_json('./rawData/train_data.json')"
   ]
  },
  {
   "cell_type": "code",
   "execution_count": 492,
   "metadata": {
    "collapsed": true
   },
   "outputs": [],
   "source": [
    "test = pd.read_json('./rawData/test_data.json')"
   ]
  },
  {
   "cell_type": "code",
   "execution_count": 493,
   "metadata": {
    "collapsed": true
   },
   "outputs": [],
   "source": [
    "test['test'] = True"
   ]
  },
  {
   "cell_type": "code",
   "execution_count": 494,
   "metadata": {
    "collapsed": true
   },
   "outputs": [],
   "source": [
    "df = df.append(test)\n",
    "df.reset_index(drop=True, inplace=True)"
   ]
  },
  {
   "cell_type": "code",
   "execution_count": 495,
   "metadata": {
    "collapsed": false
   },
   "outputs": [],
   "source": [
    "df['test'].fillna(False, inplace=True)"
   ]
  },
  {
   "cell_type": "code",
   "execution_count": 496,
   "metadata": {
    "collapsed": true
   },
   "outputs": [],
   "source": [
    "df.columns = [c.replace(' ', '_') for c in df.columns]\n",
    "df.columns = [c.replace('-', '_') for c in df.columns]\n",
    "df.columns = [c.replace('/', '_') for c in df.columns]"
   ]
  },
  {
   "cell_type": "code",
   "execution_count": 497,
   "metadata": {
    "collapsed": true
   },
   "outputs": [],
   "source": [
    "df['bedrooms'] = df['bedrooms'].apply(float)\n",
    "df['bedrooms'].fillna(0, inplace=True)\n",
    "df['bathrooms'].fillna(0, inplace=True)"
   ]
  },
  {
   "cell_type": "code",
   "execution_count": 498,
   "metadata": {
    "collapsed": true
   },
   "outputs": [],
   "source": [
    "df.drop(['index', 'level_0'], axis=1, inplace=True)\n",
    "df['interestVal'] = df['interest_level'].map({'high': 1, 'medium': 0.5, 'low':0})"
   ]
  },
  {
   "cell_type": "code",
   "execution_count": 499,
   "metadata": {
    "collapsed": true
   },
   "outputs": [],
   "source": [
    "class MLStripper(HTMLParser):\n",
    "    def __init__(self):\n",
    "        self.reset()\n",
    "        self.strict = False\n",
    "        self.convert_charrefs= True\n",
    "        self.fed = []\n",
    "    def handle_data(self, d):\n",
    "        self.fed.append(d)\n",
    "    def get_data(self):\n",
    "        return ''.join(self.fed)"
   ]
  },
  {
   "cell_type": "code",
   "execution_count": 500,
   "metadata": {
    "collapsed": true
   },
   "outputs": [],
   "source": [
    "def strip_tags(html):\n",
    "    s = MLStripper()\n",
    "    s.feed(html)\n",
    "    return s.get_data()"
   ]
  },
  {
   "cell_type": "code",
   "execution_count": 501,
   "metadata": {
    "collapsed": true
   },
   "outputs": [],
   "source": [
    "def descrClean(x):\n",
    "    des = strip_tags(x)\n",
    "    return des.lower()"
   ]
  },
  {
   "cell_type": "code",
   "execution_count": 502,
   "metadata": {
    "collapsed": true
   },
   "outputs": [],
   "source": [
    "df['description'] = df['description'].apply(descrClean)"
   ]
  },
  {
   "cell_type": "code",
   "execution_count": 503,
   "metadata": {
    "collapsed": false,
    "scrolled": true
   },
   "outputs": [
    {
     "data": {
      "text/plain": [
       "0    46759\n",
       "1     2593\n",
       "Name: Laundry_In_Building, dtype: int64"
      ]
     },
     "execution_count": 503,
     "metadata": {},
     "output_type": "execute_result"
    }
   ],
   "source": [
    "# Verify two laundry in buildings are the same\n",
    "df['Laundry_In_Building'].value_counts()"
   ]
  },
  {
   "cell_type": "code",
   "execution_count": 504,
   "metadata": {
    "collapsed": false
   },
   "outputs": [
    {
     "data": {
      "text/plain": [
       "0    33008\n",
       "1    16344\n",
       "Name: Laundry_in_Building, dtype: int64"
      ]
     },
     "execution_count": 504,
     "metadata": {},
     "output_type": "execute_result"
    }
   ],
   "source": [
    "# Verify two laundry in buildings are the same\n",
    "df['Laundry_in_Building'].value_counts()"
   ]
  },
  {
   "cell_type": "code",
   "execution_count": 505,
   "metadata": {
    "collapsed": true
   },
   "outputs": [],
   "source": [
    "def combine_laundry(col1, col2):\n",
    "    if col1 != 0:\n",
    "        return col1\n",
    "    else:\n",
    "        return col2"
   ]
  },
  {
   "cell_type": "code",
   "execution_count": 506,
   "metadata": {
    "collapsed": true
   },
   "outputs": [],
   "source": [
    "# Aggregate to create one laundry in building column that isn't case sensitive\n",
    "df['laundry_in_building'] = df.apply(lambda row: combine_laundry(row['Laundry_in_Building'], row['Laundry_In_Building']), axis=1)\n",
    "\n",
    "# Drop old laundry in building columns\n",
    "df = df.drop(['Laundry_in_Building', 'Laundry_In_Building'], axis=1)"
   ]
  },
  {
   "cell_type": "code",
   "execution_count": 507,
   "metadata": {
    "collapsed": false
   },
   "outputs": [],
   "source": [
    "df.to_json('./cleaningTest/cleaned.json')"
   ]
  },
  {
   "cell_type": "markdown",
   "metadata": {},
   "source": [
    "To determine the type of rental unit, we conduct a basic NLP"
   ]
  },
  {
   "cell_type": "code",
   "execution_count": 508,
   "metadata": {
    "collapsed": true
   },
   "outputs": [],
   "source": [
    "# Define basic unit types\n",
    "apt = ['apartment', 'apt']\n",
    "condo = ['condominium', 'condo']\n",
    "walkUp = ['walk_up', 'walk-up', 'walkup', 'walk up']\n",
    "studio = ['studio']\n",
    "ph = ['ph', 'penhouse']\n",
    "townhome = ['townhome', 'duplex', 'townhouse']\n",
    "loft = ['loft']\n",
    "\n",
    "types = [apt, condo, walkUp, studio, ph, townhome, loft]"
   ]
  },
  {
   "cell_type": "code",
   "execution_count": 509,
   "metadata": {
    "collapsed": true
   },
   "outputs": [],
   "source": [
    "# Function to Classify Unit Types\n",
    "def unitType(x):\n",
    "    homeType = {    \n",
    "        }\n",
    "    for lst in types:\n",
    "        homeType[lst[0]] = False\n",
    "    \n",
    "    for lst in types:\n",
    "        for w in lst:\n",
    "            if w in x:\n",
    "                return lst[0]\n",
    "    return 'other'"
   ]
  },
  {
   "cell_type": "code",
   "execution_count": 510,
   "metadata": {
    "collapsed": true
   },
   "outputs": [],
   "source": [
    "df['type'] = df['description'].apply(lambda x : unitType(x)) #Determine rental type\n",
    "df['foundType'] = ~df['type'].str.contains('other') #Determine if a type has been found\n",
    "\n",
    "df = pd.concat([df, pd.get_dummies(df['type'])], axis=1) #Create binary columns for each type\n",
    "\n",
    "#Combine and drop the two loft column\n",
    "df['loft'].fillna(False, inplace=True)\n",
    "df['loft'] = df[['loft', 'Loft']].apply(lambda row : row['loft'] or row['Loft'], axis=1)\n",
    "df.drop('Loft', axis=1, inplace=True)"
   ]
  },
  {
   "cell_type": "code",
   "execution_count": 511,
   "metadata": {
    "collapsed": false
   },
   "outputs": [],
   "source": [
    "df.to_json('./cleaningTest/cleanedTyped.json')"
   ]
  },
  {
   "cell_type": "markdown",
   "metadata": {},
   "source": [
    "# Generate interaction terms to find differentiators"
   ]
  },
  {
   "cell_type": "code",
   "execution_count": 512,
   "metadata": {
    "collapsed": true
   },
   "outputs": [],
   "source": [
    "# Luxury Score Term - higher the score means the more luxury items included\n",
    "df['lux_score'] = (df['Exclusive'] + df['Doorman'] + df['Outdoor_Space'] + \n",
    "                   df['New_Construction'] + df['Roof_Deck'] + df['Fitness_Center'] + \n",
    "                   df['Swimming_Pool'] + df['Elevator'] + df['Laundry_in_Unit'] + df['Hardwood_Floors']) / 10"
   ]
  },
  {
   "cell_type": "code",
   "execution_count": 513,
   "metadata": {
    "collapsed": true
   },
   "outputs": [],
   "source": [
    "agentGroup = df.groupby(['manager_id']).mean()\n",
    "buildingGroup = df.groupby(['building_id', 'manager_id']).mean()"
   ]
  },
  {
   "cell_type": "code",
   "execution_count": 514,
   "metadata": {
    "collapsed": false
   },
   "outputs": [],
   "source": [
    "buildingAvg = buildingGroup[['interestVal']]\n",
    "buildingAvg.columns = ['prob_interest_building']\n",
    "buildingAvg.reset_index(inplace=True)"
   ]
  },
  {
   "cell_type": "code",
   "execution_count": 515,
   "metadata": {
    "collapsed": true
   },
   "outputs": [],
   "source": [
    "managerAvg = agentGroup[['interestVal']]\n",
    "managerAvg.columns = ['prob_interest_manager']\n",
    "managerAvg.reset_index(inplace=True)"
   ]
  },
  {
   "cell_type": "code",
   "execution_count": 516,
   "metadata": {
    "collapsed": true
   },
   "outputs": [],
   "source": [
    "df = df.merge(managerAvg, on='manager_id', how='left')\n",
    "df = df.merge(buildingAvg, on=['building_id', 'manager_id'], how='left')"
   ]
  },
  {
   "cell_type": "code",
   "execution_count": 517,
   "metadata": {
    "collapsed": true
   },
   "outputs": [],
   "source": [
    "df['prob_buildManager'] = (df['prob_interest_building']+df['prob_interest_manager'])/2"
   ]
  },
  {
   "cell_type": "code",
   "execution_count": 518,
   "metadata": {
    "collapsed": true
   },
   "outputs": [],
   "source": [
    "df['rooms'] = df['bedrooms']+df['bathrooms']\n",
    "df['price_per_room'] = df['price']/df['rooms']"
   ]
  },
  {
   "cell_type": "code",
   "execution_count": 519,
   "metadata": {
    "collapsed": true
   },
   "outputs": [],
   "source": [
    "# Number of Luxury Features Term\n",
    "df['num_luxury'] = df['Exclusive'] + df['Doorman'] + df['Outdoor_Space'] + df['New_Construction'] + df['Roof_Deck'] + df['Fitness_Center'] + df['Swimming_Pool'] + df['Elevator'] + df['Laundry_in_Unit'] + df['Hardwood_Floors']"
   ]
  },
  {
   "cell_type": "code",
   "execution_count": 520,
   "metadata": {
    "collapsed": false
   },
   "outputs": [],
   "source": [
    "# Number of Features per Listing\n",
    "df['num_features'] = df['features'].apply(len)"
   ]
  },
  {
   "cell_type": "code",
   "execution_count": 521,
   "metadata": {
    "collapsed": true
   },
   "outputs": [],
   "source": [
    "# ADA compatible interaction term\n",
    "# 1 if both elevator and wheelchair access, 0 if one or neither are included\n",
    "df['ada'] = df['Elevator'] * df['Wheelchair_Access']\n",
    "\n",
    "# Create transformed term that creates a score for outdoor spaces\n",
    "# Higher the score, the more of these features are included\n",
    "df['outdoor_score'] = (df['Outdoor_Space'] + df['Balcony'] + df['Common_Outdoor_Space'] \n",
    "                       + df['Garden_Patio'] + df['Roof_Deck'] + df['Terrace']) / 6\n",
    "\n",
    "# Create interaction term for fitness oriented\n",
    "# 1 if both swimming pool and fitness center are included, 0 if one or neither included\n",
    "df['fitness_oriented'] = df['Fitness_Center'] * df['Swimming_Pool']\n",
    "\n",
    "# Create interaction term for doorman/exclusive\n",
    "# 1 if both are included, 0 if one or neither are included\n",
    "df['door_excl'] = df['Doorman'] * df['Exclusive']\n",
    "\n",
    "# Create interaction term for cats and dogs allowed\n",
    "# 1 if both are allowed, 0 if one or neither are allowed\n",
    "df['pets_allowed'] = df['Cats_Allowed'] * df['Dogs_Allowed']"
   ]
  },
  {
   "cell_type": "code",
   "execution_count": 522,
   "metadata": {
    "collapsed": true
   },
   "outputs": [],
   "source": [
    "df['price_per_feature'] = df['price']/df['num_features']\n",
    "df['price_per_feature'].replace(np.inf, np.nan, inplace=True)"
   ]
  },
  {
   "cell_type": "code",
   "execution_count": 523,
   "metadata": {
    "collapsed": false
   },
   "outputs": [],
   "source": [
    "df['price_per_num_lux'] = df['price']/df['num_luxury']\n",
    "df['price_per_num_lux'].replace(np.inf, np.nan, inplace=True)"
   ]
  },
  {
   "cell_type": "code",
   "execution_count": 524,
   "metadata": {
    "collapsed": false
   },
   "outputs": [],
   "source": [
    "g1 = df.groupby(['type']).mean()\n",
    "g1.reset_index(inplace=True)"
   ]
  },
  {
   "cell_type": "code",
   "execution_count": 525,
   "metadata": {
    "collapsed": false
   },
   "outputs": [],
   "source": [
    "avgs = g1[['type','lux_score', 'num_features', \n",
    "           'num_luxury','outdoor_score', 'price_per_num_lux', \n",
    "           'price_per_feature']]"
   ]
  },
  {
   "cell_type": "code",
   "execution_count": 526,
   "metadata": {
    "collapsed": false
   },
   "outputs": [
    {
     "name": "stderr",
     "output_type": "stream",
     "text": [
      "/Users/Braden/anaconda/lib/python3.6/site-packages/pandas/core/frame.py:2746: SettingWithCopyWarning: \n",
      "A value is trying to be set on a copy of a slice from a DataFrame\n",
      "\n",
      "See the caveats in the documentation: http://pandas.pydata.org/pandas-docs/stable/indexing.html#indexing-view-versus-copy\n",
      "  **kwargs)\n"
     ]
    }
   ],
   "source": [
    "avgs.columns = ['avg_'+x for x in avgs]\n",
    "avgs.rename(columns={'avg_type':'type'}, inplace=True)\n",
    "df = pd.merge(df, avgs, on='type')"
   ]
  },
  {
   "cell_type": "code",
   "execution_count": 527,
   "metadata": {
    "collapsed": true
   },
   "outputs": [],
   "source": [
    "df['price_per_num_lux'].fillna(df['avg_price_per_num_lux'], inplace=True)\n",
    "df['outdoor_score'].fillna(df['avg_outdoor_score'], inplace=True)\n",
    "df['lux_score'].fillna(df['avg_lux_score'], inplace=True)\n",
    "df['price_per_feature'].fillna(df['avg_price_per_feature'], inplace=True)\n",
    "\n",
    "df['price_lux_ratio'] = df['price_per_num_lux']/df['avg_price_per_num_lux']\n",
    "df['outdoor_ratio'] = df['outdoor_score']/df['avg_outdoor_score']\n",
    "df['lux_ratio'] = df['lux_score']/df['avg_lux_score']\n",
    "df['price_feature_ratio'] = df['price_per_feature']/df['avg_price_per_feature']"
   ]
  },
  {
   "cell_type": "code",
   "execution_count": 528,
   "metadata": {
    "collapsed": false
   },
   "outputs": [],
   "source": [
    "df['numPhotos'] = df['photos'].apply(len)"
   ]
  },
  {
   "cell_type": "code",
   "execution_count": 529,
   "metadata": {
    "collapsed": false
   },
   "outputs": [],
   "source": [
    "train = pd.DataFrame(df[df['test']==False])\n",
    "train.drop('test', inplace=True, axis=1)\n",
    "test = pd.DataFrame(df[df['test']])\n",
    "test.reset_index(drop=True, inplace=True)\n",
    "test.drop('test', inplace=True, axis=1)"
   ]
  },
  {
   "cell_type": "code",
   "execution_count": 530,
   "metadata": {
    "collapsed": false
   },
   "outputs": [
    {
     "data": {
      "text/plain": [
       "False    41918\n",
       "True      7434\n",
       "Name: test, dtype: int64"
      ]
     },
     "execution_count": 530,
     "metadata": {},
     "output_type": "execute_result"
    }
   ],
   "source": [
    "df['test'].value_counts()"
   ]
  },
  {
   "cell_type": "code",
   "execution_count": 531,
   "metadata": {
    "collapsed": true
   },
   "outputs": [],
   "source": [
    "train.to_json('./cleaningTest/train.json')\n",
    "test.to_json('./cleaningTest/test.json')"
   ]
  },
  {
   "cell_type": "code",
   "execution_count": null,
   "metadata": {
    "collapsed": true
   },
   "outputs": [],
   "source": []
  }
 ],
 "metadata": {
  "kernelspec": {
   "display_name": "Python 3",
   "language": "python",
   "name": "python3"
  },
  "language_info": {
   "codemirror_mode": {
    "name": "ipython",
    "version": 3
   },
   "file_extension": ".py",
   "mimetype": "text/x-python",
   "name": "python",
   "nbconvert_exporter": "python",
   "pygments_lexer": "ipython3",
   "version": "3.6.0"
  }
 },
 "nbformat": 4,
 "nbformat_minor": 2
}
