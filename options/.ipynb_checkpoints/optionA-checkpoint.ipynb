{
 "cells": [
  {
   "cell_type": "code",
   "execution_count": 4,
   "metadata": {},
   "outputs": [
    {
     "ename": "NameError",
     "evalue": "name 'LogisticRegression' is not defined",
     "output_type": "error",
     "traceback": [
      "\u001b[0;31m---------------------------------------------------------------------------\u001b[0m",
      "\u001b[0;31mNameError\u001b[0m                                 Traceback (most recent call last)",
      "\u001b[0;32m<ipython-input-4-48aed9cbf169>\u001b[0m in \u001b[0;36m<module>\u001b[0;34m()\u001b[0m\n\u001b[1;32m     43\u001b[0m         \u001b[0mpd\u001b[0m\u001b[0;34m.\u001b[0m\u001b[0mto_pickle\u001b[0m\u001b[0;34m(\u001b[0m\u001b[0mmf_te\u001b[0m\u001b[0;34m,\u001b[0m\u001b[0mpath\u001b[0m\u001b[0;34m+\u001b[0m\u001b[0;34m'X_t_mf_%s_%s_random.pkl'\u001b[0m\u001b[0;34m%\u001b[0m\u001b[0;34m(\u001b[0m\u001b[0mname\u001b[0m\u001b[0;34m,\u001b[0m\u001b[0mepoch\u001b[0m\u001b[0;34m)\u001b[0m\u001b[0;34m)\u001b[0m\u001b[0;34m\u001b[0m\u001b[0m\n\u001b[1;32m     44\u001b[0m \u001b[0;34m\u001b[0m\u001b[0m\n\u001b[0;32m---> 45\u001b[0;31m \u001b[0mclf\u001b[0m \u001b[0;34m=\u001b[0m \u001b[0mLogisticRegression\u001b[0m\u001b[0;34m(\u001b[0m\u001b[0mC\u001b[0m\u001b[0;34m=\u001b[0m\u001b[0;36m0.5\u001b[0m\u001b[0;34m,\u001b[0m\u001b[0mdual\u001b[0m\u001b[0;34m=\u001b[0m\u001b[0;32mTrue\u001b[0m\u001b[0;34m,\u001b[0m\u001b[0mrandom_state\u001b[0m\u001b[0;34m=\u001b[0m\u001b[0mseed\u001b[0m\u001b[0;34m)\u001b[0m\u001b[0;34m\u001b[0m\u001b[0m\n\u001b[0m\u001b[1;32m     46\u001b[0m \u001b[0mmake_mf_classification\u001b[0m\u001b[0;34m(\u001b[0m\u001b[0mX\u001b[0m \u001b[0;34m,\u001b[0m\u001b[0my\u001b[0m\u001b[0;34m,\u001b[0m \u001b[0mclf\u001b[0m\u001b[0;34m,\u001b[0m \u001b[0mX_t\u001b[0m\u001b[0;34m,\u001b[0m \u001b[0mn_folds\u001b[0m\u001b[0;34m=\u001b[0m\u001b[0;36m5\u001b[0m\u001b[0;34m,\u001b[0m\u001b[0mseed\u001b[0m\u001b[0;34m=\u001b[0m\u001b[0mseed\u001b[0m\u001b[0;34m,\u001b[0m\u001b[0mnb_epoch\u001b[0m\u001b[0;34m=\u001b[0m\u001b[0;36m50\u001b[0m\u001b[0;34m,\u001b[0m\u001b[0mmax_features\u001b[0m\u001b[0;34m=\u001b[0m\u001b[0;36m0.75\u001b[0m\u001b[0;34m,\u001b[0m\u001b[0mname\u001b[0m\u001b[0;34m=\u001b[0m\u001b[0;34m'lr'\u001b[0m\u001b[0;34m,\u001b[0m\u001b[0mpath\u001b[0m\u001b[0;34m=\u001b[0m\u001b[0mpath\u001b[0m\u001b[0;34m)\u001b[0m\u001b[0;34m\u001b[0m\u001b[0m\n",
      "\u001b[0;31mNameError\u001b[0m: name 'LogisticRegression' is not defined"
     ]
    }
   ],
   "source": [
    "import numpy as np\n",
    "from scipy import sparse as ssp\n",
    "import pandas as pd\n",
    "from sklearn.model_selection import StratifiedKFold\n",
    "from sklearn.metrics import log_loss\n",
    "\n",
    "\n",
    "def make_mf_classification(X ,y, clf, X_test, n_folds=5,seed=1024,nb_epoch=50,max_features=0.75,name='xgb',path=''):\n",
    "    n = X.shape[0]\n",
    "    '''\n",
    "    Fit metafeature by @clf and get prediction for test. Assumed that @clf -- classifier\n",
    "    '''\n",
    "    print(clf)\n",
    "    np.random.seed(seed)\n",
    "    feature_index = np.arange(X.shape[1])\n",
    "    for epoch in range(nb_epoch):\n",
    "        print (\"Start epoch:\",epoch)\n",
    "        mf_tr = np.zeros((X.shape[0],len(np.unique(y))))\n",
    "        mf_te = np.zeros((X_test.shape[0],len(np.unique(y))))\n",
    "        skf = StratifiedKFold(n_splits=n_folds, shuffle=True, random_state=seed).split(X,y)\n",
    "\n",
    "        np.random.shuffle(feature_index)\n",
    "        new_index = feature_index[:int(max_features*len(feature_index))]\n",
    "\n",
    "        for ind_tr, ind_te in skf:\n",
    "            if ssp.issparse(X):\n",
    "                X_tr = X[ind_tr].tocsc()[:,new_index]\n",
    "                X_te = X[ind_te].tocsc()[:,new_index]\n",
    "            else:\n",
    "                X_tr = X[ind_tr][:,new_index]\n",
    "                X_te = X[ind_te][:,new_index]\n",
    "\n",
    "            y_tr = y[ind_tr]\n",
    "            y_te = y[ind_te]\n",
    "\n",
    "            clf.fit(X_tr, y_tr)\n",
    "            mf_tr[ind_te] += clf.predict_proba(X_te)\n",
    "            mf_te += clf.predict_proba(X_test[:,new_index])\n",
    "            score = log_loss(y_te, mf_tr[ind_te])\n",
    "            print( '\\tpred[{}] score:{}'.format(epoch, score))\n",
    "        mf_te/=n_folds\n",
    "        pd.to_pickle(mf_tr,path+'X_mf_%s_%s_random.pkl'%(name,epoch))\n",
    "        pd.to_pickle(mf_te,path+'X_t_mf_%s_%s_random.pkl'%(name,epoch))\n",
    "\n",
    "clf = LogisticRegression(C=0.5,dual=True,random_state=seed)\n",
    "make_mf_classification(X ,y, clf, X_t, n_folds=5,seed=seed,nb_epoch=50,max_features=0.75,name='lr',path=path)"
   ]
  },
  {
   "cell_type": "code",
   "execution_count": null,
   "metadata": {
    "collapsed": true
   },
   "outputs": [],
   "source": []
  }
 ],
 "metadata": {
  "kernelspec": {
   "display_name": "Python 3",
   "language": "python",
   "name": "python3"
  },
  "language_info": {
   "codemirror_mode": {
    "name": "ipython",
    "version": 3
   },
   "file_extension": ".py",
   "mimetype": "text/x-python",
   "name": "python",
   "nbconvert_exporter": "python",
   "pygments_lexer": "ipython3",
   "version": "3.6.1"
  }
 },
 "nbformat": 4,
 "nbformat_minor": 2
}
