{
 "cells": [
  {
   "cell_type": "markdown",
   "metadata": {},
   "source": [
    "# SVM Exploration"
   ]
  },
  {
   "cell_type": "code",
   "execution_count": 1,
   "metadata": {
    "collapsed": true
   },
   "outputs": [],
   "source": [
    "# Necessary Imports\n",
    "import pandas as pd\n",
    "import numpy as np\n",
    "\n",
    "from sklearn.svm import SVC\n",
    "\n",
    "from sklearn.model_selection import train_test_split\n",
    "from sklearn.metrics import mean_squared_error"
   ]
  },
  {
   "cell_type": "markdown",
   "metadata": {},
   "source": [
    "## SVM on Full Data Set"
   ]
  },
  {
   "cell_type": "code",
   "execution_count": 2,
   "metadata": {},
   "outputs": [
    {
     "data": {
      "text/plain": [
       "Index(['Balcony', 'Cats_Allowed', 'Common_Outdoor_Space', 'Dining_Room',\n",
       "       'Dishwasher', 'Dogs_Allowed', 'Doorman', 'Elevator', 'Exclusive',\n",
       "       'Fitness_Center', 'Garden_Patio', 'Hardwood_Floors',\n",
       "       'High_Speed_Internet', 'Laundry_in_Unit', 'Loft', 'New_Construction',\n",
       "       'No_Fee', 'Outdoor_Space', 'Pre_War', 'Roof_Deck', 'Swimming_Pool',\n",
       "       'Terrace', 'Wheelchair_Access', 'bathrooms', 'bedrooms', 'building_id',\n",
       "       'created', 'description', 'display_address', 'features', 'interestVal',\n",
       "       'interest_level', 'latitude', 'laundry_in_building', 'listing_id',\n",
       "       'longitude', 'manager_id', 'price', 'street_address'],\n",
       "      dtype='object')"
      ]
     },
     "execution_count": 2,
     "metadata": {},
     "output_type": "execute_result"
    }
   ],
   "source": [
    "# Load Data non interaction data\n",
    "df = pd.read_json('./rawData/cleaned.json')\n",
    "df.columns"
   ]
  },
  {
   "cell_type": "code",
   "execution_count": 3,
   "metadata": {
    "collapsed": true
   },
   "outputs": [],
   "source": [
    "# Split into Training and Test Sets\n",
    "X_tr, X_test, Y_tr, Y_test = train_test_split(df.drop(['interest_level'],axis=1), df['interest_level'], test_size=0.3, random_state=42)\n",
    "X_tr_wo_obj = X_tr.select_dtypes(exclude=['object'])\n",
    "X_tr_wo_obj = X_tr_wo_obj.drop(['interestVal'],axis=1)\n",
    "X_test_wo_obj = X_test.select_dtypes(exclude=['object'])\n",
    "X_test_wo_obj = X_test_wo_obj.drop(['interestVal'],axis=1)\n",
    "\n",
    "# Fit SVM to Data with Interaction Terms\n",
    "svm_model = SVC()\n",
    "svm_fit = svm_model.fit(X_tr_wo_obj, Y_tr)"
   ]
  },
  {
   "cell_type": "code",
   "execution_count": 4,
   "metadata": {},
   "outputs": [
    {
     "data": {
      "text/plain": [
       "Index(['Balcony', 'Cats_Allowed', 'Common_Outdoor_Space', 'Dining_Room',\n",
       "       'Dishwasher', 'Dogs_Allowed', 'Doorman', 'Elevator', 'Exclusive',\n",
       "       'Fitness_Center', 'Garden_Patio', 'Hardwood_Floors',\n",
       "       'High_Speed_Internet', 'Laundry_in_Unit', 'Loft', 'New_Construction',\n",
       "       'No_Fee', 'Outdoor_Space', 'Pre_War', 'Roof_Deck', 'Swimming_Pool',\n",
       "       'Terrace', 'Wheelchair_Access', 'bathrooms', 'bedrooms', 'latitude',\n",
       "       'laundry_in_building', 'listing_id', 'longitude', 'price'],\n",
       "      dtype='object')"
      ]
     },
     "execution_count": 4,
     "metadata": {},
     "output_type": "execute_result"
    }
   ],
   "source": [
    "X_test_wo_obj.columns"
   ]
  },
  {
   "cell_type": "code",
   "execution_count": 5,
   "metadata": {
    "scrolled": true
   },
   "outputs": [
    {
     "name": "stdout",
     "output_type": "stream",
     "text": [
      "Score of SVM with no interaction terms = 0.698075699746\n"
     ]
    }
   ],
   "source": [
    "# Predict Test Data with SVM\n",
    "print('Score of SVM with no interaction terms = %s' % svm_model.score(X_test_wo_obj, Y_test))"
   ]
  },
  {
   "cell_type": "markdown",
   "metadata": {},
   "source": [
    "This is a better percent accuracy than linear regression.  Let's see if interaction terms can further improve this."
   ]
  },
  {
   "cell_type": "code",
   "execution_count": 6,
   "metadata": {},
   "outputs": [
    {
     "data": {
      "text/plain": [
       "Index(['Balcony', 'Cats_Allowed', 'Common_Outdoor_Space', 'Dining_Room',\n",
       "       'Dishwasher', 'Dogs_Allowed', 'Doorman', 'Elevator', 'Exclusive',\n",
       "       'Fitness_Center', 'Garden_Patio', 'Hardwood_Floors',\n",
       "       'High_Speed_Internet', 'Laundry_in_Unit', 'Loft', 'New_Construction',\n",
       "       'No_Fee', 'Outdoor_Space', 'Pre_War', 'Roof_Deck', 'Swimming_Pool',\n",
       "       'Terrace', 'Wheelchair_Access', 'ada', 'bathrooms', 'bedrooms',\n",
       "       'building_id', 'created', 'description', 'display_address', 'door_excl',\n",
       "       'features', 'fitness_oriented', 'interestVal', 'interest_level',\n",
       "       'latitude', 'laundry_in_building', 'listing_id', 'longitude',\n",
       "       'lux_score', 'manager_id', 'num_features', 'num_luxury',\n",
       "       'outdoor_score', 'pets_allowed', 'price', 'street_address'],\n",
       "      dtype='object')"
      ]
     },
     "execution_count": 6,
     "metadata": {},
     "output_type": "execute_result"
    }
   ],
   "source": [
    "# Load Data with Interaction Terms\n",
    "df2 = pd.read_json('./typedData/withInteraction.json')\n",
    "df2.columns"
   ]
  },
  {
   "cell_type": "code",
   "execution_count": 8,
   "metadata": {
    "collapsed": true
   },
   "outputs": [],
   "source": [
    "# Split into Training and Test Sets\n",
    "X_tr_2, X_test_2, Y_tr_2, Y_test_2 = train_test_split(df2.drop(['interest_level'],axis=1), df2['interest_level'], test_size=0.3, random_state=42)\n",
    "X_tr_wo_obj_2 = X_tr_2.select_dtypes(exclude=['object'])\n",
    "X_tr_wo_obj_2 = X_tr_wo_obj_2.drop(['interestVal'],axis=1)\n",
    "X_test_wo_obj_2 = X_test_2.select_dtypes(exclude=['object'])\n",
    "X_test_wo_obj_2 = X_test_wo_obj_2.drop(['interestVal'],axis=1)\n",
    "\n",
    "# Fit SVM to Data with Interaction Terms\n",
    "svm_model_2 = SVC()\n",
    "svm_fit_2 = svm_model_2.fit(X_tr_wo_obj_2, Y_tr_2)"
   ]
  },
  {
   "cell_type": "code",
   "execution_count": 9,
   "metadata": {},
   "outputs": [
    {
     "name": "stdout",
     "output_type": "stream",
     "text": [
      "Score of SVM with no interaction terms = 0.697996183206\n"
     ]
    }
   ],
   "source": [
    "# Predict Test Data with SVM\n",
    "print('Score of SVM with no interaction terms = %s' % svm_model_2.score(X_test_wo_obj_2, Y_test_2))"
   ]
  },
  {
   "cell_type": "markdown",
   "metadata": {},
   "source": [
    "Including interaction terms does not improve the classification accuracy of SVM.  With and without interaction terms, the percent accuracy is around 69.8%.  I will now investigate if breaking out the listings by home type (apartment, penthouse, townhome, etc.) will improve the percent accuracy."
   ]
  },
  {
   "cell_type": "markdown",
   "metadata": {},
   "source": [
    "## SVM on Typed Data Set"
   ]
  },
  {
   "cell_type": "code",
   "execution_count": 10,
   "metadata": {
    "scrolled": true
   },
   "outputs": [
    {
     "data": {
      "text/plain": [
       "Index(['Balcony', 'Cats_Allowed', 'Common_Outdoor_Space', 'Dining_Room',\n",
       "       'Dishwasher', 'Dogs_Allowed', 'Doorman', 'Elevator', 'Exclusive',\n",
       "       'Fitness_Center', 'Garden_Patio', 'Hardwood_Floors',\n",
       "       'High_Speed_Internet', 'Laundry_in_Unit', 'New_Construction', 'No_Fee',\n",
       "       'Outdoor_Space', 'Pre_War', 'Roof_Deck', 'Swimming_Pool', 'Terrace',\n",
       "       'Wheelchair_Access', 'apartment', 'bathrooms', 'bedrooms',\n",
       "       'building_id', 'condominium', 'created', 'description',\n",
       "       'display_address', 'features', 'foundType', 'interestVal',\n",
       "       'interest_level', 'latitude', 'laundry_in_building', 'listing_id',\n",
       "       'loft', 'longitude', 'manager_id', 'other', 'ph', 'price',\n",
       "       'street_address', 'studio', 'townhome', 'type', 'walk_up'],\n",
       "      dtype='object')"
      ]
     },
     "execution_count": 10,
     "metadata": {},
     "output_type": "execute_result"
    }
   ],
   "source": [
    "# Load Typed Data without Interaction Terms\n",
    "df3 = pd.read_json('./rawData/cleanedTyped.json')\n",
    "df3.columns"
   ]
  },
  {
   "cell_type": "code",
   "execution_count": 17,
   "metadata": {},
   "outputs": [
    {
     "data": {
      "text/plain": [
       "apartment      24859\n",
       "other          12390\n",
       "studio          2611\n",
       "ph               775\n",
       "townhome         401\n",
       "condominium      392\n",
       "walk_up          266\n",
       "loft             224\n",
       "Name: type, dtype: int64"
      ]
     },
     "execution_count": 17,
     "metadata": {},
     "output_type": "execute_result"
    }
   ],
   "source": [
    "df3['type'].value_counts()"
   ]
  },
  {
   "cell_type": "code",
   "execution_count": 28,
   "metadata": {},
   "outputs": [
    {
     "data": {
      "text/plain": [
       "{'apartment': Int64Index([    0, 10002, 10003, 10005, 10006, 10008, 10009,  1001, 10010,\n",
       "             10012,\n",
       "             ...\n",
       "              9987,  9988,  9991,  9992,  9993,  9994,  9995,  9996,  9997,\n",
       "              9998],\n",
       "            dtype='int64', length=24859),\n",
       " 'condominium': Int64Index([10001, 10022, 10167,  1036, 10360, 10540, 10813, 10964, 10974,\n",
       "             11334,\n",
       "             ...\n",
       "              8958,  8977,  9006,   903,  9226,  9394,    95,  9697,  9768,\n",
       "              9911],\n",
       "            dtype='int64', length=392),\n",
       " 'loft': Int64Index([10179, 10197, 10227, 10357, 10405, 10671, 10701, 10864,  1090,\n",
       "             11093,\n",
       "             ...\n",
       "               745,  7881,   859,  8618,  8679,  8752,  8966,  9385,  9896,\n",
       "               998],\n",
       "            dtype='int64', length=224),\n",
       " 'other': Int64Index([    1,    10,   100, 10000, 10007, 10011, 10015, 10016, 10017,\n",
       "             10019,\n",
       "             ...\n",
       "              9956,  9957,  9963,  9968,  9970,  9971,  9978,  9979,  9986,\n",
       "              9999],\n",
       "            dtype='int64', length=12390),\n",
       " 'ph': Int64Index([10027,  1011, 10164, 10237, 10267, 10418, 10433, 10513, 10589,\n",
       "             10604,\n",
       "             ...\n",
       "              9312,   932,  9389,  9395,  9439,  9732,  9756,   982,  9824,\n",
       "              9931],\n",
       "            dtype='int64', length=775),\n",
       " 'studio': Int64Index([ 1000, 10004, 10044, 10045, 10052, 10057, 10078,  1009, 10101,\n",
       "             10107,\n",
       "             ...\n",
       "              9848,  9853,  9869,  9953,  9969,  9973,  9974,  9989,   999,\n",
       "              9990],\n",
       "            dtype='int64', length=2611),\n",
       " 'townhome': Int64Index([10054, 10198, 10203, 10302, 10318, 10373, 10402, 10509, 10522,\n",
       "             10664,\n",
       "             ...\n",
       "              9474,  9483,  9511,   960,  9654,   981,  9897,  9919,  9946,\n",
       "              9966],\n",
       "            dtype='int64', length=401),\n",
       " 'walk_up': Int64Index([10099, 10151, 10416, 10517, 10576, 10739, 10749, 10751,  1087,\n",
       "             11271,\n",
       "             ...\n",
       "              8424,  8567,  8590,  8633,  8684,   897,  9188,  9327,  9650,\n",
       "              9983],\n",
       "            dtype='int64', length=266)}"
      ]
     },
     "execution_count": 28,
     "metadata": {},
     "output_type": "execute_result"
    }
   ],
   "source": [
    "grouped = df3.groupby(['type'])\n",
    "grouped.groups"
   ]
  },
  {
   "cell_type": "code",
   "execution_count": 41,
   "metadata": {},
   "outputs": [
    {
     "data": {
      "text/plain": [
       "Index(['Balcony', 'Cats_Allowed', 'Common_Outdoor_Space', 'Dining_Room',\n",
       "       'Dishwasher', 'Dogs_Allowed', 'Doorman', 'Elevator', 'Exclusive',\n",
       "       'Fitness_Center', 'Garden_Patio', 'Hardwood_Floors',\n",
       "       'High_Speed_Internet', 'Laundry_in_Unit', 'New_Construction', 'No_Fee',\n",
       "       'Outdoor_Space', 'Pre_War', 'Roof_Deck', 'Swimming_Pool', 'Terrace',\n",
       "       'Wheelchair_Access', 'ada', 'apartment', 'avg_lux_score',\n",
       "       'avg_num_features', 'avg_num_luxury', 'avg_outdoor_score',\n",
       "       'avg_price_per_feature', 'avg_price_per_num_lux', 'bathrooms',\n",
       "       'bedrooms', 'building_id', 'condominium', 'created', 'description',\n",
       "       'display_address', 'door_excl', 'features', 'fitness_oriented',\n",
       "       'foundType', 'interestVal', 'interest_level', 'latitude',\n",
       "       'laundry_in_building', 'listing_id', 'loft', 'longitude',\n",
       "       'lux_per_dollar', 'lux_ratio', 'lux_score', 'manager_id', 'numPhotos',\n",
       "       'num_features', 'num_luxury', 'other', 'outdoor_ratio', 'outdoor_score',\n",
       "       'pets_allowed', 'ph', 'price', 'price_feature_ratio', 'price_lux_ratio',\n",
       "       'price_per_feature', 'price_per_num_lux', 'street_address', 'studio',\n",
       "       'townhome', 'type', 'walk_up'],\n",
       "      dtype='object')"
      ]
     },
     "execution_count": 41,
     "metadata": {},
     "output_type": "execute_result"
    }
   ],
   "source": [
    "# Load Typed Data with Interaction Terms\n",
    "df4 = pd.read_json('./typedData/compsTypedInteraction.json')\n",
    "df4.columns"
   ]
  },
  {
   "cell_type": "code",
   "execution_count": 44,
   "metadata": {},
   "outputs": [
    {
     "data": {
      "text/plain": [
       "{'apartment': Int64Index([    0,     1,    10,   100,  1000, 10000, 10001, 10002, 10003,\n",
       "             10004,\n",
       "             ...\n",
       "              9990,  9991,  9992,  9993,  9994,  9995,  9996,  9997,  9998,\n",
       "              9999],\n",
       "            dtype='int64', length=24859),\n",
       " 'condominium': Int64Index([39860, 39861, 39862, 39863, 39864, 39865, 39866, 39867, 39868,\n",
       "             39869,\n",
       "             ...\n",
       "             40242, 40243, 40244, 40245, 40246, 40247, 40248, 40249, 40250,\n",
       "             40251],\n",
       "            dtype='int64', length=392),\n",
       " 'loft': Int64Index([41694, 41695, 41696, 41697, 41698, 41699, 41700, 41701, 41702,\n",
       "             41703,\n",
       "             ...\n",
       "             41908, 41909, 41910, 41911, 41912, 41913, 41914, 41915, 41916,\n",
       "             41917],\n",
       "            dtype='int64', length=224),\n",
       " 'other': Int64Index([24859, 24860, 24861, 24862, 24863, 24864, 24865, 24866, 24867,\n",
       "             24868,\n",
       "             ...\n",
       "             37239, 37240, 37241, 37242, 37243, 37244, 37245, 37246, 37247,\n",
       "             37248],\n",
       "            dtype='int64', length=12390),\n",
       " 'ph': Int64Index([40252, 40253, 40254, 40255, 40256, 40257, 40258, 40259, 40260,\n",
       "             40261,\n",
       "             ...\n",
       "             41017, 41018, 41019, 41020, 41021, 41022, 41023, 41024, 41025,\n",
       "             41026],\n",
       "            dtype='int64', length=775),\n",
       " 'studio': Int64Index([37249, 37250, 37251, 37252, 37253, 37254, 37255, 37256, 37257,\n",
       "             37258,\n",
       "             ...\n",
       "             39850, 39851, 39852, 39853, 39854, 39855, 39856, 39857, 39858,\n",
       "             39859],\n",
       "            dtype='int64', length=2611),\n",
       " 'townhome': Int64Index([41027, 41028, 41029, 41030, 41031, 41032, 41033, 41034, 41035,\n",
       "             41036,\n",
       "             ...\n",
       "             41418, 41419, 41420, 41421, 41422, 41423, 41424, 41425, 41426,\n",
       "             41427],\n",
       "            dtype='int64', length=401),\n",
       " 'walk_up': Int64Index([41428, 41429, 41430, 41431, 41432, 41433, 41434, 41435, 41436,\n",
       "             41437,\n",
       "             ...\n",
       "             41684, 41685, 41686, 41687, 41688, 41689, 41690, 41691, 41692,\n",
       "             41693],\n",
       "            dtype='int64', length=266)}"
      ]
     },
     "execution_count": 44,
     "metadata": {},
     "output_type": "execute_result"
    }
   ],
   "source": [
    "grouped_2 = df4.groupby(['type'])\n",
    "grouped_2.groups"
   ]
  },
  {
   "cell_type": "markdown",
   "metadata": {},
   "source": [
    "### SVM on studios only"
   ]
  },
  {
   "cell_type": "code",
   "execution_count": 37,
   "metadata": {},
   "outputs": [
    {
     "data": {
      "text/plain": [
       "Index(['Balcony', 'Cats_Allowed', 'Common_Outdoor_Space', 'Dining_Room',\n",
       "       'Dishwasher', 'Dogs_Allowed', 'Doorman', 'Elevator', 'Exclusive',\n",
       "       'Fitness_Center', 'Garden_Patio', 'Hardwood_Floors',\n",
       "       'High_Speed_Internet', 'Laundry_in_Unit', 'New_Construction', 'No_Fee',\n",
       "       'Outdoor_Space', 'Pre_War', 'Roof_Deck', 'Swimming_Pool', 'Terrace',\n",
       "       'Wheelchair_Access', 'bathrooms', 'bedrooms', 'building_id', 'created',\n",
       "       'description', 'display_address', 'features', 'interestVal',\n",
       "       'interest_level', 'latitude', 'laundry_in_building', 'listing_id',\n",
       "       'longitude', 'manager_id', 'price', 'street_address', 'studio'],\n",
       "      dtype='object')"
      ]
     },
     "execution_count": 37,
     "metadata": {},
     "output_type": "execute_result"
    }
   ],
   "source": [
    "studios = grouped.get_group('studio').copy()\n",
    "studios.drop(['other','ph','apartment','townhome','type','condominium','loft','walk_up','foundType'],axis=1, inplace=True)\n",
    "studios.columns"
   ]
  },
  {
   "cell_type": "code",
   "execution_count": 39,
   "metadata": {
    "collapsed": true
   },
   "outputs": [],
   "source": [
    "# Split into Training and Test Sets\n",
    "X_tr_studio, X_test_studio, Y_tr_studio, Y_test_studio = train_test_split(studios.drop(['interest_level'],axis=1), studios['interest_level'], test_size=0.3, random_state=42)\n",
    "X_tr_studio_wo_obj = X_tr_studio.select_dtypes(exclude=['object'])\n",
    "X_tr_studio_wo_obj = X_tr_studio_wo_obj.drop(['interestVal'],axis=1)\n",
    "X_test_studio_wo_obj = X_test_studio.select_dtypes(exclude=['object'])\n",
    "X_test_studio_wo_obj = X_test_studio_wo_obj.drop(['interestVal'],axis=1)\n",
    "\n",
    "# Fit SVM to Studio Data with Interaction Terms\n",
    "svm_model_studio = SVC()\n",
    "svm_fit_studio = svm_model_studio.fit(X_tr_studio_wo_obj, Y_tr_studio)"
   ]
  },
  {
   "cell_type": "code",
   "execution_count": 67,
   "metadata": {},
   "outputs": [
    {
     "name": "stdout",
     "output_type": "stream",
     "text": [
      "Score of SVM on studios with no interaction terms = 0.633928571429\n"
     ]
    }
   ],
   "source": [
    "# Predict Studio Test Data with SVM\n",
    "print('Score of SVM on studios with no interaction terms = %s' % svm_model_studio.score(X_test_studio_wo_obj, Y_test_studio))"
   ]
  },
  {
   "cell_type": "markdown",
   "metadata": {},
   "source": [
    "SVM on only studio listings is 63.4% classification accuracy.  This is less than the training SVM on all the listings."
   ]
  },
  {
   "cell_type": "code",
   "execution_count": 46,
   "metadata": {},
   "outputs": [
    {
     "data": {
      "text/plain": [
       "Index(['Balcony', 'Cats_Allowed', 'Common_Outdoor_Space', 'Dining_Room',\n",
       "       'Dishwasher', 'Dogs_Allowed', 'Doorman', 'Elevator', 'Exclusive',\n",
       "       'Fitness_Center', 'Garden_Patio', 'Hardwood_Floors',\n",
       "       'High_Speed_Internet', 'Laundry_in_Unit', 'New_Construction', 'No_Fee',\n",
       "       'Outdoor_Space', 'Pre_War', 'Roof_Deck', 'Swimming_Pool', 'Terrace',\n",
       "       'Wheelchair_Access', 'ada', 'avg_lux_score', 'avg_num_features',\n",
       "       'avg_num_luxury', 'avg_outdoor_score', 'avg_price_per_feature',\n",
       "       'avg_price_per_num_lux', 'bathrooms', 'bedrooms', 'building_id',\n",
       "       'created', 'description', 'display_address', 'door_excl', 'features',\n",
       "       'fitness_oriented', 'interestVal', 'interest_level', 'latitude',\n",
       "       'laundry_in_building', 'listing_id', 'longitude', 'lux_per_dollar',\n",
       "       'lux_ratio', 'lux_score', 'manager_id', 'numPhotos', 'num_features',\n",
       "       'num_luxury', 'outdoor_ratio', 'outdoor_score', 'pets_allowed', 'price',\n",
       "       'price_feature_ratio', 'price_lux_ratio', 'price_per_feature',\n",
       "       'price_per_num_lux', 'street_address', 'studio'],\n",
       "      dtype='object')"
      ]
     },
     "execution_count": 46,
     "metadata": {},
     "output_type": "execute_result"
    }
   ],
   "source": [
    "studios2 = grouped_2.get_group('studio').copy()\n",
    "studios2.drop(['other','ph','apartment','townhome','type','condominium','loft','walk_up','foundType'],axis=1, inplace=True)\n",
    "studios2.columns"
   ]
  },
  {
   "cell_type": "code",
   "execution_count": 47,
   "metadata": {
    "collapsed": true
   },
   "outputs": [],
   "source": [
    "# Split into Training and Test Sets\n",
    "X_tr_studio2, X_test_studio2, Y_tr_studio2, Y_test_studio2 = train_test_split(studios2.drop(['interest_level'],axis=1), studios2['interest_level'], test_size=0.3, random_state=42)\n",
    "X_tr_studio2_wo_obj = X_tr_studio2.select_dtypes(exclude=['object'])\n",
    "X_tr_studio2_wo_obj = X_tr_studio2_wo_obj.drop(['interestVal'],axis=1)\n",
    "X_test_studio2_wo_obj = X_test_studio2.select_dtypes(exclude=['object'])\n",
    "X_test_studio2_wo_obj = X_test_studio2_wo_obj.drop(['interestVal'],axis=1)\n",
    "\n",
    "# Fit SVM to Studio Data with Interaction Terms\n",
    "svm_model_studio2 = SVC()\n",
    "svm_fit_studio2 = svm_model_studio2.fit(X_tr_studio2_wo_obj, Y_tr_studio2)"
   ]
  },
  {
   "cell_type": "code",
   "execution_count": 68,
   "metadata": {
    "scrolled": true
   },
   "outputs": [
    {
     "name": "stdout",
     "output_type": "stream",
     "text": [
      "Score of SVM on studios with interaction terms = 0.635204081633\n"
     ]
    }
   ],
   "source": [
    "# Predict Studio Test Data with SVM\n",
    "print('Score of SVM on studios with interaction terms = %s' % svm_model_studio2.score(X_test_studio2_wo_obj, Y_test_studio2))"
   ]
  },
  {
   "cell_type": "markdown",
   "metadata": {},
   "source": [
    "Can see that adding interaction terms does not improve the fit that much."
   ]
  },
  {
   "cell_type": "markdown",
   "metadata": {},
   "source": [
    "### SVM on all other types of listings with interaction terms"
   ]
  },
  {
   "cell_type": "code",
   "execution_count": 74,
   "metadata": {},
   "outputs": [
    {
     "name": "stdout",
     "output_type": "stream",
     "text": [
      "Score of SVM on apartment with interaction terms = 0.675918476803\n",
      "Score of SVM on condominium with interaction terms = 0.694915254237\n",
      "Score of SVM on loft with interaction terms = 0.75\n",
      "Score of SVM on other with interaction terms = 0.756793112725\n",
      "Score of SVM on ph with interaction terms = 0.643776824034\n",
      "Score of SVM on townhome with interaction terms = 0.677685950413\n",
      "Score of SVM on walk_up with interaction terms = 0.575\n"
     ]
    }
   ],
   "source": [
    "for name, group in grouped:\n",
    "    if name == 'studio':\n",
    "        continue\n",
    "    typed = grouped.get_group(name).copy()\n",
    "    typed.drop(['other','ph','apartment','townhome','type','condominium','loft','walk_up','foundType'],axis=1, inplace=True)\n",
    "    # Split into Training and Test Sets\n",
    "    X_tr_typed, X_test_typed, Y_tr_typed, Y_test_typed = train_test_split(typed.drop(['interest_level'],axis=1), typed['interest_level'], test_size=0.3, random_state=42)\n",
    "    X_tr_typed_wo_obj = X_tr_typed.select_dtypes(exclude=['object'])\n",
    "    X_tr_typed_wo_obj = X_tr_typed_wo_obj.drop(['interestVal'],axis=1)\n",
    "    X_test_typed_wo_obj = X_test_typed.select_dtypes(exclude=['object'])\n",
    "    X_test_typed_wo_obj = X_test_typed_wo_obj.drop(['interestVal'],axis=1)\n",
    "\n",
    "    # Fit SVM to Specific Lisitng Type with Interaction Terms\n",
    "    svm_model_typed = SVC()\n",
    "    svm_fit_typed = svm_model_typed.fit(X_tr_typed_wo_obj, Y_tr_typed)\n",
    "    \n",
    "    # Predict Studio Test Data with SVM\n",
    "    print('Score of SVM on %s with interaction terms = %s' % (name, svm_model_typed.score(X_test_typed_wo_obj, Y_test_typed)))"
   ]
  },
  {
   "cell_type": "markdown",
   "metadata": {},
   "source": [
    "Using SVM, our model is pretty good at classifying lofts.  Surprisingly, our model is also good at classifying listings we were not able to type.  Our SVM model is mediocre at classifying interest level in apartments, condos, studios, penthouses, and townhomes.  Contrarily, our SVM model performs poorly on classifying interest level in walk ups.  We do not get that much improvement by fitting a different SVM model by home type, thus we are better off having one SVM model for all home types."
   ]
  },
  {
   "cell_type": "markdown",
   "metadata": {
    "collapsed": true
   },
   "source": [
    "## SVM on Reduced Feature Data"
   ]
  },
  {
   "cell_type": "code",
   "execution_count": 6,
   "metadata": {
    "scrolled": true
   },
   "outputs": [
    {
     "data": {
      "text/plain": [
       "Index(['Balcony', 'Cats_Allowed', 'Common_Outdoor_Space', 'Dining_Room',\n",
       "       'Dishwasher', 'Dogs_Allowed', 'Doorman', 'Elevator', 'Exclusive',\n",
       "       'Fitness_Center', 'Garden_Patio', 'Hardwood_Floors',\n",
       "       'High_Speed_Internet', 'Laundry_in_Unit', 'New_Construction', 'No_Fee',\n",
       "       'Outdoor_Space', 'Pre_War', 'Roof_Deck', 'Swimming_Pool', 'Terrace',\n",
       "       'Wheelchair_Access', 'ada', 'apartment', 'avg_lux_score',\n",
       "       'avg_num_features', 'avg_num_luxury', 'avg_outdoor_score',\n",
       "       'avg_price_per_feature', 'avg_price_per_num_lux', 'bathrooms',\n",
       "       'bedrooms', 'condominium', 'door_excl', 'fitness_oriented', 'foundType',\n",
       "       'interestVal', 'latitude', 'laundry_in_building', 'listing_id', 'loft',\n",
       "       'longitude', 'lux_per_dollar', 'lux_ratio', 'lux_score', 'numPhotos',\n",
       "       'num_features', 'num_luxury', 'other', 'outdoor_ratio', 'outdoor_score',\n",
       "       'pets_allowed', 'ph', 'price', 'price_feature_ratio', 'price_lux_ratio',\n",
       "       'price_per_feature', 'price_per_num_lux', 'price_per_room',\n",
       "       'prob_buildManager', 'prob_interest_building', 'prob_interest_manager',\n",
       "       'rooms', 'studio', 'townhome', 'walk_up'],\n",
       "      dtype='object')"
      ]
     },
     "execution_count": 6,
     "metadata": {},
     "output_type": "execute_result"
    }
   ],
   "source": [
    "# Load Typed Data with Building Manager Probability and Building Interest Probability of Interaction Terms\n",
    "df5 = pd.read_json('./typedData/compsTypedInteraction.json')\n",
    "grouped3 = df5.groupby(['type'])\n",
    "df5.select_dtypes(exclude=['object']).columns"
   ]
  },
  {
   "cell_type": "code",
   "execution_count": 7,
   "metadata": {},
   "outputs": [
    {
     "name": "stdout",
     "output_type": "stream",
     "text": [
      "Score of SVM on apartment with interaction terms = 0.666264414052\n",
      "Score of SVM on condominium with interaction terms = 0.686440677966\n",
      "Score of SVM on loft with interaction terms = 0.735294117647\n",
      "Score of SVM on other with interaction terms = 0.751950497713\n",
      "Score of SVM on ph with interaction terms = 0.630901287554\n",
      "Score of SVM on studio with interaction terms = 0.645408163265\n",
      "Score of SVM on townhome with interaction terms = 0.669421487603\n",
      "Score of SVM on walk_up with interaction terms = 0.6125\n"
     ]
    }
   ],
   "source": [
    "for name, group in grouped3:\n",
    "    typed = grouped3.get_group(name).copy()\n",
    "    typed.drop(['other','ph','apartment','townhome','type','condominium','loft','walk_up','foundType','listing_id'],axis=1, inplace=True)\n",
    "    # Split into Training and Test Sets\n",
    "    X_tr_typed, X_test_typed, Y_tr_typed, Y_test_typed = train_test_split(typed.drop(['interest_level'],axis=1), typed['interest_level'], test_size=0.3, random_state=42)\n",
    "    X_tr_typed_wo_obj = X_tr_typed.select_dtypes(exclude=['object'])\n",
    "    X_tr_typed_wo_obj = X_tr_typed_wo_obj.drop(['interestVal'],axis=1)\n",
    "    X_test_typed_wo_obj = X_test_typed.select_dtypes(exclude=['object'])\n",
    "    X_test_typed_wo_obj = X_test_typed_wo_obj.drop(['interestVal'],axis=1)\n",
    "\n",
    "    # Fit SVM to Specific Lisitng Type with Interaction Terms\n",
    "    svm_model_typed = SVC()\n",
    "    svm_fit_typed = svm_model_typed.fit(X_tr_typed_wo_obj, Y_tr_typed)\n",
    "    \n",
    "    # Predict Studio Test Data with SVM\n",
    "    print('Score of SVM on %s with interaction terms = %s' % (name, svm_model_typed.score(X_test_typed_wo_obj, Y_test_typed)))"
   ]
  },
  {
   "cell_type": "markdown",
   "metadata": {},
   "source": [
    "With a reduced number of features, we get the following improvements/non-improvements in percent accuracy by type:\n",
    "\n",
    "Apartment: -0.97%"
   ]
  },
  {
   "cell_type": "markdown",
   "metadata": {
    "collapsed": true
   },
   "source": [
    "Condominium: -0.85%"
   ]
  },
  {
   "cell_type": "markdown",
   "metadata": {},
   "source": [
    "Loft: -1.47%"
   ]
  },
  {
   "cell_type": "markdown",
   "metadata": {},
   "source": [
    "Other: -0.48%"
   ]
  },
  {
   "cell_type": "markdown",
   "metadata": {},
   "source": [
    "Penthouse: -1.29%"
   ]
  },
  {
   "cell_type": "markdown",
   "metadata": {},
   "source": [
    "Studio: 1.02%"
   ]
  },
  {
   "cell_type": "markdown",
   "metadata": {},
   "source": [
    "Townhome: -0.83%"
   ]
  },
  {
   "cell_type": "markdown",
   "metadata": {},
   "source": [
    "Walk up: 3.75%"
   ]
  },
  {
   "cell_type": "markdown",
   "metadata": {},
   "source": [
    "In general, reducing the number of features causes a regression in percent accuracy.  Thus, using all the interaction terms keeps the percent accuracy higher."
   ]
  },
  {
   "cell_type": "code",
   "execution_count": null,
   "metadata": {
    "collapsed": true
   },
   "outputs": [],
   "source": []
  }
 ],
 "metadata": {
  "kernelspec": {
   "display_name": "Python 3",
   "language": "python",
   "name": "python3"
  },
  "language_info": {
   "codemirror_mode": {
    "name": "ipython",
    "version": 3
   },
   "file_extension": ".py",
   "mimetype": "text/x-python",
   "name": "python",
   "nbconvert_exporter": "python",
   "pygments_lexer": "ipython3",
   "version": "3.6.1"
  }
 },
 "nbformat": 4,
 "nbformat_minor": 2
}
