{
 "cells": [
  {
   "cell_type": "code",
   "execution_count": 11,
   "metadata": {
    "collapsed": true
   },
   "outputs": [],
   "source": [
    "import pandas as pd\n",
    "import numpy as np\n",
    "import seaborn as sns\n",
    "import matplotlib.pyplot as plt\n",
    "% matplotlib inline\n",
    "\n"
   ]
  },
  {
   "cell_type": "code",
   "execution_count": 2,
   "metadata": {
    "collapsed": false
   },
   "outputs": [],
   "source": [
    "df = pd.read_json('../typedData/compsTypedInteraction.json')"
   ]
  },
  {
   "cell_type": "code",
   "execution_count": 3,
   "metadata": {
    "collapsed": false
   },
   "outputs": [
    {
     "name": "stdout",
     "output_type": "stream",
     "text": [
      "<class 'pandas.core.frame.DataFrame'>\n",
      "Int64Index: 41918 entries, 0 to 9999\n",
      "Data columns (total 75 columns):\n",
      "Balcony                   41918 non-null int64\n",
      "Cats_Allowed              41918 non-null int64\n",
      "Common_Outdoor_Space      41918 non-null int64\n",
      "Dining_Room               41918 non-null int64\n",
      "Dishwasher                41918 non-null int64\n",
      "Dogs_Allowed              41918 non-null int64\n",
      "Doorman                   41918 non-null int64\n",
      "Elevator                  41918 non-null int64\n",
      "Exclusive                 41918 non-null int64\n",
      "Fitness_Center            41918 non-null int64\n",
      "Garden_Patio              41918 non-null int64\n",
      "Hardwood_Floors           41918 non-null int64\n",
      "High_Speed_Internet       41918 non-null int64\n",
      "Laundry_in_Unit           41918 non-null int64\n",
      "New_Construction          41918 non-null int64\n",
      "No_Fee                    41918 non-null int64\n",
      "Outdoor_Space             41918 non-null int64\n",
      "Pre_War                   41918 non-null int64\n",
      "Roof_Deck                 41918 non-null int64\n",
      "Swimming_Pool             41918 non-null int64\n",
      "Terrace                   41918 non-null int64\n",
      "Wheelchair_Access         41918 non-null int64\n",
      "ada                       41918 non-null int64\n",
      "apartment                 41918 non-null int64\n",
      "avg_lux_score             41918 non-null float64\n",
      "avg_num_features          41918 non-null float64\n",
      "avg_num_luxury            41918 non-null float64\n",
      "avg_outdoor_score         41918 non-null float64\n",
      "avg_price_per_feature     41918 non-null float64\n",
      "avg_price_per_num_lux     41918 non-null float64\n",
      "bathrooms                 41918 non-null float64\n",
      "bedrooms                  41918 non-null int64\n",
      "building_id               41918 non-null object\n",
      "condominium               41918 non-null int64\n",
      "created                   41918 non-null object\n",
      "description               41918 non-null object\n",
      "display_address           41918 non-null object\n",
      "door_excl                 41918 non-null int64\n",
      "features                  41918 non-null object\n",
      "fitness_oriented          41918 non-null int64\n",
      "foundType                 41918 non-null bool\n",
      "interestVal               41918 non-null float64\n",
      "interest_level            41918 non-null object\n",
      "latitude                  41918 non-null float64\n",
      "laundry_in_building       41918 non-null int64\n",
      "listing_id                41918 non-null int64\n",
      "loft                      41918 non-null int64\n",
      "longitude                 41918 non-null float64\n",
      "lux_per_dollar            41918 non-null float64\n",
      "lux_ratio                 41918 non-null float64\n",
      "lux_score                 41918 non-null float64\n",
      "manager_id                41918 non-null object\n",
      "numPhotos                 41918 non-null int64\n",
      "num_features              41918 non-null int64\n",
      "num_luxury                41918 non-null int64\n",
      "other                     41918 non-null int64\n",
      "outdoor_ratio             41918 non-null float64\n",
      "outdoor_score             41918 non-null float64\n",
      "pets_allowed              41918 non-null int64\n",
      "ph                        41918 non-null int64\n",
      "price                     41918 non-null int64\n",
      "price_feature_ratio       41918 non-null float64\n",
      "price_lux_ratio           41918 non-null float64\n",
      "price_per_feature         41918 non-null float64\n",
      "price_per_num_lux         41918 non-null float64\n",
      "price_per_room            41918 non-null float64\n",
      "prob_buildManager         41918 non-null float64\n",
      "prob_interest_building    41918 non-null float64\n",
      "prob_interest_manager     41918 non-null float64\n",
      "rooms                     41918 non-null float64\n",
      "street_address            41918 non-null object\n",
      "studio                    41918 non-null int64\n",
      "townhome                  41918 non-null int64\n",
      "type                      41918 non-null object\n",
      "walk_up                   41918 non-null int64\n",
      "dtypes: bool(1), float64(24), int64(41), object(9)\n",
      "memory usage: 24.0+ MB\n"
     ]
    }
   ],
   "source": [
    "df.info()"
   ]
  },
  {
   "cell_type": "code",
   "execution_count": 9,
   "metadata": {
    "collapsed": false
   },
   "outputs": [
    {
     "data": {
      "text/plain": [
       "<matplotlib.legend.Legend at 0x14055e240>"
      ]
     },
     "execution_count": 9,
     "metadata": {},
     "output_type": "execute_result"
    },
    {
     "data": {
      "image/png": "[encoded data removed]",
      "text/plain": [
       "<matplotlib.figure.Figure at 0x14069f0f0>"
      ]
     },
     "metadata": {},
     "output_type": "display_data"
    }
   ],
   "source": [
    "for i in df['interest_level'].unique():\n",
    "    sns.distplot(df[df['interest_level']==i]['prob_interest_manager'], label=i)\n",
    "\n",
    "plt.axvline(.15)\n",
    "plt.axvline(.35)\n",
    "plt.legend()"
   ]
  },
  {
   "cell_type": "code",
   "execution_count": 7,
   "metadata": {
    "collapsed": false
   },
   "outputs": [
    {
     "data": {
      "text/plain": [
       "<matplotlib.legend.Legend at 0x14656a128>"
      ]
     },
     "execution_count": 7,
     "metadata": {},
     "output_type": "execute_result"
    },
    {
     "data": {
      "image/png": "[encoded data removed]",
      "text/plain": [
       "<matplotlib.figure.Figure at 0x14770c390>"
      ]
     },
     "metadata": {},
     "output_type": "display_data"
    }
   ],
   "source": [
    "for i in df['interest_level'].unique():\n",
    "    sns.distplot(df[df['interest_level']==i]['prob_interest_building'], label=i)\n",
    "\n",
    "plt.axvline(.4)\n",
    "plt.axvline(.6)\n",
    "plt.legend()"
   ]
  },
  {
   "cell_type": "code",
   "execution_count": 17,
   "metadata": {
    "collapsed": false
   },
   "outputs": [
    {
     "data": {
      "image/png": "[encoded data removed]",
      "text/plain": [
       "<matplotlib.figure.Figure at 0x14030e940>"
      ]
     },
     "metadata": {},
     "output_type": "display_data"
    }
   ],
   "source": [
    "for i in df['interest_level'].unique():\n",
    "    sns.distplot(df[df['interest_level']==i]['prob_buildManager'], label=i)\n",
    "\n",
    "plt.axvline(.2)\n",
    "plt.axvline(.52)\n",
    "plt.legend()\n",
    "plt.title('Interest Level vs. Expected Interest Level')\n",
    "plt.savefig('../interestLevel.png')"
   ]
  },
  {
   "cell_type": "markdown",
   "metadata": {},
   "source": [
    "Using pure linear classification at .2, and .52, we are able to achieve 86% accuracy."
   ]
  },
  {
   "cell_type": "code",
   "execution_count": 13,
   "metadata": {
    "collapsed": false,
    "scrolled": true
   },
   "outputs": [
    {
     "data": {
      "text/plain": [
       "<matplotlib.colorbar.Colorbar at 0x14033f780>"
      ]
     },
     "execution_count": 13,
     "metadata": {},
     "output_type": "execute_result"
    },
    {
     "data": {
      "image/png": "[encoded data removed]",
      "text/plain": [
       "<matplotlib.figure.Figure at 0x1404bcbe0>"
      ]
     },
     "metadata": {},
     "output_type": "display_data"
    }
   ],
   "source": [
    "plt.scatter(df['latitude'], df['longitude'], c=df['prob_buildManager'], cmap='coolwarm')\n",
    "plt.xlim([40.5,41])\n",
    "plt.ylim([-74.2, -73.8])\n",
    "plt.colorbar()"
   ]
  },
  {
   "cell_type": "code",
   "execution_count": 46,
   "metadata": {
    "collapsed": true
   },
   "outputs": [],
   "source": [
    "from sklearn.neighbors import KNeighborsClassifier as KNN\n",
    "from sklearn.model_selection import train_test_split"
   ]
  },
  {
   "cell_type": "code",
   "execution_count": 53,
   "metadata": {
    "collapsed": false
   },
   "outputs": [],
   "source": [
    "X_train, X_test, y_train, y_test = train_test_split(df[['longitude', 'longitude']], df['interest_level'], test_size=0.33, random_state=42)"
   ]
  },
  {
   "cell_type": "code",
   "execution_count": 54,
   "metadata": {
    "collapsed": true
   },
   "outputs": [],
   "source": [
    "knn = KNN(n_neighbors=10)"
   ]
  },
  {
   "cell_type": "code",
   "execution_count": 56,
   "metadata": {
    "collapsed": false
   },
   "outputs": [],
   "source": [
    "acc = []\n",
    "for nn in range(1, 40):\n",
    "    knn = KNN(n_neighbors=nn)\n",
    "    knn.fit(X_train, y_train)\n",
    "    preds = knn.predict(X_test)\n",
    "    acc.append((preds==y_test).sum()/len(preds))"
   ]
  },
  {
   "cell_type": "code",
   "execution_count": 62,
   "metadata": {
    "collapsed": false
   },
   "outputs": [
    {
     "ename": "TypeError",
     "evalue": "only integer scalar arrays can be converted to a scalar index",
     "output_type": "error",
     "traceback": [
      "\u001b[0;31m---------------------------------------------------------------------------\u001b[0m",
      "\u001b[0;31mTypeError\u001b[0m                                 Traceback (most recent call last)",
      "\u001b[0;32m<ipython-input-62-a0ac6ea37e80>\u001b[0m in \u001b[0;36m<module>\u001b[0;34m()\u001b[0m\n\u001b[0;32m----> 1\u001b[0;31m \u001b[0macc\u001b[0m\u001b[0;34m[\u001b[0m\u001b[0macc\u001b[0m\u001b[0;34m>\u001b[0m\u001b[0mnp\u001b[0m\u001b[0;34m.\u001b[0m\u001b[0mmax\u001b[0m\u001b[0;34m(\u001b[0m\u001b[0macc\u001b[0m\u001b[0;34m)\u001b[0m\u001b[0;34m*\u001b[0m\u001b[0;36m.99\u001b[0m\u001b[0;34m]\u001b[0m\u001b[0;34m\u001b[0m\u001b[0m\n\u001b[0m",
      "\u001b[0;31mTypeError\u001b[0m: only integer scalar arrays can be converted to a scalar index"
     ]
    }
   ],
   "source": [
    "acc[acc>np.max(acc)*.99]"
   ]
  },
  {
   "cell_type": "code",
   "execution_count": 57,
   "metadata": {
    "collapsed": false
   },
   "outputs": [
    {
     "data": {
      "text/plain": [
       "[<matplotlib.lines.Line2D at 0x1328d92e8>]"
      ]
     },
     "execution_count": 57,
     "metadata": {},
     "output_type": "execute_result"
    },
    {
     "data": {
      "image/png": "[encoded data removed]",
      "text/plain": [
       "<matplotlib.figure.Figure at 0x13296c828>"
      ]
     },
     "metadata": {},
     "output_type": "display_data"
    }
   ],
   "source": [
    "plt.plot(range(1, 40), acc)"
   ]
  },
  {
   "cell_type": "code",
   "execution_count": 63,
   "metadata": {
    "collapsed": true
   },
   "outputs": [],
   "source": [
    "from sklearn.metrics.pairwise import pairwise_distances"
   ]
  },
  {
   "cell_type": "code",
   "execution_count": 65,
   "metadata": {
    "collapsed": false
   },
   "outputs": [
    {
     "data": {
      "text/plain": [
       "Index(['Balcony', 'Cats_Allowed', 'Common_Outdoor_Space', 'Dining_Room',\n",
       "       'Dishwasher', 'Dogs_Allowed', 'Doorman', 'Elevator', 'Exclusive',\n",
       "       'Fitness_Center', 'Garden_Patio', 'Hardwood_Floors',\n",
       "       'High_Speed_Internet', 'Laundry_in_Unit', 'New_Construction', 'No_Fee',\n",
       "       'Outdoor_Space', 'Pre_War', 'Roof_Deck', 'Swimming_Pool', 'Terrace',\n",
       "       'Wheelchair_Access', 'ada', 'apartment', 'avg_lux_score',\n",
       "       'avg_num_features', 'avg_num_luxury', 'avg_outdoor_score',\n",
       "       'avg_price_per_feature', 'avg_price_per_num_lux', 'bathrooms',\n",
       "       'bedrooms', 'building_id', 'condominium', 'created', 'description',\n",
       "       'display_address', 'door_excl', 'features', 'fitness_oriented',\n",
       "       'foundType', 'interestVal', 'interest_level', 'latitude',\n",
       "       'laundry_in_building', 'listing_id', 'loft', 'longitude',\n",
       "       'lux_per_dollar', 'lux_ratio', 'lux_score', 'manager_id', 'numPhotos',\n",
       "       'num_features', 'num_luxury', 'other', 'outdoor_ratio', 'outdoor_score',\n",
       "       'pets_allowed', 'ph', 'price', 'price_feature_ratio', 'price_lux_ratio',\n",
       "       'price_per_feature', 'price_per_num_lux', 'price_per_room',\n",
       "       'prob_buildManager', 'prob_interest_building', 'prob_interest_manager',\n",
       "       'rooms', 'street_address', 'studio', 'townhome', 'type', 'walk_up'],\n",
       "      dtype='object')"
      ]
     },
     "execution_count": 65,
     "metadata": {},
     "output_type": "execute_result"
    }
   ],
   "source": [
    "df.columns"
   ]
  },
  {
   "cell_type": "code",
   "execution_count": 67,
   "metadata": {
    "collapsed": true
   },
   "outputs": [],
   "source": [
    "buildingChar = [\n",
    "        'Balcony', 'Cats_Allowed', 'Common_Outdoor_Space', 'Dining_Room',\n",
    "       'Dishwasher', 'Dogs_Allowed', 'Doorman', 'Elevator', 'Exclusive',\n",
    "       'Fitness_Center', 'Garden_Patio', 'Hardwood_Floors',\n",
    "       'High_Speed_Internet', 'Laundry_in_Unit', 'New_Construction', 'No_Fee',\n",
    "       'Outdoor_Space', 'Pre_War', 'Roof_Deck', 'Swimming_Pool', 'Terrace',\n",
    "       'Wheelchair_Access', 'ada', 'bathrooms', 'num_features', \n",
    "       'bedrooms', 'fitness_oriented', 'rooms',\n",
    "]\n",
    "\n",
    "building = df[buildingChar]"
   ]
  },
  {
   "cell_type": "code",
   "execution_count": 71,
   "metadata": {
    "collapsed": false
   },
   "outputs": [],
   "source": [
    "jac_sim = 1 - pairwise_distances(building.T, metric = \"hamming\")"
   ]
  },
  {
   "cell_type": "code",
   "execution_count": 73,
   "metadata": {
    "collapsed": false
   },
   "outputs": [],
   "source": [
    "jac_sim = pd.DataFrame(jac_sim, index=building.columns, columns=building.columns)"
   ]
  },
  {
   "cell_type": "code",
   "execution_count": 74,
   "metadata": {
    "collapsed": false
   },
   "outputs": [
    {
     "data": {
      "text/html": [
       "<div>\n",
       "<style>\n",
       "    .dataframe thead tr:only-child th {\n",
       "        text-align: right;\n",
       "    }\n",
       "\n",
       "    .dataframe thead th {\n",
       "        text-align: left;\n",
       "    }\n",
       "\n",
       "    .dataframe tbody tr th {\n",
       "        vertical-align: top;\n",
       "    }\n",
       "</style>\n",
       "<table border=\"1\" class=\"dataframe\">\n",
       "  <thead>\n",
       "    <tr style=\"text-align: right;\">\n",
       "      <th></th>\n",
       "      <th>Balcony</th>\n",
       "      <th>Cats_Allowed</th>\n",
       "      <th>Common_Outdoor_Space</th>\n",
       "      <th>Dining_Room</th>\n",
       "      <th>Dishwasher</th>\n",
       "      <th>Dogs_Allowed</th>\n",
       "      <th>Doorman</th>\n",
       "      <th>Elevator</th>\n",
       "      <th>Exclusive</th>\n",
       "      <th>Fitness_Center</th>\n",
       "      <th>...</th>\n",
       "      <th>Roof_Deck</th>\n",
       "      <th>Swimming_Pool</th>\n",
       "      <th>Terrace</th>\n",
       "      <th>Wheelchair_Access</th>\n",
       "      <th>ada</th>\n",
       "      <th>bathrooms</th>\n",
       "      <th>num_features</th>\n",
       "      <th>bedrooms</th>\n",
       "      <th>fitness_oriented</th>\n",
       "      <th>rooms</th>\n",
       "    </tr>\n",
       "  </thead>\n",
       "  <tbody>\n",
       "    <tr>\n",
       "      <th>Balcony</th>\n",
       "      <td>1.000000</td>\n",
       "      <td>0.523546</td>\n",
       "      <td>0.913641</td>\n",
       "      <td>0.883177</td>\n",
       "      <td>0.631042</td>\n",
       "      <td>0.551458</td>\n",
       "      <td>0.606470</td>\n",
       "      <td>0.518584</td>\n",
       "      <td>0.895725</td>\n",
       "      <td>0.729138</td>\n",
       "      <td>...</td>\n",
       "      <td>0.844244</td>\n",
       "      <td>0.902357</td>\n",
       "      <td>0.944916</td>\n",
       "      <td>0.917458</td>\n",
       "      <td>0.917768</td>\n",
       "      <td>0.041724</td>\n",
       "      <td>0.065223</td>\n",
       "      <td>0.198912</td>\n",
       "      <td>0.905077</td>\n",
       "      <td>0.010592</td>\n",
       "    </tr>\n",
       "    <tr>\n",
       "      <th>Cats_Allowed</th>\n",
       "      <td>0.523546</td>\n",
       "      <td>1.000000</td>\n",
       "      <td>0.537812</td>\n",
       "      <td>0.509447</td>\n",
       "      <td>0.480939</td>\n",
       "      <td>0.967699</td>\n",
       "      <td>0.548404</td>\n",
       "      <td>0.516151</td>\n",
       "      <td>0.526767</td>\n",
       "      <td>0.567250</td>\n",
       "      <td>...</td>\n",
       "      <td>0.525478</td>\n",
       "      <td>0.521995</td>\n",
       "      <td>0.521423</td>\n",
       "      <td>0.526886</td>\n",
       "      <td>0.526862</td>\n",
       "      <td>0.384942</td>\n",
       "      <td>0.070638</td>\n",
       "      <td>0.261940</td>\n",
       "      <td>0.524619</td>\n",
       "      <td>0.091560</td>\n",
       "    </tr>\n",
       "    <tr>\n",
       "      <th>Common_Outdoor_Space</th>\n",
       "      <td>0.913641</td>\n",
       "      <td>0.537812</td>\n",
       "      <td>1.000000</td>\n",
       "      <td>0.870724</td>\n",
       "      <td>0.568873</td>\n",
       "      <td>0.566964</td>\n",
       "      <td>0.593301</td>\n",
       "      <td>0.494489</td>\n",
       "      <td>0.933990</td>\n",
       "      <td>0.745694</td>\n",
       "      <td>...</td>\n",
       "      <td>0.846009</td>\n",
       "      <td>0.919533</td>\n",
       "      <td>0.927931</td>\n",
       "      <td>0.946658</td>\n",
       "      <td>0.946968</td>\n",
       "      <td>0.027745</td>\n",
       "      <td>0.065246</td>\n",
       "      <td>0.193568</td>\n",
       "      <td>0.924400</td>\n",
       "      <td>0.009018</td>\n",
       "    </tr>\n",
       "    <tr>\n",
       "      <th>Dining_Room</th>\n",
       "      <td>0.883177</td>\n",
       "      <td>0.509447</td>\n",
       "      <td>0.870724</td>\n",
       "      <td>1.000000</td>\n",
       "      <td>0.675915</td>\n",
       "      <td>0.535450</td>\n",
       "      <td>0.622859</td>\n",
       "      <td>0.541844</td>\n",
       "      <td>0.851520</td>\n",
       "      <td>0.731929</td>\n",
       "      <td>...</td>\n",
       "      <td>0.830049</td>\n",
       "      <td>0.874946</td>\n",
       "      <td>0.890262</td>\n",
       "      <td>0.884703</td>\n",
       "      <td>0.884966</td>\n",
       "      <td>0.061740</td>\n",
       "      <td>0.065223</td>\n",
       "      <td>0.204471</td>\n",
       "      <td>0.877284</td>\n",
       "      <td>0.011236</td>\n",
       "    </tr>\n",
       "    <tr>\n",
       "      <th>Dishwasher</th>\n",
       "      <td>0.631042</td>\n",
       "      <td>0.480939</td>\n",
       "      <td>0.568873</td>\n",
       "      <td>0.675915</td>\n",
       "      <td>1.000000</td>\n",
       "      <td>0.487619</td>\n",
       "      <td>0.668591</td>\n",
       "      <td>0.667398</td>\n",
       "      <td>0.557255</td>\n",
       "      <td>0.661959</td>\n",
       "      <td>...</td>\n",
       "      <td>0.667040</td>\n",
       "      <td>0.622000</td>\n",
       "      <td>0.620473</td>\n",
       "      <td>0.605277</td>\n",
       "      <td>0.605158</td>\n",
       "      <td>0.303211</td>\n",
       "      <td>0.066511</td>\n",
       "      <td>0.248151</td>\n",
       "      <td>0.619662</td>\n",
       "      <td>0.064316</td>\n",
       "    </tr>\n",
       "  </tbody>\n",
       "</table>\n",
       "<p>5 rows × 28 columns</p>\n",
       "</div>"
      ],
      "text/plain": [
       "                       Balcony  Cats_Allowed  Common_Outdoor_Space  \\\n",
       "Balcony               1.000000      0.523546              0.913641   \n",
       "Cats_Allowed          0.523546      1.000000              0.537812   \n",
       "Common_Outdoor_Space  0.913641      0.537812              1.000000   \n",
       "Dining_Room           0.883177      0.509447              0.870724   \n",
       "Dishwasher            0.631042      0.480939              0.568873   \n",
       "\n",
       "                      Dining_Room  Dishwasher  Dogs_Allowed   Doorman  \\\n",
       "Balcony                  0.883177    0.631042      0.551458  0.606470   \n",
       "Cats_Allowed             0.509447    0.480939      0.967699  0.548404   \n",
       "Common_Outdoor_Space     0.870724    0.568873      0.566964  0.593301   \n",
       "Dining_Room              1.000000    0.675915      0.535450  0.622859   \n",
       "Dishwasher               0.675915    1.000000      0.487619  0.668591   \n",
       "\n",
       "                      Elevator  Exclusive  Fitness_Center    ...     \\\n",
       "Balcony               0.518584   0.895725        0.729138    ...      \n",
       "Cats_Allowed          0.516151   0.526767        0.567250    ...      \n",
       "Common_Outdoor_Space  0.494489   0.933990        0.745694    ...      \n",
       "Dining_Room           0.541844   0.851520        0.731929    ...      \n",
       "Dishwasher            0.667398   0.557255        0.661959    ...      \n",
       "\n",
       "                      Roof_Deck  Swimming_Pool   Terrace  Wheelchair_Access  \\\n",
       "Balcony                0.844244       0.902357  0.944916           0.917458   \n",
       "Cats_Allowed           0.525478       0.521995  0.521423           0.526886   \n",
       "Common_Outdoor_Space   0.846009       0.919533  0.927931           0.946658   \n",
       "Dining_Room            0.830049       0.874946  0.890262           0.884703   \n",
       "Dishwasher             0.667040       0.622000  0.620473           0.605277   \n",
       "\n",
       "                           ada  bathrooms  num_features  bedrooms  \\\n",
       "Balcony               0.917768   0.041724      0.065223  0.198912   \n",
       "Cats_Allowed          0.526862   0.384942      0.070638  0.261940   \n",
       "Common_Outdoor_Space  0.946968   0.027745      0.065246  0.193568   \n",
       "Dining_Room           0.884966   0.061740      0.065223  0.204471   \n",
       "Dishwasher            0.605158   0.303211      0.066511  0.248151   \n",
       "\n",
       "                      fitness_oriented     rooms  \n",
       "Balcony                       0.905077  0.010592  \n",
       "Cats_Allowed                  0.524619  0.091560  \n",
       "Common_Outdoor_Space          0.924400  0.009018  \n",
       "Dining_Room                   0.877284  0.011236  \n",
       "Dishwasher                    0.619662  0.064316  \n",
       "\n",
       "[5 rows x 28 columns]"
      ]
     },
     "execution_count": 74,
     "metadata": {},
     "output_type": "execute_result"
    }
   ],
   "source": [
    "jac_sim.head()"
   ]
  },
  {
   "cell_type": "code",
   "execution_count": null,
   "metadata": {
    "collapsed": true
   },
   "outputs": [],
   "source": []
  },
  {
   "cell_type": "code",
   "execution_count": 283,
   "metadata": {
    "collapsed": false
   },
   "outputs": [],
   "source": [
    "def classify(x):\n",
    "    if x < .2:\n",
    "        return 'low'\n",
    "    elif x<.52:\n",
    "        return 'medium'\n",
    "    else:\n",
    "        return 'high'"
   ]
  },
  {
   "cell_type": "code",
   "execution_count": 284,
   "metadata": {
    "collapsed": false
   },
   "outputs": [],
   "source": [
    "preds = df['prob_buildManager'].apply(classify)"
   ]
  },
  {
   "cell_type": "code",
   "execution_count": 285,
   "metadata": {
    "collapsed": false
   },
   "outputs": [
    {
     "name": "stdout",
     "output_type": "stream",
     "text": [
      "             precision    recall  f1-score   support\n",
      "\n",
      "       high       0.80      0.74      0.77      3540\n",
      "        low       0.89      0.97      0.93     26903\n",
      "     medium       0.83      0.69      0.75     11475\n",
      "\n",
      "avg / total       0.87      0.87      0.87     41918\n",
      "\n"
     ]
    }
   ],
   "source": [
    "print(classification_report(preds, df['interest_level']))"
   ]
  },
  {
   "cell_type": "code",
   "execution_count": 261,
   "metadata": {
    "collapsed": true
   },
   "outputs": [],
   "source": [
    "df.to_json('./typedData/compsTypedInteraction.json')"
   ]
  },
  {
   "cell_type": "code",
   "execution_count": 262,
   "metadata": {
    "collapsed": false,
    "scrolled": false
   },
   "outputs": [
    {
     "name": "stdout",
     "output_type": "stream",
     "text": [
      "<class 'pandas.core.frame.DataFrame'>\n",
      "Int64Index: 41918 entries, 0 to 41917\n",
      "Data columns (total 75 columns):\n",
      "Balcony                   41918 non-null int64\n",
      "Cats_Allowed              41918 non-null int64\n",
      "Common_Outdoor_Space      41918 non-null int64\n",
      "Dining_Room               41918 non-null int64\n",
      "Dishwasher                41918 non-null int64\n",
      "Dogs_Allowed              41918 non-null int64\n",
      "Doorman                   41918 non-null int64\n",
      "Elevator                  41918 non-null int64\n",
      "Exclusive                 41918 non-null int64\n",
      "Fitness_Center            41918 non-null int64\n",
      "Garden_Patio              41918 non-null int64\n",
      "Hardwood_Floors           41918 non-null int64\n",
      "High_Speed_Internet       41918 non-null int64\n",
      "Laundry_in_Unit           41918 non-null int64\n",
      "New_Construction          41918 non-null int64\n",
      "No_Fee                    41918 non-null int64\n",
      "Outdoor_Space             41918 non-null int64\n",
      "Pre_War                   41918 non-null int64\n",
      "Roof_Deck                 41918 non-null int64\n",
      "Swimming_Pool             41918 non-null int64\n",
      "Terrace                   41918 non-null int64\n",
      "Wheelchair_Access         41918 non-null int64\n",
      "ada                       41918 non-null int64\n",
      "apartment                 41918 non-null int64\n",
      "avg_lux_score             41918 non-null float64\n",
      "avg_num_features          41918 non-null float64\n",
      "avg_num_luxury            41918 non-null float64\n",
      "avg_outdoor_score         41918 non-null float64\n",
      "avg_price_per_feature     41918 non-null float64\n",
      "avg_price_per_num_lux     41918 non-null float64\n",
      "bathrooms                 41918 non-null float64\n",
      "bedrooms                  41918 non-null int64\n",
      "building_id               41918 non-null object\n",
      "condominium               41918 non-null int64\n",
      "created                   41918 non-null object\n",
      "description               41918 non-null object\n",
      "display_address           41918 non-null object\n",
      "door_excl                 41918 non-null int64\n",
      "features                  41918 non-null object\n",
      "fitness_oriented          41918 non-null int64\n",
      "foundType                 41918 non-null bool\n",
      "interestVal               41918 non-null float64\n",
      "interest_level            41918 non-null object\n",
      "latitude                  41918 non-null float64\n",
      "laundry_in_building       41918 non-null int64\n",
      "listing_id                41918 non-null int64\n",
      "loft                      41918 non-null int64\n",
      "longitude                 41918 non-null float64\n",
      "lux_per_dollar            41918 non-null float64\n",
      "lux_ratio                 41918 non-null float64\n",
      "lux_score                 41918 non-null float64\n",
      "manager_id                41918 non-null object\n",
      "numPhotos                 41918 non-null int64\n",
      "num_features              41918 non-null int64\n",
      "num_luxury                41918 non-null int64\n",
      "other                     41918 non-null int64\n",
      "outdoor_ratio             41918 non-null float64\n",
      "outdoor_score             41918 non-null float64\n",
      "pets_allowed              41918 non-null int64\n",
      "ph                        41918 non-null int64\n",
      "price                     41918 non-null int64\n",
      "price_feature_ratio       41918 non-null float64\n",
      "price_lux_ratio           41918 non-null float64\n",
      "price_per_feature         41918 non-null float64\n",
      "price_per_num_lux         41918 non-null float64\n",
      "street_address            41918 non-null object\n",
      "studio                    41918 non-null int64\n",
      "townhome                  41918 non-null int64\n",
      "type                      41918 non-null object\n",
      "walk_up                   41918 non-null int64\n",
      "prob_interest_manager     41918 non-null float64\n",
      "prob_interest_building    41918 non-null float64\n",
      "rooms                     41918 non-null float64\n",
      "price_per_room            41918 non-null float64\n",
      "prob_buildManager         41918 non-null float64\n",
      "dtypes: bool(1), float64(24), int64(41), object(9)\n",
      "memory usage: 25.3+ MB\n"
     ]
    }
   ],
   "source": [
    "df.info()"
   ]
  },
  {
   "cell_type": "code",
   "execution_count": 263,
   "metadata": {
    "collapsed": true
   },
   "outputs": [],
   "source": [
    "from sklearn.neighbors import KNeighborsClassifier as KNN\n",
    "from sklearn.model_selection import train_test_split\n",
    "from sklearn.metrics import classification_report, confusion_matrix"
   ]
  },
  {
   "cell_type": "code",
   "execution_count": 264,
   "metadata": {
    "collapsed": true
   },
   "outputs": [],
   "source": [
    "data = df.drop('interestVal', axis=1).select_dtypes(exclude=['object'])"
   ]
  },
  {
   "cell_type": "code",
   "execution_count": 265,
   "metadata": {
    "collapsed": true
   },
   "outputs": [],
   "source": [
    "X_train, X_test, y_train, y_test = train_test_split(data, df['interest_level'], test_size=0.33, random_state=42)"
   ]
  },
  {
   "cell_type": "markdown",
   "metadata": {},
   "source": [
    "knn = KNN(n_neighbors=10, weights='distance', algorithm='auto')\n",
    "knn.fit(X_train, y_train)\n",
    "preds = knn.predict(X_test)\n",
    "print(classification_report(preds, y_test))"
   ]
  },
  {
   "cell_type": "markdown",
   "metadata": {},
   "source": [
    "knn = KNN(n_neighbors=10, weights='uniform', algorithm='auto')\n",
    "knn.fit(X_train, y_train)\n",
    "preds = knn.predict(X_test)\n",
    "cr = classification_report(preds, y_test)\n",
    "print(cr)"
   ]
  },
  {
   "cell_type": "code",
   "execution_count": 268,
   "metadata": {
    "collapsed": true
   },
   "outputs": [],
   "source": [
    "accuracyUniform = []\n",
    "for nn in range(1, 25):\n",
    "    knn = KNN(n_neighbors=nn, weights='uniform', algorithm='auto')\n",
    "    knn.fit(X_train, y_train)\n",
    "    preds = knn.predict(X_test)\n",
    "    accuracyUniform.append((preds==y_test).sum()/len(preds))"
   ]
  },
  {
   "cell_type": "markdown",
   "metadata": {
    "collapsed": true
   },
   "source": [
    "accuracyDistance = []\n",
    "for nn in range(1, 25):\n",
    "    knn = KNN(n_neighbors=nn, weights='distance', algorithm='auto')\n",
    "    knn.fit(X_train, y_train)\n",
    "    preds = knn.predict(X_test)\n",
    "    accuracyDistance.append((preds==y_test).sum()/len(preds))"
   ]
  },
  {
   "cell_type": "code",
   "execution_count": 282,
   "metadata": {
    "collapsed": true
   },
   "outputs": [],
   "source": [
    "import seaborn as sns\n",
    "import matplotlib.pyplot as plt\n",
    "% matplotlib inline\n",
    "\n",
    "sns.set_context('poster')"
   ]
  },
  {
   "cell_type": "code",
   "execution_count": 270,
   "metadata": {
    "collapsed": false
   },
   "outputs": [
    {
     "data": {
      "text/plain": [
       "3"
      ]
     },
     "execution_count": 270,
     "metadata": {},
     "output_type": "execute_result"
    }
   ],
   "source": [
    "accuracyDistance.index(np.max(accuracyDistance))"
   ]
  },
  {
   "cell_type": "code",
   "execution_count": 271,
   "metadata": {
    "collapsed": false
   },
   "outputs": [
    {
     "data": {
      "text/plain": [
       "<matplotlib.legend.Legend at 0x133ea0518>"
      ]
     },
     "execution_count": 271,
     "metadata": {},
     "output_type": "execute_result"
    },
    {
     "data": {
      "image/png": "[encoded data removed]",
      "text/plain": [
       "<matplotlib.figure.Figure at 0x133e7bf28>"
      ]
     },
     "metadata": {},
     "output_type": "display_data"
    }
   ],
   "source": [
    "#plt.plot(range(1, 25), accuracyDistance, label='Distance')\n",
    "plt.plot(range(1, 25), accuracyUniform, label='Uniform')\n",
    "plt.legend()"
   ]
  },
  {
   "cell_type": "markdown",
   "metadata": {},
   "source": [
    "knn = KNN(n_neighbors=22, weights='uniform', algorithm='auto')\n",
    "knn.fit(X_train, y_train)\n",
    "preds = knn.predict(X_test)\n",
    "print(classification_report(preds, y_test))"
   ]
  },
  {
   "cell_type": "markdown",
   "metadata": {},
   "source": [
    "print(confusion_matrix(preds, y_test))"
   ]
  },
  {
   "cell_type": "code",
   "execution_count": 272,
   "metadata": {
    "collapsed": false
   },
   "outputs": [
    {
     "data": {
      "text/plain": [
       "Index(['Balcony', 'Cats_Allowed', 'Common_Outdoor_Space', 'Dining_Room',\n",
       "       'Dishwasher', 'Dogs_Allowed', 'Doorman', 'Elevator', 'Exclusive',\n",
       "       'Fitness_Center', 'Garden_Patio', 'Hardwood_Floors',\n",
       "       'High_Speed_Internet', 'Laundry_in_Unit', 'New_Construction', 'No_Fee',\n",
       "       'Outdoor_Space', 'Pre_War', 'Roof_Deck', 'Swimming_Pool', 'Terrace',\n",
       "       'Wheelchair_Access', 'ada', 'apartment', 'avg_lux_score',\n",
       "       'avg_num_features', 'avg_num_luxury', 'avg_outdoor_score',\n",
       "       'avg_price_per_feature', 'avg_price_per_num_lux', 'bathrooms',\n",
       "       'bedrooms', 'building_id', 'condominium', 'created', 'description',\n",
       "       'display_address', 'door_excl', 'features', 'fitness_oriented',\n",
       "       'foundType', 'interestVal', 'interest_level', 'latitude',\n",
       "       'laundry_in_building', 'listing_id', 'loft', 'longitude',\n",
       "       'lux_per_dollar', 'lux_ratio', 'lux_score', 'manager_id', 'numPhotos',\n",
       "       'num_features', 'num_luxury', 'other', 'outdoor_ratio', 'outdoor_score',\n",
       "       'pets_allowed', 'ph', 'price', 'price_feature_ratio', 'price_lux_ratio',\n",
       "       'price_per_feature', 'price_per_num_lux', 'street_address', 'studio',\n",
       "       'townhome', 'type', 'walk_up', 'prob_interest_manager',\n",
       "       'prob_interest_building', 'rooms', 'price_per_room',\n",
       "       'prob_buildManager'],\n",
       "      dtype='object')"
      ]
     },
     "execution_count": 272,
     "metadata": {},
     "output_type": "execute_result"
    }
   ],
   "source": [
    "df.columns"
   ]
  },
  {
   "cell_type": "code",
   "execution_count": 276,
   "metadata": {
    "collapsed": false
   },
   "outputs": [],
   "source": [
    "simple = df[['Hardwood_Floors', 'High_Speed_Internet', 'Laundry_in_Unit', 'No_Fee', 'avg_num_features',\n",
    "            'avg_num_luxury', 'avg_outdoor_score', 'avg_price_per_feature', 'avg_price_per_num_lux', 'bathrooms', \n",
    "            'bedrooms', 'condominium', 'interestVal', 'interest_level', 'laundry_in_building', 'loft', \n",
    "            'lux_ratio', 'lux_score', 'numPhotos', 'ph', 'pets_allowed', 'price_feature_ratio', 'townhome',\n",
    "             'walk_up', 'prob_interest_manager', 'prob_interest_building', 'rooms', 'price_per_room', 'prob_buildManager'\n",
    "            ]]"
   ]
  },
  {
   "cell_type": "code",
   "execution_count": 277,
   "metadata": {
    "collapsed": false
   },
   "outputs": [
    {
     "name": "stdout",
     "output_type": "stream",
     "text": [
      "<class 'pandas.core.frame.DataFrame'>\n",
      "Int64Index: 41918 entries, 0 to 41917\n",
      "Data columns (total 29 columns):\n",
      "Hardwood_Floors           41918 non-null int64\n",
      "High_Speed_Internet       41918 non-null int64\n",
      "Laundry_in_Unit           41918 non-null int64\n",
      "No_Fee                    41918 non-null int64\n",
      "avg_num_features          41918 non-null float64\n",
      "avg_num_luxury            41918 non-null float64\n",
      "avg_outdoor_score         41918 non-null float64\n",
      "avg_price_per_feature     41918 non-null float64\n",
      "avg_price_per_num_lux     41918 non-null float64\n",
      "bathrooms                 41918 non-null float64\n",
      "bedrooms                  41918 non-null int64\n",
      "condominium               41918 non-null int64\n",
      "interestVal               41918 non-null float64\n",
      "interest_level            41918 non-null object\n",
      "laundry_in_building       41918 non-null int64\n",
      "loft                      41918 non-null int64\n",
      "lux_ratio                 41918 non-null float64\n",
      "lux_score                 41918 non-null float64\n",
      "numPhotos                 41918 non-null int64\n",
      "ph                        41918 non-null int64\n",
      "pets_allowed              41918 non-null int64\n",
      "price_feature_ratio       41918 non-null float64\n",
      "townhome                  41918 non-null int64\n",
      "walk_up                   41918 non-null int64\n",
      "prob_interest_manager     41918 non-null float64\n",
      "prob_interest_building    41918 non-null float64\n",
      "rooms                     41918 non-null float64\n",
      "price_per_room            41918 non-null float64\n",
      "prob_buildManager         41918 non-null float64\n",
      "dtypes: float64(15), int64(13), object(1)\n",
      "memory usage: 10.8+ MB\n"
     ]
    }
   ],
   "source": [
    "simple.info()"
   ]
  },
  {
   "cell_type": "code",
   "execution_count": 278,
   "metadata": {
    "collapsed": true
   },
   "outputs": [],
   "source": [
    "X_train, X_test, y_train, y_test = train_test_split(simple.drop(['interestVal', 'interest_level'],axis=1),\n",
    "                                                    simple['interest_level'], test_size=0.33, random_state=42)"
   ]
  },
  {
   "cell_type": "code",
   "execution_count": 279,
   "metadata": {
    "collapsed": false
   },
   "outputs": [],
   "source": [
    "accuracyDistance = []\n",
    "for nn in range(1, 40):\n",
    "    knn = KNN(n_neighbors=nn, weights='uniform', algorithm='auto')\n",
    "    knn.fit(X_train, y_train)\n",
    "    preds = knn.predict(X_test)\n",
    "    accuracyDistance.append((preds==y_test).sum()/len(preds))"
   ]
  },
  {
   "cell_type": "code",
   "execution_count": 280,
   "metadata": {
    "collapsed": false
   },
   "outputs": [
    {
     "data": {
      "text/plain": [
       "[<matplotlib.lines.Line2D at 0x133d06ba8>]"
      ]
     },
     "execution_count": 280,
     "metadata": {},
     "output_type": "execute_result"
    },
    {
     "data": {
      "image/png": "[encoded data removed]",
      "text/plain": [
       "<matplotlib.figure.Figure at 0x133cc9208>"
      ]
     },
     "metadata": {},
     "output_type": "display_data"
    }
   ],
   "source": [
    "plt.plot(range(1, 40), accuracyDistance, label='Uniform')"
   ]
  },
  {
   "cell_type": "code",
   "execution_count": 281,
   "metadata": {
    "collapsed": false
   },
   "outputs": [
    {
     "name": "stdout",
     "output_type": "stream",
     "text": [
      "             precision    recall  f1-score   support\n",
      "\n",
      "       high       0.26      0.35      0.30       760\n",
      "        low       0.86      0.80      0.83     10437\n",
      "     medium       0.34      0.41      0.37      2636\n",
      "\n",
      "avg / total       0.73      0.70      0.71     13833\n",
      "\n",
      "Number of Neighbors: 3\n"
     ]
    }
   ],
   "source": [
    "nn = accuracyDistance.index(np.max(accuracyDistance))\n",
    "knn = KNN(n_neighbors=nn, weights='distance', algorithm='auto')\n",
    "knn.fit(X_train, y_train)\n",
    "preds = knn.predict(X_test)\n",
    "print(classification_report(preds, y_test))\n",
    "print('Number of Neighbors: ' + str(nn))"
   ]
  },
  {
   "cell_type": "markdown",
   "metadata": {},
   "source": [
    "KNN is overfitting. I am going to try just a simple LDA on the data"
   ]
  },
  {
   "cell_type": "code",
   "execution_count": 247,
   "metadata": {
    "collapsed": true
   },
   "outputs": [],
   "source": [
    "X_train, X_test, y_train, y_test = train_test_split(simple.drop(['interestVal', 'interest_level'],axis=1),\n",
    "                                                    simple['interest_level'], test_size=0.33, random_state=42)"
   ]
  },
  {
   "cell_type": "code",
   "execution_count": 287,
   "metadata": {
    "collapsed": true
   },
   "outputs": [],
   "source": [
    "from sklearn.linear_model import LogisticRegressionCV as logCV"
   ]
  },
  {
   "cell_type": "code",
   "execution_count": 291,
   "metadata": {
    "collapsed": false
   },
   "outputs": [
    {
     "data": {
      "text/plain": [
       "LogisticRegressionCV(Cs=10, class_weight='balanced', cv=10, dual=False,\n",
       "           fit_intercept=True, intercept_scaling=1.0, max_iter=100,\n",
       "           multi_class='multinomial', n_jobs=1, penalty='l2',\n",
       "           random_state=None, refit=True, scoring=None, solver='lbfgs',\n",
       "           tol=0.0001, verbose=0)"
      ]
     },
     "execution_count": 291,
     "metadata": {},
     "output_type": "execute_result"
    }
   ],
   "source": [
    "model = logCV(cv=10, class_weight='balanced', multi_class='multinomial')\n",
    "model.fit(X_train, y_train)"
   ]
  },
  {
   "cell_type": "code",
   "execution_count": 293,
   "metadata": {
    "collapsed": false
   },
   "outputs": [
    {
     "name": "stdout",
     "output_type": "stream",
     "text": [
      "             precision    recall  f1-score   support\n",
      "\n",
      "       high       0.83      0.63      0.71      1338\n",
      "        low       0.93      0.96      0.95      9389\n",
      "     medium       0.74      0.75      0.74      3106\n",
      "\n",
      "avg / total       0.88      0.88      0.88     13833\n",
      "\n"
     ]
    }
   ],
   "source": [
    "preds = model.predict(X_test)\n",
    "print(classification_report(preds, y_test))"
   ]
  },
  {
   "cell_type": "code",
   "execution_count": 299,
   "metadata": {
    "collapsed": false
   },
   "outputs": [
    {
     "name": "stdout",
     "output_type": "stream",
     "text": [
      "             precision    recall  f1-score   support\n",
      "\n",
      "       high       0.85      0.64      0.73      1351\n",
      "        low       0.94      0.96      0.95      9571\n",
      "     medium       0.73      0.79      0.76      2911\n",
      "\n",
      "avg / total       0.89      0.89      0.89     13833\n",
      "\n"
     ]
    }
   ],
   "source": [
    "modelOVR = logCV(cv=10, class_weight='balanced')\n",
    "modelOVR.fit(X_train, y_train)\n",
    "preds = modelOVR.predict(X_test)\n",
    "print(classification_report(preds, y_test))"
   ]
  },
  {
   "cell_type": "code",
   "execution_count": 302,
   "metadata": {
    "collapsed": false
   },
   "outputs": [
    {
     "name": "stdout",
     "output_type": "stream",
     "text": [
      "             precision    recall  f1-score   support\n",
      "\n",
      "       high       0.81      0.76      0.79      1087\n",
      "        low       0.98      0.93      0.95     10262\n",
      "     medium       0.69      0.87      0.77      2484\n",
      "\n",
      "avg / total       0.91      0.90      0.91     13833\n",
      "\n"
     ]
    }
   ],
   "source": [
    "modelOVR = logCV(cv=10)\n",
    "modelOVR.fit(X_train, y_train)\n",
    "preds = modelOVR.predict(X_test)\n",
    "print(classification_report(preds, y_test))"
   ]
  },
  {
   "cell_type": "markdown",
   "metadata": {},
   "source": [
    "To make sure that I didnt leave something out, i will try the CV Log with the full dataset"
   ]
  },
  {
   "cell_type": "code",
   "execution_count": 307,
   "metadata": {
    "collapsed": false
   },
   "outputs": [],
   "source": [
    "data = df.drop('interestVal', axis=1).select_dtypes(exclude=['object'])\n",
    "X_train, X_test, y_train, y_test = train_test_split(data,\n",
    "                                                    df['interest_level'], test_size=0.33, random_state=42)"
   ]
  },
  {
   "cell_type": "code",
   "execution_count": 308,
   "metadata": {
    "collapsed": false
   },
   "outputs": [
    {
     "name": "stdout",
     "output_type": "stream",
     "text": [
      "             precision    recall  f1-score   support\n",
      "\n",
      "       high       0.00      0.00      0.00         0\n",
      "        low       1.00      0.70      0.83     13773\n",
      "     medium       0.01      0.30      0.01        60\n",
      "\n",
      "avg / total       0.99      0.70      0.82     13833\n",
      "\n"
     ]
    },
    {
     "name": "stderr",
     "output_type": "stream",
     "text": [
      "/Users/Braden/anaconda/lib/python3.6/site-packages/sklearn/metrics/classification.py:1137: UndefinedMetricWarning: Recall and F-score are ill-defined and being set to 0.0 in labels with no true samples.\n",
      "  'recall', 'true', average, warn_for)\n"
     ]
    }
   ],
   "source": [
    "modelAll = logCV(cv=10)\n",
    "modelAll.fit(X_train, y_train)\n",
    "preds = modelAll.predict(X_test)\n",
    "print(classification_report(preds, y_test))"
   ]
  },
  {
   "cell_type": "markdown",
   "metadata": {},
   "source": [
    "This clearly indicates that we have too much information and must use some sort of algorithmic feature selection to accurately asses the data. "
   ]
  },
  {
   "cell_type": "code",
   "execution_count": null,
   "metadata": {
    "collapsed": true
   },
   "outputs": [],
   "source": []
  }
 ],
 "metadata": {
  "kernelspec": {
   "display_name": "Python 3",
   "language": "python",
   "name": "python3"
  },
  "language_info": {
   "codemirror_mode": {
    "name": "ipython",
    "version": 3
   },
   "file_extension": ".py",
   "mimetype": "text/x-python",
   "name": "python",
   "nbconvert_exporter": "python",
   "pygments_lexer": "ipython3",
   "version": "3.6.0"
  }
 },
 "nbformat": 4,
 "nbformat_minor": 2
}
