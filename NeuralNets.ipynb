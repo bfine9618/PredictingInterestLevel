{
 "cells": [
  {
   "cell_type": "code",
   "execution_count": 4,
   "metadata": {},
   "outputs": [],
   "source": [
    "from sklearn.neural_network import MLPClassifier\n",
    "\n",
    "import numpy as np\n",
    "import pandas as pd\n",
    "import seaborn as sns\n",
    "import matplotlib.pyplot as plt\n",
    "% matplotlib inline\n",
    "\n",
    "import requests as re\n",
    "\n",
    "sns.set_context('poster')\n",
    "sns.set_style('whitegrid')\n",
    "\n",
    "\n",
    "from sklearn.tree import export_graphviz\n",
    "\n",
    "\n",
    "#Trees\n",
    "from sklearn import tree\n",
    "from sklearn.ensemble import RandomForestClassifier\n",
    "\n",
    "#Preprocessing packages\n",
    "from sklearn.model_selection import train_test_split\n",
    "from sklearn.preprocessing import LabelBinarizer #One hot encoding\n",
    "from sklearn.pipeline import Pipeline\n",
    "from sklearn.pipeline import FeatureUnion\n",
    "from sklearn.base import BaseEstimator, TransformerMixin\n",
    "\n",
    "#Cross Validation\n",
    "from sklearn.model_selection import cross_val_score\n",
    "from sklearn.model_selection import KFold\n",
    "\n",
    "#Metrics\n",
    "from sklearn.metrics import confusion_matrix, auc, roc_curve\n",
    "\n",
    "import seaborn as sns\n",
    "import matplotlib.pyplot as plt\n",
    " \n",
    "from IPython.display import Image \n",
    "\n",
    "#Bootstrap\n",
    "from sklearn.utils import resample\n",
    "\n",
    "%matplotlib inline"
   ]
  },
  {
   "cell_type": "code",
   "execution_count": 5,
   "metadata": {},
   "outputs": [],
   "source": [
    "data = pd.read_json(\"rawData/cleaned.json\")"
   ]
  },
  {
   "cell_type": "code",
   "execution_count": 6,
   "metadata": {},
   "outputs": [
    {
     "name": "stdout",
     "output_type": "stream",
     "text": [
      "<class 'pandas.core.frame.DataFrame'>\n",
      "Int64Index: 41918 entries, 0 to 9999\n",
      "Data columns (total 39 columns):\n",
      "Balcony                 41918 non-null int64\n",
      "Cats_Allowed            41918 non-null int64\n",
      "Common_Outdoor_Space    41918 non-null int64\n",
      "Dining_Room             41918 non-null int64\n",
      "Dishwasher              41918 non-null int64\n",
      "Dogs_Allowed            41918 non-null int64\n",
      "Doorman                 41918 non-null int64\n",
      "Elevator                41918 non-null int64\n",
      "Exclusive               41918 non-null int64\n",
      "Fitness_Center          41918 non-null int64\n",
      "Garden_Patio            41918 non-null int64\n",
      "Hardwood_Floors         41918 non-null int64\n",
      "High_Speed_Internet     41918 non-null int64\n",
      "Laundry_in_Unit         41918 non-null int64\n",
      "Loft                    41918 non-null int64\n",
      "New_Construction        41918 non-null int64\n",
      "No_Fee                  41918 non-null int64\n",
      "Outdoor_Space           41918 non-null int64\n",
      "Pre_War                 41918 non-null int64\n",
      "Roof_Deck               41918 non-null int64\n",
      "Swimming_Pool           41918 non-null int64\n",
      "Terrace                 41918 non-null int64\n",
      "Wheelchair_Access       41918 non-null int64\n",
      "bathrooms               41918 non-null float64\n",
      "bedrooms                41918 non-null int64\n",
      "building_id             41918 non-null object\n",
      "created                 41918 non-null object\n",
      "description             41918 non-null object\n",
      "display_address         41918 non-null object\n",
      "features                41918 non-null object\n",
      "interestVal             41918 non-null float64\n",
      "interest_level          41918 non-null object\n",
      "latitude                41918 non-null float64\n",
      "laundry_in_building     41918 non-null int64\n",
      "listing_id              41918 non-null int64\n",
      "longitude               41918 non-null float64\n",
      "manager_id              41918 non-null object\n",
      "price                   41918 non-null int64\n",
      "street_address          41918 non-null object\n",
      "dtypes: float64(4), int64(27), object(8)\n",
      "memory usage: 12.8+ MB\n"
     ]
    }
   ],
   "source": [
    "data.info()"
   ]
  },
  {
   "cell_type": "code",
   "execution_count": 9,
   "metadata": {},
   "outputs": [],
   "source": [
    "train_init, test_init = train_test_split(data,test_size = .3,random_state = 42)\n",
    "\n",
    "train = train_init.drop(['interest_level','description','display_address','created','building_id','features', 'manager_id', 'street_address'], axis=1)\n",
    "test = test_init.drop(['interest_level','description','display_address','created','building_id','features', 'manager_id', 'street_address'], axis=1)\n",
    "y_train = train_init['interest_level']\n",
    "y_test = test_init['interest_level']"
   ]
  },
  {
   "cell_type": "code",
   "execution_count": 16,
   "metadata": {
    "collapsed": true
   },
   "outputs": [],
   "source": [
    "from sklearn.preprocessing import StandardScaler \n",
    "scaler = StandardScaler()  \n",
    "scaler.fit(train)  \n",
    "train_transformed = scaler.transform(train)  \n",
    "# apply same transformation to test data\n",
    "X_test_transformed = scaler.transform(test)"
   ]
  },
  {
   "cell_type": "code",
   "execution_count": 20,
   "metadata": {},
   "outputs": [
    {
     "data": {
      "text/plain": [
       "<matplotlib.text.Text at 0x7f1a0af915c0>"
      ]
     },
     "execution_count": 20,
     "metadata": {},
     "output_type": "execute_result"
    },
    {
     "data": {
      "image/png": "[encoded data removed]",
      "text/plain": [
       "<matplotlib.figure.Figure at 0x7f1a09b78be0>"
      ]
     },
     "metadata": {},
     "output_type": "display_data"
    }
   ],
   "source": [
    "# Perform cross validation to tune the regularization constant\n",
    "\n",
    "score = np.array([])# Array to store Misclassification Error\n",
    "alphas = np.array([]) # Array to store tree depth\n",
    "\n",
    "10.0 ** -np.arange(1, 7)\n",
    "\n",
    "clf = MLPClassifier(solver='lbfgs',warm_start=True,hidden_layer_sizes=(40)) #Define model ot be used\n",
    "for trial in range(3):\n",
    "    cv_method = KFold(n_splits=10,shuffle=True) #Define CV method\n",
    "    for a in 10.0** -np.arange(1,7):\n",
    "        clf.set_params(alpha = a)\n",
    "        alphas = np.append(alphas,a)\n",
    "        error = np.mean(cross_val_score(clf,train,y_train,cv = cv_method,scoring = 'accuracy')) #Run cross validation\n",
    "        score = np.append(score,error)\n",
    "        \n",
    "sns.boxplot(x = alphas,y = score)\n",
    "plt.xlabel('Regularization Constant')\n",
    "plt.ylabel('Test Accuracy')"
   ]
  },
  {
   "cell_type": "code",
   "execution_count": null,
   "metadata": {
    "collapsed": true
   },
   "outputs": [],
   "source": []
  }
 ],
 "metadata": {
  "kernelspec": {
   "display_name": "Python 3",
   "language": "python",
   "name": "python3"
  },
  "language_info": {
   "codemirror_mode": {
    "name": "ipython",
    "version": 3
   },
   "file_extension": ".py",
   "mimetype": "text/x-python",
   "name": "python",
   "nbconvert_exporter": "python",
   "pygments_lexer": "ipython3",
   "version": "3.6.2"
  }
 },
 "nbformat": 4,
 "nbformat_minor": 2
}
