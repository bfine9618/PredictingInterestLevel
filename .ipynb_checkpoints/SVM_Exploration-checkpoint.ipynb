{
 "cells": [
  {
   "cell_type": "markdown",
   "metadata": {},
   "source": [
    "# SVM Exploration"
   ]
  },
  {
   "cell_type": "code",
   "execution_count": 1,
   "metadata": {
    "collapsed": true
   },
   "outputs": [],
   "source": [
    "# Necessary Imports\n",
    "import pandas as pd\n",
    "import numpy as np\n",
    "\n",
    "from sklearn.svm import SVC\n",
    "\n",
    "from sklearn.model_selection import train_test_split\n",
    "from sklearn.metrics import mean_squared_error"
   ]
  },
  {
   "cell_type": "markdown",
   "metadata": {},
   "source": [
    "## SVM on Full Data Set"
   ]
  },
  {
   "cell_type": "code",
   "execution_count": 2,
   "metadata": {},
   "outputs": [
    {
     "data": {
      "text/plain": [
       "Index(['Balcony', 'Cats_Allowed', 'Common_Outdoor_Space', 'Dining_Room',\n",
       "       'Dishwasher', 'Dogs_Allowed', 'Doorman', 'Elevator', 'Exclusive',\n",
       "       'Fitness_Center', 'Garden_Patio', 'Hardwood_Floors',\n",
       "       'High_Speed_Internet', 'Laundry_in_Unit', 'Loft', 'New_Construction',\n",
       "       'No_Fee', 'Outdoor_Space', 'Pre_War', 'Roof_Deck', 'Swimming_Pool',\n",
       "       'Terrace', 'Wheelchair_Access', 'bathrooms', 'bedrooms', 'building_id',\n",
       "       'created', 'description', 'display_address', 'features', 'interestVal',\n",
       "       'interest_level', 'latitude', 'laundry_in_building', 'listing_id',\n",
       "       'longitude', 'manager_id', 'price', 'street_address'],\n",
       "      dtype='object')"
      ]
     },
     "execution_count": 2,
     "metadata": {},
     "output_type": "execute_result"
    }
   ],
   "source": [
    "# Load Data non interaction data\n",
    "df = pd.read_json('./rawData/cleaned.json')\n",
    "df.columns"
   ]
  },
  {
   "cell_type": "code",
   "execution_count": 3,
   "metadata": {
    "collapsed": true
   },
   "outputs": [],
   "source": [
    "# Split into Training and Test Sets\n",
    "X_tr, X_test, Y_tr, Y_test = train_test_split(df.drop(['interest_level'],axis=1), df['interest_level'], test_size=0.3, random_state=42)\n",
    "X_tr_wo_obj = X_tr.select_dtypes(exclude=['object'])\n",
    "X_tr_wo_obj = X_tr_wo_obj.drop(['interestVal'],axis=1)\n",
    "X_test_wo_obj = X_test.select_dtypes(exclude=['object'])\n",
    "X_test_wo_obj = X_test_wo_obj.drop(['interestVal'],axis=1)\n",
    "\n",
    "# Fit SVM to Data with Interaction Terms\n",
    "svm_model = SVC()\n",
    "svm_fit = svm_model.fit(X_tr_wo_obj, Y_tr)"
   ]
  },
  {
   "cell_type": "code",
   "execution_count": 4,
   "metadata": {},
   "outputs": [
    {
     "data": {
      "text/plain": [
       "Index(['Balcony', 'Cats_Allowed', 'Common_Outdoor_Space', 'Dining_Room',\n",
       "       'Dishwasher', 'Dogs_Allowed', 'Doorman', 'Elevator', 'Exclusive',\n",
       "       'Fitness_Center', 'Garden_Patio', 'Hardwood_Floors',\n",
       "       'High_Speed_Internet', 'Laundry_in_Unit', 'Loft', 'New_Construction',\n",
       "       'No_Fee', 'Outdoor_Space', 'Pre_War', 'Roof_Deck', 'Swimming_Pool',\n",
       "       'Terrace', 'Wheelchair_Access', 'bathrooms', 'bedrooms', 'latitude',\n",
       "       'laundry_in_building', 'listing_id', 'longitude', 'price'],\n",
       "      dtype='object')"
      ]
     },
     "execution_count": 4,
     "metadata": {},
     "output_type": "execute_result"
    }
   ],
   "source": [
    "X_test_wo_obj.columns"
   ]
  },
  {
   "cell_type": "code",
   "execution_count": 5,
   "metadata": {
    "scrolled": true
   },
   "outputs": [
    {
     "name": "stdout",
     "output_type": "stream",
     "text": [
      "Score of SVM with no interaction terms = 0.698075699746\n"
     ]
    }
   ],
   "source": [
    "# Predict Test Data with SVM\n",
    "print('Score of SVM with no interaction terms = %s' % svm_model.score(X_test_wo_obj, Y_test))"
   ]
  },
  {
   "cell_type": "code",
   "execution_count": 6,
   "metadata": {},
   "outputs": [
    {
     "data": {
      "text/plain": [
       "Index(['Balcony', 'Cats_Allowed', 'Common_Outdoor_Space', 'Dining_Room',\n",
       "       'Dishwasher', 'Dogs_Allowed', 'Doorman', 'Elevator', 'Exclusive',\n",
       "       'Fitness_Center', 'Garden_Patio', 'Hardwood_Floors',\n",
       "       'High_Speed_Internet', 'Laundry_in_Unit', 'Loft', 'New_Construction',\n",
       "       'No_Fee', 'Outdoor_Space', 'Pre_War', 'Roof_Deck', 'Swimming_Pool',\n",
       "       'Terrace', 'Wheelchair_Access', 'ada', 'bathrooms', 'bedrooms',\n",
       "       'building_id', 'created', 'description', 'display_address', 'door_excl',\n",
       "       'features', 'fitness_oriented', 'interestVal', 'interest_level',\n",
       "       'latitude', 'laundry_in_building', 'listing_id', 'longitude',\n",
       "       'lux_score', 'manager_id', 'num_features', 'num_luxury',\n",
       "       'outdoor_score', 'pets_allowed', 'price', 'street_address'],\n",
       "      dtype='object')"
      ]
     },
     "execution_count": 6,
     "metadata": {},
     "output_type": "execute_result"
    }
   ],
   "source": [
    "# Load Data with Interaction Terms\n",
    "df2 = pd.read_json('./typedData/withInteraction.json')\n",
    "df2.columns"
   ]
  },
  {
   "cell_type": "code",
   "execution_count": 8,
   "metadata": {},
   "outputs": [],
   "source": [
    "# Split into Training and Test Sets\n",
    "X_tr_2, X_test_2, Y_tr_2, Y_test_2 = train_test_split(df2.drop(['interest_level'],axis=1), df2['interest_level'], test_size=0.3, random_state=42)\n",
    "X_tr_wo_obj_2 = X_tr_2.select_dtypes(exclude=['object'])\n",
    "X_tr_wo_obj_2 = X_tr_wo_obj_2.drop(['interestVal'],axis=1)\n",
    "X_test_wo_obj_2 = X_test_2.select_dtypes(exclude=['object'])\n",
    "X_test_wo_obj_2 = X_test_wo_obj_2.drop(['interestVal'],axis=1)\n",
    "\n",
    "# Fit SVM to Data with Interaction Terms\n",
    "svm_model_2 = SVC()\n",
    "svm_fit_2 = svm_model_2.fit(X_tr_wo_obj_2, Y_tr_2)"
   ]
  },
  {
   "cell_type": "code",
   "execution_count": 9,
   "metadata": {},
   "outputs": [
    {
     "name": "stdout",
     "output_type": "stream",
     "text": [
      "Score of SVM with no interaction terms = 0.697996183206\n"
     ]
    }
   ],
   "source": [
    "# Predict Test Data with SVM\n",
    "print('Score of SVM with no interaction terms = %s' % svm_model_2.score(X_test_wo_obj_2, Y_test_2))"
   ]
  },
  {
   "cell_type": "markdown",
   "metadata": {},
   "source": [
    "## SVM on Typed Data Set"
   ]
  },
  {
   "cell_type": "code",
   "execution_count": null,
   "metadata": {
    "collapsed": true
   },
   "outputs": [],
   "source": [
    "# Load Typed Data without Interaction Terms\n",
    "df3 = pd.read_json('./typedData/withInteraction.json')\n",
    "df3.columns"
   ]
  },
  {
   "cell_type": "code",
   "execution_count": null,
   "metadata": {
    "collapsed": true
   },
   "outputs": [],
   "source": [
    "# Split into Training and Test Sets\n",
    "X_tr_2, X_test_2, Y_tr_2, Y_test_2 = train_test_split(df2.drop(['interest_level'],axis=1), df2['interest_level'], test_size=0.3, random_state=42)\n",
    "X_tr_wo_obj_2 = X_tr_2.select_dtypes(exclude=['object'])\n",
    "X_tr_wo_obj_2 = X_tr_wo_obj_2.drop(['interestVal'],axis=1)\n",
    "X_test_wo_obj_2 = X_test_2.select_dtypes(exclude=['object'])\n",
    "X_test_wo_obj_2 = X_test_wo_obj_2.drop(['interestVal'],axis=1)\n",
    "\n",
    "# Fit SVM to Data with Interaction Terms\n",
    "svm_model_2 = SVC()\n",
    "svm_fit_2 = svm_model_2.fit(X_tr_wo_obj_2, Y_tr_2)"
   ]
  },
  {
   "cell_type": "code",
   "execution_count": null,
   "metadata": {
    "collapsed": true
   },
   "outputs": [],
   "source": [
    "# Predict Test Data with SVM\n",
    "print('Score of SVM with no interaction terms = %s' % svm_model_2.score(X_test_wo_obj_2, Y_test_2))"
   ]
  }
 ],
 "metadata": {
  "kernelspec": {
   "display_name": "Python 3",
   "language": "python",
   "name": "python3"
  },
  "language_info": {
   "codemirror_mode": {
    "name": "ipython",
    "version": 3
   },
   "file_extension": ".py",
   "mimetype": "text/x-python",
   "name": "python",
   "nbconvert_exporter": "python",
   "pygments_lexer": "ipython3",
   "version": "3.6.1"
  }
 },
 "nbformat": 4,
 "nbformat_minor": 2
}
