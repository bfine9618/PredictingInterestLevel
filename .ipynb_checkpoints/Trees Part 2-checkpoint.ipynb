{
 "cells": [
  {
   "cell_type": "code",
   "execution_count": 73,
   "metadata": {},
   "outputs": [],
   "source": [
    "import numpy as np\n",
    "# import pandas as pd\n",
    "import seaborn as sns\n",
    "import matplotlib.pyplot as plt\n",
    "% matplotlib inline\n",
    "\n",
    "import requests as re\n",
    "\n",
    "sns.set_context('poster')\n",
    "sns.set_style('whitegrid')\n",
    "\n",
    "\n",
    "from sklearn.tree import export_graphviz\n",
    "\n",
    "\n",
    "#Trees\n",
    "from sklearn import tree\n",
    "from sklearn.ensemble import RandomForestClassifier\n",
    "\n",
    "#Preprocessing packages\n",
    "from sklearn.model_selection import train_test_split\n",
    "from sklearn.preprocessing import LabelBinarizer #One hot encoding\n",
    "from sklearn.pipeline import Pipeline\n",
    "from sklearn.pipeline import FeatureUnion\n",
    "from sklearn.base import BaseEstimator, TransformerMixin\n",
    "\n",
    "#Cross Validation\n",
    "from sklearn.model_selection import cross_val_score\n",
    "from sklearn.model_selection import KFold\n",
    "\n",
    "#Metrics\n",
    "from sklearn.metrics import confusion_matrix, auc, roc_curve\n",
    "\n",
    "import seaborn as sns\n",
    "import matplotlib.pyplot as plt\n",
    "import pydotplus \n",
    "from IPython.display import Image \n",
    "\n",
    "#Bootstrap\n",
    "from sklearn.utils import resample\n",
    "\n",
    "%matplotlib inline"
   ]
  },
  {
   "cell_type": "code",
   "execution_count": 125,
   "metadata": {},
   "outputs": [],
   "source": [
    "train = pd.read_json(\"typedData/train_typed.json\")\n",
    "test = pd.read_json(\"typedData/testX.json\")"
   ]
  },
  {
   "cell_type": "code",
   "execution_count": 126,
   "metadata": {},
   "outputs": [],
   "source": [
    "# trees on interacted data\n",
    "\n",
    "# trees on interactions by typed subsets\n",
    "# \n",
    "\n",
    "train_orig = train.copy()\n",
    "\n",
    "y_train = train['interest_level']\n",
    "\n",
    "y_train_stud = train[train['studio'] == 1]['interest_level']\n",
    "y_train_town = train[train['townhome'] == 1]['interest_level']\n",
    "y_train_appt = train[train['apartment'] == 1]['interest_level']\n",
    "y_train_loft = train[train['loft'] == 1]['interest_level']\n",
    "y_train_cond = train[train['condominium'] == 1]['interest_level']\n",
    "y_train_ph = train[train['ph'] == 1]['interest_level']\n",
    "\n",
    "train = train.drop(['interest_level','interestVal','description','display_address','created','building_id','features', 'manager_id', 'photos', 'street_address'], axis=1)\n",
    "\n",
    "x_train_stud = train[train['studio'] == 1]\n",
    "x_train_town = train[train['townhome'] == 1]\n",
    "x_train_appt = train[train['apartment'] == 1]\n",
    "x_train_loft = train[train['loft'] == 1]\n",
    "x_train_cond = train[train['condominium'] == 1]\n",
    "x_train_ph = train[train['ph'] == 1]\n",
    "\n",
    "# Tree for studio, townhome, apartment, condominium, loft, pd\n"
   ]
  },
  {
   "cell_type": "code",
   "execution_count": 127,
   "metadata": {},
   "outputs": [],
   "source": [
    "y_test_stud = test[test['studio'] == 1]['interest_level']\n",
    "y_test_town = test[test['townhome'] == 1]['interest_level']\n",
    "y_test_appt = test[test['apartment'] == 1]['interest_level']\n",
    "y_test_loft = test[test['loft'] == 1]['interest_level']\n",
    "y_test_cond = test[test['condominium'] == 1]['interest_level']\n",
    "y_test_ph = test[test['ph'] == 1]['interest_level']\n",
    "\n",
    "y_test = test['interest_level']\n",
    "test = test.drop(['interest_level','description','display_address','created','building_id','features', 'manager_id', 'photos', 'street_address'], axis=1)\n",
    "\n",
    "\n",
    "x_test_stud = test[test['studio'] == 1]\n",
    "x_test_town = test[test['townhome'] == 1]\n",
    "x_test_appt = test[test['apartment'] == 1]\n",
    "x_test_loft = test[test['loft'] == 1]\n",
    "x_test_cond = test[test['condominium'] == 1]\n",
    "x_test_ph = test[test['ph'] == 1]"
   ]
  },
  {
   "cell_type": "code",
   "execution_count": 142,
   "metadata": {},
   "outputs": [
    {
     "name": "stdout",
     "output_type": "stream",
     "text": [
      "The score for a tree trained with studio listings only (and predicted for studio listings) is: 0.6911595866819747 \n",
      "0.700574712644\n"
     ]
    }
   ],
   "source": [
    "sqrt_forest = RandomForestClassifier(warm_start=True, \n",
    "                             oob_score=True,\n",
    "                             max_features=\"sqrt\",\n",
    "                             random_state = 1)\n",
    "\n",
    "sqrt_forest.set_params(n_estimators=170)\n",
    "sqrt_forest.fit(x_train_stud, y_train_stud)\n",
    "\n",
    "print(\"The score for a tree trained with studio listings only (and predicted for studio listings) is: {} \".format(sqrt_forest.score(x_test_stud, y_test_stud)))\n",
    "print(sqrt_forest.oob_score_)"
   ]
  },
  {
   "cell_type": "code",
   "execution_count": 144,
   "metadata": {},
   "outputs": [
    {
     "name": "stdout",
     "output_type": "stream",
     "text": [
      "The score for a tree trained and tested with townhouse listings only is: 0.71875 \n",
      "0.659751037344\n"
     ]
    }
   ],
   "source": [
    "sqrt_forest = RandomForestClassifier(warm_start=True, \n",
    "                             oob_score=True,\n",
    "                             max_features=\"sqrt\",\n",
    "                             random_state = 1)\n",
    "\n",
    "sqrt_forest.set_params(n_estimators=170)\n",
    "sqrt_forest.fit(x_train_town, y_train_town)\n",
    "\n",
    "print(\"The score for a tree trained and tested with townhouse listings only is: {} \".format(sqrt_forest.score(x_test_town, y_test_town)))\n",
    "print(sqrt_forest.oob_score_)"
   ]
  },
  {
   "cell_type": "code",
   "execution_count": 145,
   "metadata": {},
   "outputs": [
    {
     "name": "stdout",
     "output_type": "stream",
     "text": [
      "The score for a tree trained and tested with apartment listings only is: 0.7007227734901385\n",
      "0.694956875898\n"
     ]
    }
   ],
   "source": [
    "sqrt_forest = RandomForestClassifier(warm_start=True, \n",
    "                             oob_score=True,\n",
    "                             max_features=\"sqrt\",\n",
    "                             random_state = 1)\n",
    "\n",
    "sqrt_forest.set_params(n_estimators=170)\n",
    "sqrt_forest.fit(x_train_appt, y_train_appt)\n",
    "\n",
    "print(\"The score for a tree trained and tested with apartment listings only is: {}\".format(sqrt_forest.score(x_test_appt, y_test_appt)))\n",
    "print(sqrt_forest.oob_score_)\n",
    "\n",
    "\n",
    "# Tree for studio, townhome, apartment, condominium, loft, pd"
   ]
  },
  {
   "cell_type": "code",
   "execution_count": 146,
   "metadata": {},
   "outputs": [
    {
     "name": "stdout",
     "output_type": "stream",
     "text": [
      "The score for a tree trained and tested with condominium listings only is: 0.7426470588235294.\n",
      "0.671875\n"
     ]
    }
   ],
   "source": [
    "\n",
    "sqrt_forest = RandomForestClassifier(warm_start=True, \n",
    "                             oob_score=True,\n",
    "                             max_features=\"sqrt\",\n",
    "                             random_state = 1)\n",
    "\n",
    "sqrt_forest.set_params(n_estimators=170)\n",
    "sqrt_forest.fit(x_train_cond, y_train_cond)\n",
    "\n",
    "print(\"The score for a tree trained and tested with condominium listings only is: {}.\".format(sqrt_forest.score(x_test_cond, y_test_cond)))\n",
    "print(sqrt_forest.oob_score_)"
   ]
  },
  {
   "cell_type": "code",
   "execution_count": 148,
   "metadata": {},
   "outputs": [
    {
     "name": "stdout",
     "output_type": "stream",
     "text": [
      "The score for a tree trained and tested with loft listings only is: 0.6470588235294118.\n",
      "0.769230769231\n"
     ]
    }
   ],
   "source": [
    "sqrt_forest = RandomForestClassifier(warm_start=True, \n",
    "                             oob_score=True,\n",
    "                             max_features=\"sqrt\",\n",
    "                             random_state = 1)\n",
    "\n",
    "sqrt_forest.set_params(n_estimators=170)\n",
    "sqrt_forest.fit(x_train_loft, y_train_loft)\n",
    "print(\"The score for a tree trained and tested with loft listings only is: {}.\".format(sqrt_forest.score(x_test_loft, y_test_loft)))\n",
    "print(sqrt_forest.oob_score_)"
   ]
  },
  {
   "cell_type": "code",
   "execution_count": 151,
   "metadata": {},
   "outputs": [
    {
     "name": "stdout",
     "output_type": "stream",
     "text": [
      "The score for a tree trained and tested with penthouse listings only is: 0.6334661354581673.\n",
      "0.698473282443\n"
     ]
    }
   ],
   "source": [
    "sqrt_forest = RandomForestClassifier(warm_start=True, \n",
    "                             oob_score=True,\n",
    "                             max_features=\"sqrt\",\n",
    "                             random_state = 1)\n",
    "\n",
    "sqrt_forest.set_params(n_estimators=170)\n",
    "sqrt_forest.fit(x_train_ph, y_train_ph)\n",
    "\n",
    "print(\"The score for a tree trained and tested with penthouse listings only is: {}.\".format(sqrt_forest.score(x_test_ph, y_test_ph)))\n",
    "print(sqrt_forest.oob_score_)"
   ]
  },
  {
   "cell_type": "code",
   "execution_count": 120,
   "metadata": {},
   "outputs": [
    {
     "name": "stdout",
     "output_type": "stream",
     "text": [
      "1088\n",
      "0.05499671435070515\n",
      "156\n",
      "28\n",
      "988\n"
     ]
    }
   ],
   "source": [
    "# investigate differences in loft and Loft\n",
    "loft_descrepancies = train['loft'] == train['Loft']\n",
    "\n",
    "num_desc = [True for t in loft_descrepancies if t == False]\n",
    "print(len(num_desc))\n",
    "print(len(num_desc)/len(train['loft']))\n",
    "\n",
    "brad_loft_num = train[train['loft'] == 1]\n",
    "print(len(brad_loft_num))\n",
    "print(len(brad_loft_num[brad_loft_num['Loft'] == 1]))\n",
    "\n",
    "given_loft_num = len(train[train['Loft'] == 1])\n",
    "\n",
    "print(given_loft_num)"
   ]
  },
  {
   "cell_type": "code",
   "execution_count": 150,
   "metadata": {
    "collapsed": true
   },
   "outputs": [],
   "source": [
    "train_untyped = train.drop(['loft','ph','condominium','apartment','townhome','studio'],axis=1)\n",
    "test_untyped = test.drop(['loft','ph','condominium','apartment','townhome','studio'],axis=1)"
   ]
  },
  {
   "cell_type": "code",
   "execution_count": 129,
   "metadata": {},
   "outputs": [
    {
     "name": "stdout",
     "output_type": "stream",
     "text": [
      "0.704258594151\n",
      "0.698781782338\n"
     ]
    }
   ],
   "source": [
    "# Tree without type labels\n",
    "sqrt_forest = RandomForestClassifier(warm_start=True, \n",
    "                             oob_score=True,\n",
    "                             max_features=\"sqrt\",\n",
    "                             random_state = 1)\n",
    "\n",
    "sqrt_forest.set_params(n_estimators=170)\n",
    "sqrt_forest.fit(train_untyped, y_train)\n",
    "\n",
    "print(sqrt_forest.score(test_untyped,y_test))\n",
    "print(sqrt_forest.oob_score_)"
   ]
  },
  {
   "cell_type": "code",
   "execution_count": 133,
   "metadata": {},
   "outputs": [
    {
     "name": "stdout",
     "output_type": "stream",
     "text": [
      "0.703027193433\n",
      "0.695091745438\n"
     ]
    }
   ],
   "source": [
    "# single tree including type labels\n",
    "gen_forest = RandomForestClassifier(warm_start=True, \n",
    "                             oob_score=True,\n",
    "                             max_features=\"sqrt\",\n",
    "                             random_state = 1)\n",
    "\n",
    "gen_forest.set_params(n_estimators=170)\n",
    "gen_forest.fit(train, y_train)\n",
    "\n",
    "print(gen_forest.score(test,y_test))\n",
    "print(gen_forest.oob_score_)"
   ]
  },
  {
   "cell_type": "code",
   "execution_count": 135,
   "metadata": {},
   "outputs": [
    {
     "name": "stdout",
     "output_type": "stream",
     "text": [
      "0.712973593571\n"
     ]
    }
   ],
   "source": [
    "print(gen_forest.score(x_test_stud,y_test_stud))"
   ]
  },
  {
   "cell_type": "code",
   "execution_count": 134,
   "metadata": {},
   "outputs": [
    {
     "name": "stdout",
     "output_type": "stream",
     "text": [
      "0.71875\n"
     ]
    }
   ],
   "source": [
    "print(gen_forest.score(x_test_town,y_test_town))"
   ]
  },
  {
   "cell_type": "code",
   "execution_count": 136,
   "metadata": {},
   "outputs": [
    {
     "name": "stdout",
     "output_type": "stream",
     "text": [
      "0.702437829229\n"
     ]
    }
   ],
   "source": [
    "print(gen_forest.score(x_test_appt, y_test_appt))"
   ]
  },
  {
   "cell_type": "code",
   "execution_count": 137,
   "metadata": {},
   "outputs": [
    {
     "name": "stdout",
     "output_type": "stream",
     "text": [
      "0.75\n"
     ]
    }
   ],
   "source": [
    "print(gen_forest.score(x_test_cond, y_test_cond))"
   ]
  },
  {
   "cell_type": "code",
   "execution_count": 139,
   "metadata": {},
   "outputs": [
    {
     "name": "stdout",
     "output_type": "stream",
     "text": [
      "0.735294117647\n"
     ]
    }
   ],
   "source": [
    "print(gen_forest.score(x_test_loft, y_test_loft))"
   ]
  },
  {
   "cell_type": "code",
   "execution_count": 140,
   "metadata": {},
   "outputs": [
    {
     "name": "stdout",
     "output_type": "stream",
     "text": [
      "0.641434262948\n"
     ]
    }
   ],
   "source": [
    "print(gen_forest.score(x_test_ph, y_test_ph))"
   ]
  },
  {
   "cell_type": "code",
   "execution_count": 152,
   "metadata": {
    "collapsed": true
   },
   "outputs": [],
   "source": [
    "# Notable changes: Condominium increased with general tree, Loft increased with general tree\n",
    "# Minor changes: penthouse did better on general tree by .641 vs. .633, \n",
    "# Minor: Studio better on general tree by .01 "
   ]
  },
  {
   "cell_type": "code",
   "execution_count": null,
   "metadata": {
    "collapsed": true
   },
   "outputs": [],
   "source": []
  }
 ],
 "metadata": {
  "kernelspec": {
   "display_name": "Python 3",
   "language": "python",
   "name": "python3"
  },
  "language_info": {
   "codemirror_mode": {
    "name": "ipython",
    "version": 3
   },
   "file_extension": ".py",
   "mimetype": "text/x-python",
   "name": "python",
   "nbconvert_exporter": "python",
   "pygments_lexer": "ipython3",
   "version": "3.6.1"
  }
 },
 "nbformat": 4,
 "nbformat_minor": 2
}
