{
 "cells": [
  {
   "cell_type": "code",
   "execution_count": 1,
   "metadata": {
    "collapsed": true
   },
   "outputs": [],
   "source": [
    "import numpy as np\n",
    "import pandas as pd\n",
    "import seaborn as sns\n",
    "import matplotlib.pyplot as plt\n",
    "% matplotlib inline\n",
    "\n",
    "import requests as re\n",
    "\n",
    "sns.set_context('poster')\n",
    "sns.set_style('whitegrid')"
   ]
  },
  {
   "cell_type": "code",
   "execution_count": 7,
   "metadata": {
    "collapsed": false
   },
   "outputs": [],
   "source": [
    "df = pd.read_json('./rawData/train_data.json')"
   ]
  },
  {
   "cell_type": "code",
   "execution_count": 8,
   "metadata": {
    "collapsed": false,
    "scrolled": true
   },
   "outputs": [
    {
     "data": {
      "text/plain": [
       "Index(['Balcony', 'Cats Allowed', 'Common Outdoor Space', 'Dining Room',\n",
       "       'Dishwasher', 'Dogs Allowed', 'Doorman', 'Elevator', 'Exclusive',\n",
       "       'Fitness Center', 'Garden/Patio', 'Hardwood Floors',\n",
       "       'High Speed Internet', 'Laundry In Building', 'Laundry in Building',\n",
       "       'Laundry in Unit', 'Loft', 'New Construction', 'No Fee',\n",
       "       'Outdoor Space', 'Pre-War', 'Roof Deck', 'Swimming Pool', 'Terrace',\n",
       "       'Wheelchair Access', 'bathrooms', 'bedrooms', 'building_id', 'created',\n",
       "       'description', 'display_address', 'features', 'index', 'interest_level',\n",
       "       'latitude', 'level_0', 'listing_id', 'longitude', 'manager_id',\n",
       "       'photos', 'price', 'street_address'],\n",
       "      dtype='object')"
      ]
     },
     "execution_count": 8,
     "metadata": {},
     "output_type": "execute_result"
    }
   ],
   "source": [
    "df.columns"
   ]
  },
  {
   "cell_type": "code",
   "execution_count": 9,
   "metadata": {
    "collapsed": false
   },
   "outputs": [],
   "source": [
    "df.drop('index', axis=1, inplace=True)\n",
    "df['interestVal'] = df['interest_level'].map({'high': 1, 'medium': 0.5, 'low':0})"
   ]
  },
  {
   "cell_type": "code",
   "execution_count": 10,
   "metadata": {
    "collapsed": false
   },
   "outputs": [
    {
     "data": {
      "text/plain": [
       "low       29147\n",
       "medium     9491\n",
       "high       3280\n",
       "Name: interest_level, dtype: int64"
      ]
     },
     "execution_count": 10,
     "metadata": {},
     "output_type": "execute_result"
    }
   ],
   "source": [
    "df.interest_level.value_counts()"
   ]
  },
  {
   "cell_type": "code",
   "execution_count": 11,
   "metadata": {
    "collapsed": false
   },
   "outputs": [
    {
     "data": {
      "text/plain": [
       "0.0    29147\n",
       "0.5     9491\n",
       "1.0     3280\n",
       "Name: interestVal, dtype: int64"
      ]
     },
     "execution_count": 11,
     "metadata": {},
     "output_type": "execute_result"
    }
   ],
   "source": [
    "df.interestVal.value_counts()"
   ]
  },
  {
   "cell_type": "code",
   "execution_count": 12,
   "metadata": {
    "collapsed": true
   },
   "outputs": [],
   "source": [
    "df['bedrooms'] = df['bedrooms'].apply(float)\n",
    "df['bedrooms'].fillna(0, inplace=True)\n",
    "df['bathrooms'].fillna(0, inplace=True)"
   ]
  },
  {
   "cell_type": "code",
   "execution_count": 13,
   "metadata": {
    "collapsed": true
   },
   "outputs": [],
   "source": [
    "import statsmodels.formula.api as smf"
   ]
  },
  {
   "cell_type": "code",
   "execution_count": 14,
   "metadata": {
    "collapsed": false
   },
   "outputs": [],
   "source": [
    "df.columns = [c.replace(' ', '_') for c in df.columns]\n",
    "df.columns = [c.replace('-', '_') for c in df.columns]\n",
    "df.columns = [c.replace('/', '_') for c in df.columns]"
   ]
  },
  {
   "cell_type": "code",
   "execution_count": 15,
   "metadata": {
    "collapsed": false
   },
   "outputs": [],
   "source": [
    "linReg = df.select_dtypes(exclude=['object'])\n",
    "equation = ('+').join(linReg.drop(['interestVal'], axis=1).columns)"
   ]
  },
  {
   "cell_type": "code",
   "execution_count": 16,
   "metadata": {
    "collapsed": false
   },
   "outputs": [
    {
     "data": {
      "text/plain": [
       "'Balcony+Cats_Allowed+Common_Outdoor_Space+Dining_Room+Dishwasher+Dogs_Allowed+Doorman+Elevator+Exclusive+Fitness_Center+Garden_Patio+Hardwood_Floors+High_Speed_Internet+Laundry_In_Building+Laundry_in_Building+Laundry_in_Unit+Loft+New_Construction+No_Fee+Outdoor_Space+Pre_War+Roof_Deck+Swimming_Pool+Terrace+Wheelchair_Access+bathrooms+bedrooms+latitude+level_0+listing_id+longitude+price'"
      ]
     },
     "execution_count": 16,
     "metadata": {},
     "output_type": "execute_result"
    }
   ],
   "source": [
    "equation"
   ]
  },
  {
   "cell_type": "code",
   "execution_count": 43,
   "metadata": {
    "collapsed": false
   },
   "outputs": [
    {
     "data": {
      "text/html": [
       "<table class=\"simpletable\">\n",
       "<caption>OLS Regression Results</caption>\n",
       "<tr>\n",
       "  <th>Dep. Variable:</th>      <td>highInterest</td>   <th>  R-squared:         </th> <td>   0.027</td> \n",
       "</tr>\n",
       "<tr>\n",
       "  <th>Model:</th>                   <td>OLS</td>       <th>  Adj. R-squared:    </th> <td>   0.026</td> \n",
       "</tr>\n",
       "<tr>\n",
       "  <th>Method:</th>             <td>Least Squares</td>  <th>  F-statistic:       </th> <td>   36.38</td> \n",
       "</tr>\n",
       "<tr>\n",
       "  <th>Date:</th>             <td>Sat, 18 Nov 2017</td> <th>  Prob (F-statistic):</th> <td>7.26e-221</td>\n",
       "</tr>\n",
       "<tr>\n",
       "  <th>Time:</th>                 <td>16:50:20</td>     <th>  Log-Likelihood:    </th> <td> -3795.9</td> \n",
       "</tr>\n",
       "<tr>\n",
       "  <th>No. Observations:</th>      <td> 41918</td>      <th>  AIC:               </th> <td>   7658.</td> \n",
       "</tr>\n",
       "<tr>\n",
       "  <th>Df Residuals:</th>          <td> 41885</td>      <th>  BIC:               </th> <td>   7943.</td> \n",
       "</tr>\n",
       "<tr>\n",
       "  <th>Df Model:</th>              <td>    32</td>      <th>                     </th>     <td> </td>    \n",
       "</tr>\n",
       "<tr>\n",
       "  <th>Covariance Type:</th>      <td>nonrobust</td>    <th>                     </th>     <td> </td>    \n",
       "</tr>\n",
       "</table>\n",
       "<table class=\"simpletable\">\n",
       "<tr>\n",
       "            <td></td>              <th>coef</th>     <th>std err</th>      <th>t</th>      <th>P>|t|</th>  <th>[0.025</th>    <th>0.975]</th>  \n",
       "</tr>\n",
       "<tr>\n",
       "  <th>Intercept</th>            <td>    0.2504</td> <td>    0.114</td> <td>    2.194</td> <td> 0.028</td> <td>    0.027</td> <td>    0.474</td>\n",
       "</tr>\n",
       "<tr>\n",
       "  <th>Balcony</th>              <td>    0.0055</td> <td>    0.006</td> <td>    0.847</td> <td> 0.397</td> <td>   -0.007</td> <td>    0.018</td>\n",
       "</tr>\n",
       "<tr>\n",
       "  <th>Cats_Allowed</th>         <td>    0.0061</td> <td>    0.007</td> <td>    0.816</td> <td> 0.415</td> <td>   -0.009</td> <td>    0.021</td>\n",
       "</tr>\n",
       "<tr>\n",
       "  <th>Common_Outdoor_Space</th> <td>   -0.0181</td> <td>    0.010</td> <td>   -1.756</td> <td> 0.079</td> <td>   -0.038</td> <td>    0.002</td>\n",
       "</tr>\n",
       "<tr>\n",
       "  <th>Dining_Room</th>          <td>    0.0164</td> <td>    0.005</td> <td>    3.369</td> <td> 0.001</td> <td>    0.007</td> <td>    0.026</td>\n",
       "</tr>\n",
       "<tr>\n",
       "  <th>Dishwasher</th>           <td>   -0.0128</td> <td>    0.004</td> <td>   -3.338</td> <td> 0.001</td> <td>   -0.020</td> <td>   -0.005</td>\n",
       "</tr>\n",
       "<tr>\n",
       "  <th>Dogs_Allowed</th>         <td>   -0.0214</td> <td>    0.008</td> <td>   -2.850</td> <td> 0.004</td> <td>   -0.036</td> <td>   -0.007</td>\n",
       "</tr>\n",
       "<tr>\n",
       "  <th>Doorman</th>              <td>   -0.0426</td> <td>    0.004</td> <td>  -10.933</td> <td> 0.000</td> <td>   -0.050</td> <td>   -0.035</td>\n",
       "</tr>\n",
       "<tr>\n",
       "  <th>Elevator</th>             <td>   -0.0048</td> <td>    0.004</td> <td>   -1.313</td> <td> 0.189</td> <td>   -0.012</td> <td>    0.002</td>\n",
       "</tr>\n",
       "<tr>\n",
       "  <th>Exclusive</th>            <td>    0.0406</td> <td>    0.007</td> <td>    6.219</td> <td> 0.000</td> <td>    0.028</td> <td>    0.053</td>\n",
       "</tr>\n",
       "<tr>\n",
       "  <th>Fitness_Center</th>       <td>   -0.0178</td> <td>    0.004</td> <td>   -4.251</td> <td> 0.000</td> <td>   -0.026</td> <td>   -0.010</td>\n",
       "</tr>\n",
       "<tr>\n",
       "  <th>Garden_Patio</th>         <td>    0.0066</td> <td>    0.008</td> <td>    0.858</td> <td> 0.391</td> <td>   -0.008</td> <td>    0.022</td>\n",
       "</tr>\n",
       "<tr>\n",
       "  <th>Hardwood_Floors</th>      <td>    0.0210</td> <td>    0.004</td> <td>    5.678</td> <td> 0.000</td> <td>    0.014</td> <td>    0.028</td>\n",
       "</tr>\n",
       "<tr>\n",
       "  <th>High_Speed_Internet</th>  <td>    0.0214</td> <td>    0.006</td> <td>    3.629</td> <td> 0.000</td> <td>    0.010</td> <td>    0.033</td>\n",
       "</tr>\n",
       "<tr>\n",
       "  <th>Laundry_In_Building</th>  <td>    0.1063</td> <td>    0.007</td> <td>   14.409</td> <td> 0.000</td> <td>    0.092</td> <td>    0.121</td>\n",
       "</tr>\n",
       "<tr>\n",
       "  <th>Laundry_in_Building</th>  <td>    0.0050</td> <td>    0.004</td> <td>    1.304</td> <td> 0.192</td> <td>   -0.003</td> <td>    0.013</td>\n",
       "</tr>\n",
       "<tr>\n",
       "  <th>Laundry_in_Unit</th>      <td>   -0.0140</td> <td>    0.004</td> <td>   -3.492</td> <td> 0.000</td> <td>   -0.022</td> <td>   -0.006</td>\n",
       "</tr>\n",
       "<tr>\n",
       "  <th>Loft</th>                 <td>    0.0037</td> <td>    0.007</td> <td>    0.556</td> <td> 0.578</td> <td>   -0.009</td> <td>    0.017</td>\n",
       "</tr>\n",
       "<tr>\n",
       "  <th>New_Construction</th>     <td>    0.0060</td> <td>    0.007</td> <td>    0.872</td> <td> 0.383</td> <td>   -0.007</td> <td>    0.020</td>\n",
       "</tr>\n",
       "<tr>\n",
       "  <th>No_Fee</th>               <td>    0.0409</td> <td>    0.003</td> <td>   13.180</td> <td> 0.000</td> <td>    0.035</td> <td>    0.047</td>\n",
       "</tr>\n",
       "<tr>\n",
       "  <th>Outdoor_Space</th>        <td>    0.0146</td> <td>    0.005</td> <td>    2.701</td> <td> 0.007</td> <td>    0.004</td> <td>    0.025</td>\n",
       "</tr>\n",
       "<tr>\n",
       "  <th>Pre_War</th>              <td>   -0.0201</td> <td>    0.003</td> <td>   -5.865</td> <td> 0.000</td> <td>   -0.027</td> <td>   -0.013</td>\n",
       "</tr>\n",
       "<tr>\n",
       "  <th>Roof_Deck</th>            <td>   -0.0077</td> <td>    0.005</td> <td>   -1.543</td> <td> 0.123</td> <td>   -0.017</td> <td>    0.002</td>\n",
       "</tr>\n",
       "<tr>\n",
       "  <th>Swimming_Pool</th>        <td>    0.0004</td> <td>    0.006</td> <td>    0.065</td> <td> 0.948</td> <td>   -0.012</td> <td>    0.013</td>\n",
       "</tr>\n",
       "<tr>\n",
       "  <th>Terrace</th>              <td>    0.0034</td> <td>    0.008</td> <td>    0.449</td> <td> 0.653</td> <td>   -0.012</td> <td>    0.018</td>\n",
       "</tr>\n",
       "<tr>\n",
       "  <th>Wheelchair_Access</th>    <td>    0.0136</td> <td>    0.009</td> <td>    1.516</td> <td> 0.129</td> <td>   -0.004</td> <td>    0.031</td>\n",
       "</tr>\n",
       "<tr>\n",
       "  <th>bathrooms</th>            <td>   -0.0322</td> <td>    0.003</td> <td>  -10.047</td> <td> 0.000</td> <td>   -0.039</td> <td>   -0.026</td>\n",
       "</tr>\n",
       "<tr>\n",
       "  <th>bedrooms</th>             <td>    0.0037</td> <td>    0.001</td> <td>    2.538</td> <td> 0.011</td> <td>    0.001</td> <td>    0.006</td>\n",
       "</tr>\n",
       "<tr>\n",
       "  <th>latitude</th>             <td>    0.0035</td> <td>    0.008</td> <td>    0.458</td> <td> 0.647</td> <td>   -0.011</td> <td>    0.018</td>\n",
       "</tr>\n",
       "<tr>\n",
       "  <th>level_0</th>              <td> 4.192e-08</td> <td> 9.11e-08</td> <td>    0.460</td> <td> 0.646</td> <td>-1.37e-07</td> <td> 2.21e-07</td>\n",
       "</tr>\n",
       "<tr>\n",
       "  <th>listing_id</th>           <td>-2.526e-08</td> <td> 1.03e-08</td> <td>   -2.452</td> <td> 0.014</td> <td>-4.55e-08</td> <td>-5.07e-09</td>\n",
       "</tr>\n",
       "<tr>\n",
       "  <th>longitude</th>            <td>    0.0013</td> <td>    0.004</td> <td>    0.328</td> <td> 0.743</td> <td>   -0.007</td> <td>    0.009</td>\n",
       "</tr>\n",
       "<tr>\n",
       "  <th>price</th>                <td>-9.553e-08</td> <td> 5.56e-08</td> <td>   -1.717</td> <td> 0.086</td> <td>-2.05e-07</td> <td> 1.35e-08</td>\n",
       "</tr>\n",
       "</table>\n",
       "<table class=\"simpletable\">\n",
       "<tr>\n",
       "  <th>Omnibus:</th>       <td>25045.670</td> <th>  Durbin-Watson:     </th>  <td>   2.001</td> \n",
       "</tr>\n",
       "<tr>\n",
       "  <th>Prob(Omnibus):</th>  <td> 0.000</td>   <th>  Jarque-Bera (JB):  </th> <td>160177.155</td>\n",
       "</tr>\n",
       "<tr>\n",
       "  <th>Skew:</th>           <td> 3.013</td>   <th>  Prob(JB):          </th>  <td>    0.00</td> \n",
       "</tr>\n",
       "<tr>\n",
       "  <th>Kurtosis:</th>       <td>10.442</td>   <th>  Cond. No.          </th>  <td>6.19e+08</td> \n",
       "</tr>\n",
       "</table>"
      ],
      "text/plain": [
       "<class 'statsmodels.iolib.summary.Summary'>\n",
       "\"\"\"\n",
       "                            OLS Regression Results                            \n",
       "==============================================================================\n",
       "Dep. Variable:           highInterest   R-squared:                       0.027\n",
       "Model:                            OLS   Adj. R-squared:                  0.026\n",
       "Method:                 Least Squares   F-statistic:                     36.38\n",
       "Date:                Sat, 18 Nov 2017   Prob (F-statistic):          7.26e-221\n",
       "Time:                        16:50:20   Log-Likelihood:                -3795.9\n",
       "No. Observations:               41918   AIC:                             7658.\n",
       "Df Residuals:                   41885   BIC:                             7943.\n",
       "Df Model:                          32                                         \n",
       "Covariance Type:            nonrobust                                         \n",
       "========================================================================================\n",
       "                           coef    std err          t      P>|t|      [0.025      0.975]\n",
       "----------------------------------------------------------------------------------------\n",
       "Intercept                0.2504      0.114      2.194      0.028       0.027       0.474\n",
       "Balcony                  0.0055      0.006      0.847      0.397      -0.007       0.018\n",
       "Cats_Allowed             0.0061      0.007      0.816      0.415      -0.009       0.021\n",
       "Common_Outdoor_Space    -0.0181      0.010     -1.756      0.079      -0.038       0.002\n",
       "Dining_Room              0.0164      0.005      3.369      0.001       0.007       0.026\n",
       "Dishwasher              -0.0128      0.004     -3.338      0.001      -0.020      -0.005\n",
       "Dogs_Allowed            -0.0214      0.008     -2.850      0.004      -0.036      -0.007\n",
       "Doorman                 -0.0426      0.004    -10.933      0.000      -0.050      -0.035\n",
       "Elevator                -0.0048      0.004     -1.313      0.189      -0.012       0.002\n",
       "Exclusive                0.0406      0.007      6.219      0.000       0.028       0.053\n",
       "Fitness_Center          -0.0178      0.004     -4.251      0.000      -0.026      -0.010\n",
       "Garden_Patio             0.0066      0.008      0.858      0.391      -0.008       0.022\n",
       "Hardwood_Floors          0.0210      0.004      5.678      0.000       0.014       0.028\n",
       "High_Speed_Internet      0.0214      0.006      3.629      0.000       0.010       0.033\n",
       "Laundry_In_Building      0.1063      0.007     14.409      0.000       0.092       0.121\n",
       "Laundry_in_Building      0.0050      0.004      1.304      0.192      -0.003       0.013\n",
       "Laundry_in_Unit         -0.0140      0.004     -3.492      0.000      -0.022      -0.006\n",
       "Loft                     0.0037      0.007      0.556      0.578      -0.009       0.017\n",
       "New_Construction         0.0060      0.007      0.872      0.383      -0.007       0.020\n",
       "No_Fee                   0.0409      0.003     13.180      0.000       0.035       0.047\n",
       "Outdoor_Space            0.0146      0.005      2.701      0.007       0.004       0.025\n",
       "Pre_War                 -0.0201      0.003     -5.865      0.000      -0.027      -0.013\n",
       "Roof_Deck               -0.0077      0.005     -1.543      0.123      -0.017       0.002\n",
       "Swimming_Pool            0.0004      0.006      0.065      0.948      -0.012       0.013\n",
       "Terrace                  0.0034      0.008      0.449      0.653      -0.012       0.018\n",
       "Wheelchair_Access        0.0136      0.009      1.516      0.129      -0.004       0.031\n",
       "bathrooms               -0.0322      0.003    -10.047      0.000      -0.039      -0.026\n",
       "bedrooms                 0.0037      0.001      2.538      0.011       0.001       0.006\n",
       "latitude                 0.0035      0.008      0.458      0.647      -0.011       0.018\n",
       "level_0               4.192e-08   9.11e-08      0.460      0.646   -1.37e-07    2.21e-07\n",
       "listing_id           -2.526e-08   1.03e-08     -2.452      0.014   -4.55e-08   -5.07e-09\n",
       "longitude                0.0013      0.004      0.328      0.743      -0.007       0.009\n",
       "price                -9.553e-08   5.56e-08     -1.717      0.086   -2.05e-07    1.35e-08\n",
       "==============================================================================\n",
       "Omnibus:                    25045.670   Durbin-Watson:                   2.001\n",
       "Prob(Omnibus):                  0.000   Jarque-Bera (JB):           160177.155\n",
       "Skew:                           3.013   Prob(JB):                         0.00\n",
       "Kurtosis:                      10.442   Cond. No.                     6.19e+08\n",
       "==============================================================================\n",
       "\n",
       "Warnings:\n",
       "[1] Standard Errors assume that the covariance matrix of the errors is correctly specified.\n",
       "[2] The condition number is large, 6.19e+08. This might indicate that there are\n",
       "strong multicollinearity or other numerical problems.\n",
       "\"\"\""
      ]
     },
     "execution_count": 43,
     "metadata": {},
     "output_type": "execute_result"
    }
   ],
   "source": [
    "model.summary()"
   ]
  },
  {
   "cell_type": "code",
   "execution_count": null,
   "metadata": {
    "collapsed": true
   },
   "outputs": [],
   "source": []
  }
 ],
 "metadata": {
  "kernelspec": {
   "display_name": "Python 3",
   "language": "python",
   "name": "python3"
  },
  "language_info": {
   "codemirror_mode": {
    "name": "ipython",
    "version": 3
   },
   "file_extension": ".py",
   "mimetype": "text/x-python",
   "name": "python",
   "nbconvert_exporter": "python",
   "pygments_lexer": "ipython3",
   "version": "3.6.0"
  }
 },
 "nbformat": 4,
 "nbformat_minor": 2
}
