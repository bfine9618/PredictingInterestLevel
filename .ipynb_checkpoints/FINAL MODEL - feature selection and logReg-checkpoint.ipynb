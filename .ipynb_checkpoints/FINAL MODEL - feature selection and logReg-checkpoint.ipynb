{
 "cells": [
  {
   "cell_type": "code",
   "execution_count": 117,
   "metadata": {
    "collapsed": true
   },
   "outputs": [],
   "source": [
    "import pandas as pd\n",
    "import numpy as np\n",
    "import statsmodels.formula.api as smf"
   ]
  },
  {
   "cell_type": "code",
   "execution_count": 118,
   "metadata": {
    "collapsed": true
   },
   "outputs": [],
   "source": [
    "df = pd.read_json('./typedData/compsTypedInteraction.json')"
   ]
  },
  {
   "cell_type": "code",
   "execution_count": 119,
   "metadata": {
    "collapsed": true
   },
   "outputs": [],
   "source": [
    "df.drop(['lux_per_dollar', 'listing_id'], axis=1, inplace=True)"
   ]
  },
  {
   "cell_type": "code",
   "execution_count": 120,
   "metadata": {
    "collapsed": true
   },
   "outputs": [],
   "source": [
    "data = df.drop('interestVal', axis=1).select_dtypes(exclude=['object'])"
   ]
  },
  {
   "cell_type": "code",
   "execution_count": 121,
   "metadata": {
    "collapsed": true
   },
   "outputs": [],
   "source": [
    "equation = ('+').join(data.columns)"
   ]
  },
  {
   "cell_type": "code",
   "execution_count": 122,
   "metadata": {
    "collapsed": false
   },
   "outputs": [],
   "source": [
    "model = smf.ols('interestVal~'+equation, data=df).fit()"
   ]
  },
  {
   "cell_type": "code",
   "execution_count": 123,
   "metadata": {
    "collapsed": false
   },
   "outputs": [],
   "source": [
    "sig_features = pd.DataFrame(model.pvalues, index=data.columns, columns={'P_Value'})"
   ]
  },
  {
   "cell_type": "code",
   "execution_count": 124,
   "metadata": {
    "collapsed": false
   },
   "outputs": [
    {
     "data": {
      "text/plain": [
       "18"
      ]
     },
     "execution_count": 124,
     "metadata": {},
     "output_type": "execute_result"
    }
   ],
   "source": [
    "sigCols = sig_features[sig_features['P_Value']<.4].index.values\n",
    "len(sigCols)"
   ]
  },
  {
   "cell_type": "code",
   "execution_count": 125,
   "metadata": {
    "collapsed": false
   },
   "outputs": [],
   "source": [
    "sigCols = np.append(sigCols, 'interest_level')"
   ]
  },
  {
   "cell_type": "code",
   "execution_count": 126,
   "metadata": {
    "collapsed": true
   },
   "outputs": [],
   "source": [
    "ideal = ['Hardwood_Floors', 'High_Speed_Internet', 'Laundry_in_Unit', 'No_Fee', 'avg_num_features',\n",
    "            'avg_num_luxury', 'avg_outdoor_score', 'avg_price_per_feature', 'avg_price_per_num_lux', 'bathrooms', \n",
    "            'bedrooms', 'condominium', 'interest_level', 'laundry_in_building', 'loft', \n",
    "            'lux_ratio', 'lux_score', 'numPhotos', 'ph', 'pets_allowed', 'price_feature_ratio', 'townhome',\n",
    "             'walk_up', 'prob_interest_manager', 'prob_interest_building', 'rooms', 'price_per_room', 'prob_buildManager'\n",
    "            ]"
   ]
  },
  {
   "cell_type": "code",
   "execution_count": 127,
   "metadata": {
    "collapsed": false
   },
   "outputs": [],
   "source": [
    "diff = [x for x in sigCols if x not in ideal]"
   ]
  },
  {
   "cell_type": "code",
   "execution_count": 128,
   "metadata": {
    "collapsed": false,
    "scrolled": true
   },
   "outputs": [
    {
     "data": {
      "text/plain": [
       "['Balcony',\n",
       " 'Common_Outdoor_Space',\n",
       " 'Dishwasher',\n",
       " 'Elevator',\n",
       " 'Garden_Patio',\n",
       " 'apartment',\n",
       " 'other',\n",
       " 'price',\n",
       " 'price_lux_ratio',\n",
       " 'price_per_num_lux']"
      ]
     },
     "execution_count": 128,
     "metadata": {},
     "output_type": "execute_result"
    }
   ],
   "source": [
    "diff"
   ]
  },
  {
   "cell_type": "code",
   "execution_count": 129,
   "metadata": {
    "collapsed": false
   },
   "outputs": [],
   "source": [
    "simple = df[sigCols]"
   ]
  },
  {
   "cell_type": "code",
   "execution_count": 130,
   "metadata": {
    "collapsed": true
   },
   "outputs": [],
   "source": [
    "from sklearn.linear_model import LogisticRegressionCV as logCV\n",
    "from sklearn.model_selection import train_test_split\n",
    "from sklearn.metrics import classification_report, confusion_matrix"
   ]
  },
  {
   "cell_type": "code",
   "execution_count": 131,
   "metadata": {
    "collapsed": true
   },
   "outputs": [],
   "source": [
    "X_train, X_test, y_train, y_test = train_test_split(simple.drop('interest_level',axis=1),\n",
    "                                                    simple['interest_level'], test_size=0.33, random_state=42)"
   ]
  },
  {
   "cell_type": "code",
   "execution_count": 132,
   "metadata": {
    "collapsed": false
   },
   "outputs": [
    {
     "name": "stdout",
     "output_type": "stream",
     "text": [
      "             precision    recall  f1-score   support\n",
      "\n",
      "       high       0.81      0.80      0.81      1123\n",
      "        low       0.98      0.92      0.95     10147\n",
      "     medium       0.69      0.85      0.76      2563\n",
      "\n",
      "avg / total       0.91      0.90      0.90     13833\n",
      "\n"
     ]
    }
   ],
   "source": [
    "logReg = logCV(cv=10)\n",
    "logReg.fit(X_train, y_train)\n",
    "preds = logReg.predict(X_test)\n",
    "print(classification_report(preds, y_test))"
   ]
  },
  {
   "cell_type": "code",
   "execution_count": null,
   "metadata": {
    "collapsed": true
   },
   "outputs": [],
   "source": []
  }
 ],
 "metadata": {
  "kernelspec": {
   "display_name": "Python 3",
   "language": "python",
   "name": "python3"
  },
  "language_info": {
   "codemirror_mode": {
    "name": "ipython",
    "version": 3
   },
   "file_extension": ".py",
   "mimetype": "text/x-python",
   "name": "python",
   "nbconvert_exporter": "python",
   "pygments_lexer": "ipython3",
   "version": "3.6.0"
  }
 },
 "nbformat": 4,
 "nbformat_minor": 2
}
