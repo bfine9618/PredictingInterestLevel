{
 "cells": [
  {
   "cell_type": "code",
   "execution_count": 120,
   "metadata": {
    "collapsed": true
   },
   "outputs": [],
   "source": [
    "import pandas as pd\n",
    "import numpy as np"
   ]
  },
  {
   "cell_type": "code",
   "execution_count": 121,
   "metadata": {
    "collapsed": true
   },
   "outputs": [],
   "source": [
    "typed = pd.read_json('./rawData/cleanedTyped.json')"
   ]
  },
  {
   "cell_type": "code",
   "execution_count": 123,
   "metadata": {
    "collapsed": false
   },
   "outputs": [
    {
     "name": "stdout",
     "output_type": "stream",
     "text": [
      "<class 'pandas.core.frame.DataFrame'>\n",
      "Int64Index: 41918 entries, 0 to 9999\n",
      "Data columns (total 48 columns):\n",
      "Balcony                 41918 non-null int64\n",
      "Cats_Allowed            41918 non-null int64\n",
      "Common_Outdoor_Space    41918 non-null int64\n",
      "Dining_Room             41918 non-null int64\n",
      "Dishwasher              41918 non-null int64\n",
      "Dogs_Allowed            41918 non-null int64\n",
      "Doorman                 41918 non-null int64\n",
      "Elevator                41918 non-null int64\n",
      "Exclusive               41918 non-null int64\n",
      "Fitness_Center          41918 non-null int64\n",
      "Garden_Patio            41918 non-null int64\n",
      "Hardwood_Floors         41918 non-null int64\n",
      "High_Speed_Internet     41918 non-null int64\n",
      "Laundry_in_Unit         41918 non-null int64\n",
      "New_Construction        41918 non-null int64\n",
      "No_Fee                  41918 non-null int64\n",
      "Outdoor_Space           41918 non-null int64\n",
      "Pre_War                 41918 non-null int64\n",
      "Roof_Deck               41918 non-null int64\n",
      "Swimming_Pool           41918 non-null int64\n",
      "Terrace                 41918 non-null int64\n",
      "Wheelchair_Access       41918 non-null int64\n",
      "apartment               41918 non-null int64\n",
      "bathrooms               41918 non-null float64\n",
      "bedrooms                41918 non-null int64\n",
      "building_id             41918 non-null object\n",
      "condominium             41918 non-null int64\n",
      "created                 41918 non-null object\n",
      "description             41918 non-null object\n",
      "display_address         41918 non-null object\n",
      "features                41918 non-null object\n",
      "foundType               41918 non-null bool\n",
      "interestVal             41918 non-null float64\n",
      "interest_level          41918 non-null object\n",
      "latitude                41918 non-null float64\n",
      "laundry_in_building     41918 non-null int64\n",
      "listing_id              41918 non-null int64\n",
      "loft                    41918 non-null int64\n",
      "longitude               41918 non-null float64\n",
      "manager_id              41918 non-null object\n",
      "other                   41918 non-null int64\n",
      "ph                      41918 non-null int64\n",
      "price                   41918 non-null int64\n",
      "street_address          41918 non-null object\n",
      "studio                  41918 non-null int64\n",
      "townhome                41918 non-null int64\n",
      "type                    41918 non-null object\n",
      "walk_up                 41918 non-null int64\n",
      "dtypes: bool(1), float64(4), int64(34), object(9)\n",
      "memory usage: 15.4+ MB\n"
     ]
    }
   ],
   "source": [
    "typed.info()"
   ]
  },
  {
   "cell_type": "code",
   "execution_count": 124,
   "metadata": {
    "collapsed": true
   },
   "outputs": [],
   "source": [
    "interaction = pd.read_json('./typedData/withInteraction.json')\n",
    "interaction['price_per_num_lux'] = interaction['price']/interaction['num_luxury']"
   ]
  },
  {
   "cell_type": "code",
   "execution_count": 125,
   "metadata": {
    "collapsed": false
   },
   "outputs": [],
   "source": [
    "typeCols = typed.columns\n",
    "interCols = interaction.columns"
   ]
  },
  {
   "cell_type": "code",
   "execution_count": 126,
   "metadata": {
    "collapsed": false
   },
   "outputs": [],
   "source": [
    "interCols = [x for x in interCols if x not in typeCols]"
   ]
  },
  {
   "cell_type": "code",
   "execution_count": 127,
   "metadata": {
    "collapsed": false
   },
   "outputs": [
    {
     "data": {
      "text/plain": [
       "Index(['Balcony', 'Cats_Allowed', 'Common_Outdoor_Space', 'Dining_Room',\n",
       "       'Dishwasher', 'Dogs_Allowed', 'Doorman', 'Elevator', 'Exclusive',\n",
       "       'Fitness_Center', 'Garden_Patio', 'Hardwood_Floors',\n",
       "       'High_Speed_Internet', 'Laundry_in_Unit', 'New_Construction', 'No_Fee',\n",
       "       'Outdoor_Space', 'Pre_War', 'Roof_Deck', 'Swimming_Pool', 'Terrace',\n",
       "       'Wheelchair_Access', 'apartment', 'bathrooms', 'bedrooms',\n",
       "       'building_id', 'condominium', 'created', 'description',\n",
       "       'display_address', 'features', 'foundType', 'interestVal',\n",
       "       'interest_level', 'latitude', 'laundry_in_building', 'listing_id',\n",
       "       'loft', 'longitude', 'manager_id', 'other', 'ph', 'price',\n",
       "       'street_address', 'studio', 'townhome', 'type', 'walk_up'],\n",
       "      dtype='object')"
      ]
     },
     "execution_count": 127,
     "metadata": {},
     "output_type": "execute_result"
    }
   ],
   "source": [
    "typeCols"
   ]
  },
  {
   "cell_type": "code",
   "execution_count": 128,
   "metadata": {
    "collapsed": false
   },
   "outputs": [
    {
     "data": {
      "text/plain": [
       "['Loft',\n",
       " 'ada',\n",
       " 'door_excl',\n",
       " 'fitness_oriented',\n",
       " 'lux_score',\n",
       " 'num_features',\n",
       " 'num_luxury',\n",
       " 'outdoor_score',\n",
       " 'pets_allowed',\n",
       " 'price_per_num_lux']"
      ]
     },
     "execution_count": 128,
     "metadata": {},
     "output_type": "execute_result"
    }
   ],
   "source": [
    "interCols"
   ]
  },
  {
   "cell_type": "code",
   "execution_count": 129,
   "metadata": {
    "collapsed": true
   },
   "outputs": [],
   "source": [
    "m1 = pd.DataFrame(interaction[interCols])\n",
    "m1.drop('Loft', axis=1, inplace=True)\n",
    "m1.replace(np.inf, np.nan, inplace=True)"
   ]
  },
  {
   "cell_type": "code",
   "execution_count": 130,
   "metadata": {
    "collapsed": false
   },
   "outputs": [
    {
     "data": {
      "text/html": [
       "<div>\n",
       "<style>\n",
       "    .dataframe thead tr:only-child th {\n",
       "        text-align: right;\n",
       "    }\n",
       "\n",
       "    .dataframe thead th {\n",
       "        text-align: left;\n",
       "    }\n",
       "\n",
       "    .dataframe tbody tr th {\n",
       "        vertical-align: top;\n",
       "    }\n",
       "</style>\n",
       "<table border=\"1\" class=\"dataframe\">\n",
       "  <thead>\n",
       "    <tr style=\"text-align: right;\">\n",
       "      <th></th>\n",
       "      <th>ada</th>\n",
       "      <th>door_excl</th>\n",
       "      <th>fitness_oriented</th>\n",
       "      <th>lux_score</th>\n",
       "      <th>num_features</th>\n",
       "      <th>num_luxury</th>\n",
       "      <th>outdoor_score</th>\n",
       "      <th>pets_allowed</th>\n",
       "      <th>price_per_num_lux</th>\n",
       "    </tr>\n",
       "  </thead>\n",
       "  <tbody>\n",
       "    <tr>\n",
       "      <th>0</th>\n",
       "      <td>0</td>\n",
       "      <td>0</td>\n",
       "      <td>0</td>\n",
       "      <td>0.0</td>\n",
       "      <td>0</td>\n",
       "      <td>0</td>\n",
       "      <td>0.0</td>\n",
       "      <td>0</td>\n",
       "      <td>NaN</td>\n",
       "    </tr>\n",
       "    <tr>\n",
       "      <th>1</th>\n",
       "      <td>0</td>\n",
       "      <td>0</td>\n",
       "      <td>0</td>\n",
       "      <td>0.3</td>\n",
       "      <td>5</td>\n",
       "      <td>3</td>\n",
       "      <td>0.0</td>\n",
       "      <td>1</td>\n",
       "      <td>1821.666667</td>\n",
       "    </tr>\n",
       "    <tr>\n",
       "      <th>10</th>\n",
       "      <td>0</td>\n",
       "      <td>0</td>\n",
       "      <td>0</td>\n",
       "      <td>0.4</td>\n",
       "      <td>6</td>\n",
       "      <td>4</td>\n",
       "      <td>0.0</td>\n",
       "      <td>0</td>\n",
       "      <td>1300.000000</td>\n",
       "    </tr>\n",
       "    <tr>\n",
       "      <th>100</th>\n",
       "      <td>0</td>\n",
       "      <td>0</td>\n",
       "      <td>0</td>\n",
       "      <td>0.0</td>\n",
       "      <td>1</td>\n",
       "      <td>0</td>\n",
       "      <td>0.0</td>\n",
       "      <td>0</td>\n",
       "      <td>NaN</td>\n",
       "    </tr>\n",
       "    <tr>\n",
       "      <th>1000</th>\n",
       "      <td>0</td>\n",
       "      <td>0</td>\n",
       "      <td>0</td>\n",
       "      <td>0.4</td>\n",
       "      <td>7</td>\n",
       "      <td>4</td>\n",
       "      <td>0.0</td>\n",
       "      <td>0</td>\n",
       "      <td>575.000000</td>\n",
       "    </tr>\n",
       "  </tbody>\n",
       "</table>\n",
       "</div>"
      ],
      "text/plain": [
       "      ada  door_excl  fitness_oriented  lux_score  num_features  num_luxury  \\\n",
       "0       0          0                 0        0.0             0           0   \n",
       "1       0          0                 0        0.3             5           3   \n",
       "10      0          0                 0        0.4             6           4   \n",
       "100     0          0                 0        0.0             1           0   \n",
       "1000    0          0                 0        0.4             7           4   \n",
       "\n",
       "      outdoor_score  pets_allowed  price_per_num_lux  \n",
       "0               0.0             0                NaN  \n",
       "1               0.0             1        1821.666667  \n",
       "10              0.0             0        1300.000000  \n",
       "100             0.0             0                NaN  \n",
       "1000            0.0             0         575.000000  "
      ]
     },
     "execution_count": 130,
     "metadata": {},
     "output_type": "execute_result"
    }
   ],
   "source": [
    "m1.head()"
   ]
  },
  {
   "cell_type": "code",
   "execution_count": 131,
   "metadata": {
    "collapsed": false
   },
   "outputs": [],
   "source": [
    "interaction_typed = pd.concat([typed, m1], axis=1)"
   ]
  },
  {
   "cell_type": "code",
   "execution_count": 132,
   "metadata": {
    "collapsed": false
   },
   "outputs": [
    {
     "name": "stdout",
     "output_type": "stream",
     "text": [
      "<class 'pandas.core.frame.DataFrame'>\n",
      "Int64Index: 41918 entries, 0 to 9999\n",
      "Data columns (total 57 columns):\n",
      "Balcony                 41918 non-null int64\n",
      "Cats_Allowed            41918 non-null int64\n",
      "Common_Outdoor_Space    41918 non-null int64\n",
      "Dining_Room             41918 non-null int64\n",
      "Dishwasher              41918 non-null int64\n",
      "Dogs_Allowed            41918 non-null int64\n",
      "Doorman                 41918 non-null int64\n",
      "Elevator                41918 non-null int64\n",
      "Exclusive               41918 non-null int64\n",
      "Fitness_Center          41918 non-null int64\n",
      "Garden_Patio            41918 non-null int64\n",
      "Hardwood_Floors         41918 non-null int64\n",
      "High_Speed_Internet     41918 non-null int64\n",
      "Laundry_in_Unit         41918 non-null int64\n",
      "New_Construction        41918 non-null int64\n",
      "No_Fee                  41918 non-null int64\n",
      "Outdoor_Space           41918 non-null int64\n",
      "Pre_War                 41918 non-null int64\n",
      "Roof_Deck               41918 non-null int64\n",
      "Swimming_Pool           41918 non-null int64\n",
      "Terrace                 41918 non-null int64\n",
      "Wheelchair_Access       41918 non-null int64\n",
      "apartment               41918 non-null int64\n",
      "bathrooms               41918 non-null float64\n",
      "bedrooms                41918 non-null int64\n",
      "building_id             41918 non-null object\n",
      "condominium             41918 non-null int64\n",
      "created                 41918 non-null object\n",
      "description             41918 non-null object\n",
      "display_address         41918 non-null object\n",
      "features                41918 non-null object\n",
      "foundType               41918 non-null bool\n",
      "interestVal             41918 non-null float64\n",
      "interest_level          41918 non-null object\n",
      "latitude                41918 non-null float64\n",
      "laundry_in_building     41918 non-null int64\n",
      "listing_id              41918 non-null int64\n",
      "loft                    41918 non-null int64\n",
      "longitude               41918 non-null float64\n",
      "manager_id              41918 non-null object\n",
      "other                   41918 non-null int64\n",
      "ph                      41918 non-null int64\n",
      "price                   41918 non-null int64\n",
      "street_address          41918 non-null object\n",
      "studio                  41918 non-null int64\n",
      "townhome                41918 non-null int64\n",
      "type                    41918 non-null object\n",
      "walk_up                 41918 non-null int64\n",
      "ada                     41918 non-null int64\n",
      "door_excl               41918 non-null int64\n",
      "fitness_oriented        41918 non-null int64\n",
      "lux_score               41918 non-null float64\n",
      "num_features            41918 non-null int64\n",
      "num_luxury              41918 non-null int64\n",
      "outdoor_score           41918 non-null float64\n",
      "pets_allowed            41918 non-null int64\n",
      "price_per_num_lux       31650 non-null float64\n",
      "dtypes: bool(1), float64(7), int64(40), object(9)\n",
      "memory usage: 18.3+ MB\n"
     ]
    }
   ],
   "source": [
    "interaction_typed.info()"
   ]
  },
  {
   "cell_type": "code",
   "execution_count": 133,
   "metadata": {
    "collapsed": true
   },
   "outputs": [],
   "source": [
    "interaction_typed['price_per_feature'] = interaction_typed['price']/interaction_typed['num_features']"
   ]
  },
  {
   "cell_type": "code",
   "execution_count": 134,
   "metadata": {
    "collapsed": false
   },
   "outputs": [],
   "source": [
    "interaction_typed['price_per_feature'].replace(np.inf, np.nan, inplace=True)"
   ]
  },
  {
   "cell_type": "code",
   "execution_count": 135,
   "metadata": {
    "collapsed": false
   },
   "outputs": [],
   "source": [
    "g1 = interaction_typed.groupby(['type']).mean()\n",
    "g1.reset_index(inplace=True)"
   ]
  },
  {
   "cell_type": "code",
   "execution_count": 136,
   "metadata": {
    "collapsed": false
   },
   "outputs": [
    {
     "data": {
      "text/html": [
       "<div>\n",
       "<style>\n",
       "    .dataframe thead tr:only-child th {\n",
       "        text-align: right;\n",
       "    }\n",
       "\n",
       "    .dataframe thead th {\n",
       "        text-align: left;\n",
       "    }\n",
       "\n",
       "    .dataframe tbody tr th {\n",
       "        vertical-align: top;\n",
       "    }\n",
       "</style>\n",
       "<table border=\"1\" class=\"dataframe\">\n",
       "  <thead>\n",
       "    <tr style=\"text-align: right;\">\n",
       "      <th></th>\n",
       "      <th>type</th>\n",
       "      <th>Balcony</th>\n",
       "      <th>Cats_Allowed</th>\n",
       "      <th>Common_Outdoor_Space</th>\n",
       "      <th>Dining_Room</th>\n",
       "      <th>Dishwasher</th>\n",
       "      <th>Dogs_Allowed</th>\n",
       "      <th>Doorman</th>\n",
       "      <th>Elevator</th>\n",
       "      <th>Exclusive</th>\n",
       "      <th>...</th>\n",
       "      <th>ada</th>\n",
       "      <th>door_excl</th>\n",
       "      <th>fitness_oriented</th>\n",
       "      <th>lux_score</th>\n",
       "      <th>num_features</th>\n",
       "      <th>num_luxury</th>\n",
       "      <th>outdoor_score</th>\n",
       "      <th>pets_allowed</th>\n",
       "      <th>price_per_num_lux</th>\n",
       "      <th>price_per_feature</th>\n",
       "    </tr>\n",
       "  </thead>\n",
       "  <tbody>\n",
       "    <tr>\n",
       "      <th>0</th>\n",
       "      <td>apartment</td>\n",
       "      <td>0.069753</td>\n",
       "      <td>0.479504</td>\n",
       "      <td>0.023694</td>\n",
       "      <td>0.117704</td>\n",
       "      <td>0.460075</td>\n",
       "      <td>0.450058</td>\n",
       "      <td>0.441973</td>\n",
       "      <td>0.539684</td>\n",
       "      <td>0.032865</td>\n",
       "      <td>...</td>\n",
       "      <td>0.029929</td>\n",
       "      <td>0.009815</td>\n",
       "      <td>0.055835</td>\n",
       "      <td>0.239378</td>\n",
       "      <td>5.795607</td>\n",
       "      <td>2.393781</td>\n",
       "      <td>0.075653</td>\n",
       "      <td>0.449294</td>\n",
       "      <td>1754.609682</td>\n",
       "      <td>920.973379</td>\n",
       "    </tr>\n",
       "    <tr>\n",
       "      <th>1</th>\n",
       "      <td>condominium</td>\n",
       "      <td>0.114796</td>\n",
       "      <td>0.576531</td>\n",
       "      <td>0.086735</td>\n",
       "      <td>0.232143</td>\n",
       "      <td>0.622449</td>\n",
       "      <td>0.561224</td>\n",
       "      <td>0.780612</td>\n",
       "      <td>0.780612</td>\n",
       "      <td>0.104592</td>\n",
       "      <td>...</td>\n",
       "      <td>0.094388</td>\n",
       "      <td>0.079082</td>\n",
       "      <td>0.178571</td>\n",
       "      <td>0.394388</td>\n",
       "      <td>8.380102</td>\n",
       "      <td>3.943878</td>\n",
       "      <td>0.140306</td>\n",
       "      <td>0.561224</td>\n",
       "      <td>1637.341894</td>\n",
       "      <td>812.735365</td>\n",
       "    </tr>\n",
       "    <tr>\n",
       "      <th>2</th>\n",
       "      <td>loft</td>\n",
       "      <td>0.022321</td>\n",
       "      <td>0.491071</td>\n",
       "      <td>0.013393</td>\n",
       "      <td>0.058036</td>\n",
       "      <td>0.379464</td>\n",
       "      <td>0.477679</td>\n",
       "      <td>0.267857</td>\n",
       "      <td>0.468750</td>\n",
       "      <td>0.102679</td>\n",
       "      <td>...</td>\n",
       "      <td>0.031250</td>\n",
       "      <td>0.017857</td>\n",
       "      <td>0.008929</td>\n",
       "      <td>0.183929</td>\n",
       "      <td>4.825893</td>\n",
       "      <td>1.839286</td>\n",
       "      <td>0.049107</td>\n",
       "      <td>0.477679</td>\n",
       "      <td>3017.457735</td>\n",
       "      <td>1471.562745</td>\n",
       "    </tr>\n",
       "    <tr>\n",
       "      <th>3</th>\n",
       "      <td>other</td>\n",
       "      <td>0.046408</td>\n",
       "      <td>0.480468</td>\n",
       "      <td>0.024939</td>\n",
       "      <td>0.081356</td>\n",
       "      <td>0.321953</td>\n",
       "      <td>0.445763</td>\n",
       "      <td>0.372720</td>\n",
       "      <td>0.487651</td>\n",
       "      <td>0.065456</td>\n",
       "      <td>...</td>\n",
       "      <td>0.019855</td>\n",
       "      <td>0.008797</td>\n",
       "      <td>0.039952</td>\n",
       "      <td>0.196061</td>\n",
       "      <td>4.643906</td>\n",
       "      <td>1.960613</td>\n",
       "      <td>0.052098</td>\n",
       "      <td>0.444794</td>\n",
       "      <td>2194.651349</td>\n",
       "      <td>1257.191960</td>\n",
       "    </tr>\n",
       "    <tr>\n",
       "      <th>4</th>\n",
       "      <td>ph</td>\n",
       "      <td>0.091613</td>\n",
       "      <td>0.485161</td>\n",
       "      <td>0.032258</td>\n",
       "      <td>0.140645</td>\n",
       "      <td>0.544516</td>\n",
       "      <td>0.461935</td>\n",
       "      <td>0.487742</td>\n",
       "      <td>0.558710</td>\n",
       "      <td>0.032258</td>\n",
       "      <td>...</td>\n",
       "      <td>0.019355</td>\n",
       "      <td>0.023226</td>\n",
       "      <td>0.069677</td>\n",
       "      <td>0.269032</td>\n",
       "      <td>6.454194</td>\n",
       "      <td>2.690323</td>\n",
       "      <td>0.103011</td>\n",
       "      <td>0.460645</td>\n",
       "      <td>1704.782428</td>\n",
       "      <td>836.909230</td>\n",
       "    </tr>\n",
       "  </tbody>\n",
       "</table>\n",
       "<p>5 rows × 50 columns</p>\n",
       "</div>"
      ],
      "text/plain": [
       "          type   Balcony  Cats_Allowed  Common_Outdoor_Space  Dining_Room  \\\n",
       "0    apartment  0.069753      0.479504              0.023694     0.117704   \n",
       "1  condominium  0.114796      0.576531              0.086735     0.232143   \n",
       "2         loft  0.022321      0.491071              0.013393     0.058036   \n",
       "3        other  0.046408      0.480468              0.024939     0.081356   \n",
       "4           ph  0.091613      0.485161              0.032258     0.140645   \n",
       "\n",
       "   Dishwasher  Dogs_Allowed   Doorman  Elevator  Exclusive        ...          \\\n",
       "0    0.460075      0.450058  0.441973  0.539684   0.032865        ...           \n",
       "1    0.622449      0.561224  0.780612  0.780612   0.104592        ...           \n",
       "2    0.379464      0.477679  0.267857  0.468750   0.102679        ...           \n",
       "3    0.321953      0.445763  0.372720  0.487651   0.065456        ...           \n",
       "4    0.544516      0.461935  0.487742  0.558710   0.032258        ...           \n",
       "\n",
       "        ada  door_excl  fitness_oriented  lux_score  num_features  num_luxury  \\\n",
       "0  0.029929   0.009815          0.055835   0.239378      5.795607    2.393781   \n",
       "1  0.094388   0.079082          0.178571   0.394388      8.380102    3.943878   \n",
       "2  0.031250   0.017857          0.008929   0.183929      4.825893    1.839286   \n",
       "3  0.019855   0.008797          0.039952   0.196061      4.643906    1.960613   \n",
       "4  0.019355   0.023226          0.069677   0.269032      6.454194    2.690323   \n",
       "\n",
       "   outdoor_score  pets_allowed  price_per_num_lux  price_per_feature  \n",
       "0       0.075653      0.449294        1754.609682         920.973379  \n",
       "1       0.140306      0.561224        1637.341894         812.735365  \n",
       "2       0.049107      0.477679        3017.457735        1471.562745  \n",
       "3       0.052098      0.444794        2194.651349        1257.191960  \n",
       "4       0.103011      0.460645        1704.782428         836.909230  \n",
       "\n",
       "[5 rows x 50 columns]"
      ]
     },
     "execution_count": 136,
     "metadata": {},
     "output_type": "execute_result"
    }
   ],
   "source": [
    "g1.head()"
   ]
  },
  {
   "cell_type": "code",
   "execution_count": 137,
   "metadata": {
    "collapsed": true
   },
   "outputs": [],
   "source": [
    "avgs = g1[['type','lux_score', 'num_features', 'num_luxury','outdoor_score', 'price_per_num_lux', 'price_per_feature']]"
   ]
  },
  {
   "cell_type": "code",
   "execution_count": 138,
   "metadata": {
    "collapsed": false
   },
   "outputs": [
    {
     "name": "stderr",
     "output_type": "stream",
     "text": [
      "/Users/Braden/anaconda/lib/python3.6/site-packages/pandas/core/frame.py:2746: SettingWithCopyWarning: \n",
      "A value is trying to be set on a copy of a slice from a DataFrame\n",
      "\n",
      "See the caveats in the documentation: http://pandas.pydata.org/pandas-docs/stable/indexing.html#indexing-view-versus-copy\n",
      "  **kwargs)\n"
     ]
    }
   ],
   "source": [
    "avgs.columns = ['avg_'+x for x in avgs]\n",
    "avgs.rename(columns={'avg_type':'type'}, inplace=True)"
   ]
  },
  {
   "cell_type": "code",
   "execution_count": 140,
   "metadata": {
    "collapsed": false
   },
   "outputs": [
    {
     "data": {
      "text/html": [
       "<div>\n",
       "<style>\n",
       "    .dataframe thead tr:only-child th {\n",
       "        text-align: right;\n",
       "    }\n",
       "\n",
       "    .dataframe thead th {\n",
       "        text-align: left;\n",
       "    }\n",
       "\n",
       "    .dataframe tbody tr th {\n",
       "        vertical-align: top;\n",
       "    }\n",
       "</style>\n",
       "<table border=\"1\" class=\"dataframe\">\n",
       "  <thead>\n",
       "    <tr style=\"text-align: right;\">\n",
       "      <th></th>\n",
       "      <th>type</th>\n",
       "      <th>avg_lux_score</th>\n",
       "      <th>avg_num_features</th>\n",
       "      <th>avg_num_luxury</th>\n",
       "      <th>avg_outdoor_score</th>\n",
       "      <th>avg_price_per_num_lux</th>\n",
       "      <th>avg_price_per_feature</th>\n",
       "    </tr>\n",
       "  </thead>\n",
       "  <tbody>\n",
       "    <tr>\n",
       "      <th>0</th>\n",
       "      <td>apartment</td>\n",
       "      <td>0.239378</td>\n",
       "      <td>5.795607</td>\n",
       "      <td>2.393781</td>\n",
       "      <td>0.075653</td>\n",
       "      <td>1754.609682</td>\n",
       "      <td>920.973379</td>\n",
       "    </tr>\n",
       "    <tr>\n",
       "      <th>1</th>\n",
       "      <td>condominium</td>\n",
       "      <td>0.394388</td>\n",
       "      <td>8.380102</td>\n",
       "      <td>3.943878</td>\n",
       "      <td>0.140306</td>\n",
       "      <td>1637.341894</td>\n",
       "      <td>812.735365</td>\n",
       "    </tr>\n",
       "    <tr>\n",
       "      <th>2</th>\n",
       "      <td>loft</td>\n",
       "      <td>0.183929</td>\n",
       "      <td>4.825893</td>\n",
       "      <td>1.839286</td>\n",
       "      <td>0.049107</td>\n",
       "      <td>3017.457735</td>\n",
       "      <td>1471.562745</td>\n",
       "    </tr>\n",
       "    <tr>\n",
       "      <th>3</th>\n",
       "      <td>other</td>\n",
       "      <td>0.196061</td>\n",
       "      <td>4.643906</td>\n",
       "      <td>1.960613</td>\n",
       "      <td>0.052098</td>\n",
       "      <td>2194.651349</td>\n",
       "      <td>1257.191960</td>\n",
       "    </tr>\n",
       "    <tr>\n",
       "      <th>4</th>\n",
       "      <td>ph</td>\n",
       "      <td>0.269032</td>\n",
       "      <td>6.454194</td>\n",
       "      <td>2.690323</td>\n",
       "      <td>0.103011</td>\n",
       "      <td>1704.782428</td>\n",
       "      <td>836.909230</td>\n",
       "    </tr>\n",
       "  </tbody>\n",
       "</table>\n",
       "</div>"
      ],
      "text/plain": [
       "          type  avg_lux_score  avg_num_features  avg_num_luxury  \\\n",
       "0    apartment       0.239378          5.795607        2.393781   \n",
       "1  condominium       0.394388          8.380102        3.943878   \n",
       "2         loft       0.183929          4.825893        1.839286   \n",
       "3        other       0.196061          4.643906        1.960613   \n",
       "4           ph       0.269032          6.454194        2.690323   \n",
       "\n",
       "   avg_outdoor_score  avg_price_per_num_lux  avg_price_per_feature  \n",
       "0           0.075653            1754.609682             920.973379  \n",
       "1           0.140306            1637.341894             812.735365  \n",
       "2           0.049107            3017.457735            1471.562745  \n",
       "3           0.052098            2194.651349            1257.191960  \n",
       "4           0.103011            1704.782428             836.909230  "
      ]
     },
     "execution_count": 140,
     "metadata": {},
     "output_type": "execute_result"
    }
   ],
   "source": [
    "avgs.head()"
   ]
  },
  {
   "cell_type": "code",
   "execution_count": 141,
   "metadata": {
    "collapsed": false
   },
   "outputs": [],
   "source": [
    "avgAdded = pd.merge(interaction_typed, avgs, on='type')"
   ]
  },
  {
   "cell_type": "markdown",
   "metadata": {},
   "source": [
    "I replaced null values with the average to not skew the results. Avaging will result in a ratio of 1 indicating that this property is not differentiated from the rest."
   ]
  },
  {
   "cell_type": "code",
   "execution_count": 156,
   "metadata": {
    "collapsed": true
   },
   "outputs": [],
   "source": [
    "avgAdded['price_per_num_lux'].fillna(avgAdded['avg_price_per_num_lux'], inplace=True)\n",
    "avgAdded['outdoor_score'].fillna(avgAdded['avg_outdoor_score'], inplace=True)\n",
    "avgAdded['lux_score'].fillna(avgAdded['avg_lux_score'], inplace=True)\n",
    "avgAdded['price_per_feature'].fillna(avgAdded['avg_price_per_feature'], inplace=True)\n",
    "\n",
    "avgAdded['price_lux_ratio'] = avgAdded['price_per_num_lux']/avgAdded['avg_price_per_num_lux']\n",
    "avgAdded['outdoor_ratio'] = avgAdded['outdoor_score']/avgAdded['avg_outdoor_score']\n",
    "avgAdded['lux_ratio'] = avgAdded['lux_score']/avgAdded['avg_lux_score']\n",
    "avgAdded['price_feature_ratio'] = avgAdded['price_per_feature']/avgAdded['avg_price_per_feature']"
   ]
  },
  {
   "cell_type": "code",
   "execution_count": 157,
   "metadata": {
    "collapsed": true
   },
   "outputs": [],
   "source": [
    "avgAdded.to_json('./typedData/compsTypedInteraction.json')"
   ]
  },
  {
   "cell_type": "code",
   "execution_count": null,
   "metadata": {
    "collapsed": true
   },
   "outputs": [],
   "source": []
  }
 ],
 "metadata": {
  "kernelspec": {
   "display_name": "Python 3",
   "language": "python",
   "name": "python3"
  },
  "language_info": {
   "codemirror_mode": {
    "name": "ipython",
    "version": 3
   },
   "file_extension": ".py",
   "mimetype": "text/x-python",
   "name": "python",
   "nbconvert_exporter": "python",
   "pygments_lexer": "ipython3",
   "version": "3.6.0"
  }
 },
 "nbformat": 4,
 "nbformat_minor": 2
}
