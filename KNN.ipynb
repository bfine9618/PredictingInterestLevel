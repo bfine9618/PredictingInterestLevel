{
 "cells": [
  {
   "cell_type": "code",
   "execution_count": 234,
   "metadata": {
    "collapsed": true
   },
   "outputs": [],
   "source": [
    "import pandas as pd\n",
    "import numpy as np"
   ]
  },
  {
   "cell_type": "code",
   "execution_count": 235,
   "metadata": {
    "collapsed": true
   },
   "outputs": [],
   "source": [
    "df = pd.read_json('./typedData/compsTypedInteraction.json')"
   ]
  },
  {
   "cell_type": "code",
   "execution_count": 236,
   "metadata": {},
   "outputs": [],
   "source": [
    "agentGroup = df.groupby(['manager_id']).mean()"
   ]
  },
  {
   "cell_type": "code",
   "execution_count": 237,
   "metadata": {
    "collapsed": true
   },
   "outputs": [],
   "source": [
    "buildingGroup = df.groupby(['building_id', 'manager_id']).mean()"
   ]
  },
  {
   "cell_type": "code",
   "execution_count": 238,
   "metadata": {},
   "outputs": [],
   "source": [
    "buildingAvg = buildingGroup[['interestVal']]\n",
    "buildingAvg.columns = ['prob_interest_building']\n",
    "buildingAvg.reset_index(inplace=True)"
   ]
  },
  {
   "cell_type": "code",
   "execution_count": 239,
   "metadata": {
    "scrolled": true
   },
   "outputs": [],
   "source": [
    "managerAvg = agentGroup[['interestVal']]\n",
    "managerAvg.columns = ['prob_interest_manager']\n",
    "managerAvg.reset_index(inplace=True)"
   ]
  },
  {
   "cell_type": "code",
   "execution_count": 240,
   "metadata": {},
   "outputs": [],
   "source": [
    "df = df.merge(managerAvg, on='manager_id', how='left')\n",
    "df = df.merge(buildingAvg, on=['building_id', 'manager_id'], how='left')"
   ]
  },
  {
   "cell_type": "code",
   "execution_count": 241,
   "metadata": {
    "collapsed": true
   },
   "outputs": [],
   "source": [
    "df['rooms'] = df['bedrooms']+df['bathrooms']"
   ]
  },
  {
   "cell_type": "code",
   "execution_count": 242,
   "metadata": {
    "collapsed": true
   },
   "outputs": [],
   "source": [
    "def pricePerRoom(row):\n",
    "    if row['rooms']==0:\n",
    "        return row['price']/.5\n",
    "    else:\n",
    "        return row['price']/row['rooms']"
   ]
  },
  {
   "cell_type": "code",
   "execution_count": 243,
   "metadata": {},
   "outputs": [],
   "source": [
    "df['price_per_room'] = df[['price', 'rooms']].apply(pricePerRoom, axis=1)"
   ]
  },
  {
   "cell_type": "code",
   "execution_count": 244,
   "metadata": {
    "scrolled": false
   },
   "outputs": [
    {
     "name": "stdout",
     "output_type": "stream",
     "text": [
      "<class 'pandas.core.frame.DataFrame'>\n",
      "Int64Index: 41918 entries, 0 to 41917\n",
      "Data columns (total 74 columns):\n",
      "Balcony                   41918 non-null int64\n",
      "Cats_Allowed              41918 non-null int64\n",
      "Common_Outdoor_Space      41918 non-null int64\n",
      "Dining_Room               41918 non-null int64\n",
      "Dishwasher                41918 non-null int64\n",
      "Dogs_Allowed              41918 non-null int64\n",
      "Doorman                   41918 non-null int64\n",
      "Elevator                  41918 non-null int64\n",
      "Exclusive                 41918 non-null int64\n",
      "Fitness_Center            41918 non-null int64\n",
      "Garden_Patio              41918 non-null int64\n",
      "Hardwood_Floors           41918 non-null int64\n",
      "High_Speed_Internet       41918 non-null int64\n",
      "Laundry_in_Unit           41918 non-null int64\n",
      "New_Construction          41918 non-null int64\n",
      "No_Fee                    41918 non-null int64\n",
      "Outdoor_Space             41918 non-null int64\n",
      "Pre_War                   41918 non-null int64\n",
      "Roof_Deck                 41918 non-null int64\n",
      "Swimming_Pool             41918 non-null int64\n",
      "Terrace                   41918 non-null int64\n",
      "Wheelchair_Access         41918 non-null int64\n",
      "ada                       41918 non-null int64\n",
      "apartment                 41918 non-null int64\n",
      "avg_lux_score             41918 non-null float64\n",
      "avg_num_features          41918 non-null float64\n",
      "avg_num_luxury            41918 non-null float64\n",
      "avg_outdoor_score         41918 non-null float64\n",
      "avg_price_per_feature     41918 non-null float64\n",
      "avg_price_per_num_lux     41918 non-null float64\n",
      "bathrooms                 41918 non-null float64\n",
      "bedrooms                  41918 non-null int64\n",
      "building_id               41918 non-null object\n",
      "condominium               41918 non-null int64\n",
      "created                   41918 non-null object\n",
      "description               41918 non-null object\n",
      "display_address           41918 non-null object\n",
      "door_excl                 41918 non-null int64\n",
      "features                  41918 non-null object\n",
      "fitness_oriented          41918 non-null int64\n",
      "foundType                 41918 non-null bool\n",
      "interestVal               41918 non-null float64\n",
      "interest_level            41918 non-null object\n",
      "latitude                  41918 non-null float64\n",
      "laundry_in_building       41918 non-null int64\n",
      "listing_id                41918 non-null int64\n",
      "loft                      41918 non-null int64\n",
      "longitude                 41918 non-null float64\n",
      "lux_per_dollar            41918 non-null float64\n",
      "lux_ratio                 41918 non-null float64\n",
      "lux_score                 41918 non-null float64\n",
      "manager_id                41918 non-null object\n",
      "numPhotos                 41918 non-null int64\n",
      "num_features              41918 non-null int64\n",
      "num_luxury                41918 non-null int64\n",
      "other                     41918 non-null int64\n",
      "outdoor_ratio             41918 non-null float64\n",
      "outdoor_score             41918 non-null float64\n",
      "pets_allowed              41918 non-null int64\n",
      "ph                        41918 non-null int64\n",
      "price                     41918 non-null int64\n",
      "price_feature_ratio       41918 non-null float64\n",
      "price_lux_ratio           41918 non-null float64\n",
      "price_per_feature         41918 non-null float64\n",
      "price_per_num_lux         41918 non-null float64\n",
      "street_address            41918 non-null object\n",
      "studio                    41918 non-null int64\n",
      "townhome                  41918 non-null int64\n",
      "type                      41918 non-null object\n",
      "walk_up                   41918 non-null int64\n",
      "prob_interest_manager     41918 non-null float64\n",
      "prob_interest_building    41918 non-null float64\n",
      "rooms                     41918 non-null float64\n",
      "price_per_room            41918 non-null float64\n",
      "dtypes: bool(1), float64(23), int64(41), object(9)\n",
      "memory usage: 23.7+ MB\n"
     ]
    }
   ],
   "source": [
    "df.info()"
   ]
  },
  {
   "cell_type": "code",
   "execution_count": 245,
   "metadata": {},
   "outputs": [],
   "source": [
    "from sklearn.neighbors import KNeighborsClassifier as KNN\n",
    "from sklearn.model_selection import train_test_split\n",
    "from sklearn.metrics import classification_report, confusion_matrix"
   ]
  },
  {
   "cell_type": "code",
   "execution_count": 246,
   "metadata": {
    "collapsed": true
   },
   "outputs": [],
   "source": [
    "data = df.drop('interestVal', axis=1).select_dtypes(exclude=['object'])"
   ]
  },
  {
   "cell_type": "code",
   "execution_count": 247,
   "metadata": {
    "collapsed": true
   },
   "outputs": [],
   "source": [
    "X_train, X_test, y_train, y_test = train_test_split(data, df['interest_level'], test_size=0.33, random_state=42)"
   ]
  },
  {
   "cell_type": "code",
   "execution_count": 248,
   "metadata": {},
   "outputs": [
    {
     "name": "stdout",
     "output_type": "stream",
     "text": [
      "             precision    recall  f1-score   support\n",
      "\n",
      "       high       0.06      0.27      0.10       225\n",
      "        low       0.91      0.74      0.81     11955\n",
      "     medium       0.19      0.36      0.25      1653\n",
      "\n",
      "avg / total       0.81      0.68      0.73     13833\n",
      "\n"
     ]
    }
   ],
   "source": [
    "knn = KNN(n_neighbors=10, weights='distance', algorithm='auto')\n",
    "knn.fit(X_train, y_train)\n",
    "preds = knn.predict(X_test)\n",
    "print(classification_report(preds, y_test))"
   ]
  },
  {
   "cell_type": "code",
   "execution_count": 249,
   "metadata": {},
   "outputs": [
    {
     "name": "stdout",
     "output_type": "stream",
     "text": [
      "             precision    recall  f1-score   support\n",
      "\n",
      "       high       0.05      0.26      0.09       210\n",
      "        low       0.94      0.73      0.82     12448\n",
      "     medium       0.14      0.37      0.20      1175\n",
      "\n",
      "avg / total       0.85      0.69      0.76     13833\n",
      "\n"
     ]
    }
   ],
   "source": [
    "knn = KNN(n_neighbors=10, weights='uniform', algorithm='auto')\n",
    "knn.fit(X_train, y_train)\n",
    "preds = knn.predict(X_test)\n",
    "cr = classification_report(preds, y_test)\n",
    "print(cr)"
   ]
  },
  {
   "cell_type": "code",
   "execution_count": 250,
   "metadata": {},
   "outputs": [],
   "source": [
    "accuracyUniform = []\n",
    "for nn in range(1, 25):\n",
    "    knn = KNN(n_neighbors=nn, weights='uniform', algorithm='auto')\n",
    "    knn.fit(X_train, y_train)\n",
    "    preds = knn.predict(X_test)\n",
    "    accuracyUniform.append((preds==y_test).sum()/len(preds))"
   ]
  },
  {
   "cell_type": "code",
   "execution_count": 251,
   "metadata": {
    "collapsed": true
   },
   "outputs": [],
   "source": [
    "accuracyDistance = []\n",
    "for nn in range(1, 25):\n",
    "    knn = KNN(n_neighbors=nn, weights='distance', algorithm='auto')\n",
    "    knn.fit(X_train, y_train)\n",
    "    preds = knn.predict(X_test)\n",
    "    accuracyDistance.append((preds==y_test).sum()/len(preds))"
   ]
  },
  {
   "cell_type": "code",
   "execution_count": 252,
   "metadata": {
    "collapsed": true
   },
   "outputs": [],
   "source": [
    "import seaborn as sns\n",
    "import matplotlib.pyplot as plt\n",
    "% matplotlib inline"
   ]
  },
  {
   "cell_type": "code",
   "execution_count": 253,
   "metadata": {},
   "outputs": [
    {
     "data": {
      "text/plain": [
       "22"
      ]
     },
     "execution_count": 253,
     "metadata": {},
     "output_type": "execute_result"
    }
   ],
   "source": [
    "accuracyDistance.index(np.max(accuracyDistance))"
   ]
  },
  {
   "cell_type": "code",
   "execution_count": 254,
   "metadata": {},
   "outputs": [
    {
     "data": {
      "text/plain": [
       "23"
      ]
     },
     "execution_count": 254,
     "metadata": {},
     "output_type": "execute_result"
    }
   ],
   "source": [
    "accuracyUniform.index(np.max(accuracyUniform))"
   ]
  },
  {
   "cell_type": "code",
   "execution_count": 256,
   "metadata": {},
   "outputs": [
    {
     "data": {
      "text/plain": [
       "<matplotlib.legend.Legend at 0x1318a1c88>"
      ]
     },
     "execution_count": 256,
     "metadata": {},
     "output_type": "execute_result"
    },
    {
     "data": {
      "image/png": "[encoded data removed]",
      "text/plain": [
       "<matplotlib.figure.Figure at 0x14070ff60>"
      ]
     },
     "metadata": {},
     "output_type": "display_data"
    }
   ],
   "source": [
    "plt.plot(range(1, 25), accuracyDistance, label='Distance')\n",
    "plt.plot(range(1, 25), accuracyUniform, label='Uniform')\n",
    "plt.legend()"
   ]
  },
  {
   "cell_type": "code",
   "execution_count": 257,
   "metadata": {},
   "outputs": [
    {
     "name": "stdout",
     "output_type": "stream",
     "text": [
      "             precision    recall  f1-score   support\n",
      "\n",
      "       high       0.02      0.29      0.04        78\n",
      "        low       0.97      0.72      0.82     13079\n",
      "     medium       0.08      0.38      0.14       676\n",
      "\n",
      "avg / total       0.92      0.70      0.79     13833\n",
      "\n"
     ]
    }
   ],
   "source": [
    "knn = KNN(n_neighbors=22, weights='uniform', algorithm='auto')\n",
    "knn.fit(X_train, y_train)\n",
    "preds = knn.predict(X_test)\n",
    "print(classification_report(preds, y_test))"
   ]
  },
  {
   "cell_type": "code",
   "execution_count": 258,
   "metadata": {},
   "outputs": [
    {
     "name": "stdout",
     "output_type": "stream",
     "text": [
      "[[  23   26   29]\n",
      " [ 866 9383 2830]\n",
      " [ 127  289  260]]\n"
     ]
    }
   ],
   "source": [
    "print(confusion_matrix(preds, y_test))"
   ]
  },
  {
   "cell_type": "code",
   "execution_count": null,
   "metadata": {
    "collapsed": true
   },
   "outputs": [],
   "source": []
  }
 ],
 "metadata": {
  "kernelspec": {
   "display_name": "Python 3",
   "language": "python",
   "name": "python3"
  },
  "language_info": {
   "codemirror_mode": {
    "name": "ipython",
    "version": 3
   },
   "file_extension": ".py",
   "mimetype": "text/x-python",
   "name": "python",
   "nbconvert_exporter": "python",
   "pygments_lexer": "ipython3",
   "version": "3.6.2"
  }
 },
 "nbformat": 4,
 "nbformat_minor": 2
}
