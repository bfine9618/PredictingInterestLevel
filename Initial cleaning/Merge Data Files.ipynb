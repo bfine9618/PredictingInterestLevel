{
 "cells": [
  {
   "cell_type": "code",
   "execution_count": 1,
   "metadata": {
    "collapsed": true
   },
   "outputs": [],
   "source": [
    "import pandas as pd\n",
    "import numpy as np"
   ]
  },
  {
   "cell_type": "code",
   "execution_count": 2,
   "metadata": {
    "collapsed": true
   },
   "outputs": [],
   "source": [
    "typed = pd.read_json('./rawData/cleanedTyped.json')"
   ]
  },
  {
   "cell_type": "code",
   "execution_count": 3,
   "metadata": {
    "collapsed": true
   },
   "outputs": [],
   "source": [
    "interaction = pd.read_json('./typedData/withInteraction.json')\n",
    "interaction['price_per_num_lux'] = interaction['price']/interaction['num_luxury']"
   ]
  },
  {
   "cell_type": "code",
   "execution_count": 4,
   "metadata": {
    "collapsed": true
   },
   "outputs": [],
   "source": [
    "typeCols = typed.columns\n",
    "interCols = interaction.columns"
   ]
  },
  {
   "cell_type": "code",
   "execution_count": 5,
   "metadata": {
    "collapsed": true
   },
   "outputs": [],
   "source": [
    "interCols = [x for x in interCols if x not in typeCols]"
   ]
  },
  {
   "cell_type": "code",
   "execution_count": 6,
   "metadata": {
    "collapsed": false,
    "scrolled": true
   },
   "outputs": [
    {
     "data": {
      "text/plain": [
       "Index(['Balcony', 'Cats_Allowed', 'Common_Outdoor_Space', 'Dining_Room',\n",
       "       'Dishwasher', 'Dogs_Allowed', 'Doorman', 'Elevator', 'Exclusive',\n",
       "       'Fitness_Center', 'Garden_Patio', 'Hardwood_Floors',\n",
       "       'High_Speed_Internet', 'Laundry_in_Unit', 'New_Construction', 'No_Fee',\n",
       "       'Outdoor_Space', 'Pre_War', 'Roof_Deck', 'Swimming_Pool', 'Terrace',\n",
       "       'Wheelchair_Access', 'apartment', 'bathrooms', 'bedrooms',\n",
       "       'building_id', 'condominium', 'created', 'description',\n",
       "       'display_address', 'features', 'foundType', 'interestVal',\n",
       "       'interest_level', 'latitude', 'laundry_in_building', 'listing_id',\n",
       "       'loft', 'longitude', 'manager_id', 'other', 'ph', 'price',\n",
       "       'street_address', 'studio', 'townhome', 'type', 'walk_up'],\n",
       "      dtype='object')"
      ]
     },
     "execution_count": 6,
     "metadata": {},
     "output_type": "execute_result"
    }
   ],
   "source": [
    "typeCols"
   ]
  },
  {
   "cell_type": "code",
   "execution_count": 7,
   "metadata": {
    "collapsed": false
   },
   "outputs": [
    {
     "data": {
      "text/plain": [
       "['Loft',\n",
       " 'ada',\n",
       " 'door_excl',\n",
       " 'fitness_oriented',\n",
       " 'lux_per_dollar',\n",
       " 'lux_score',\n",
       " 'num_features',\n",
       " 'num_luxury',\n",
       " 'outdoor_score',\n",
       " 'pets_allowed',\n",
       " 'price_per_num_lux']"
      ]
     },
     "execution_count": 7,
     "metadata": {},
     "output_type": "execute_result"
    }
   ],
   "source": [
    "interCols"
   ]
  },
  {
   "cell_type": "code",
   "execution_count": 8,
   "metadata": {
    "collapsed": true
   },
   "outputs": [],
   "source": [
    "m1 = pd.DataFrame(interaction[interCols])\n",
    "m1.drop('Loft', axis=1, inplace=True)\n",
    "m1.replace(np.inf, np.nan, inplace=True)"
   ]
  },
  {
   "cell_type": "code",
   "execution_count": 9,
   "metadata": {
    "collapsed": true
   },
   "outputs": [],
   "source": [
    "interaction_typed = pd.concat([typed, m1], axis=1)"
   ]
  },
  {
   "cell_type": "code",
   "execution_count": 10,
   "metadata": {
    "collapsed": true
   },
   "outputs": [],
   "source": [
    "interaction_typed['price_per_feature'] = interaction_typed['price']/interaction_typed['num_features']"
   ]
  },
  {
   "cell_type": "code",
   "execution_count": 11,
   "metadata": {
    "collapsed": true
   },
   "outputs": [],
   "source": [
    "interaction_typed['price_per_feature'].replace(np.inf, np.nan, inplace=True)"
   ]
  },
  {
   "cell_type": "code",
   "execution_count": 12,
   "metadata": {
    "collapsed": true
   },
   "outputs": [],
   "source": [
    "g1 = interaction_typed.groupby(['type']).mean()\n",
    "g1.reset_index(inplace=True)"
   ]
  },
  {
   "cell_type": "code",
   "execution_count": 13,
   "metadata": {
    "collapsed": true
   },
   "outputs": [],
   "source": [
    "avgs = g1[['type','lux_score', 'num_features', 'num_luxury','outdoor_score', 'price_per_num_lux', 'price_per_feature']]"
   ]
  },
  {
   "cell_type": "code",
   "execution_count": 14,
   "metadata": {
    "collapsed": false
   },
   "outputs": [
    {
     "name": "stderr",
     "output_type": "stream",
     "text": [
      "/Users/Braden/anaconda/lib/python3.6/site-packages/pandas/core/frame.py:2746: SettingWithCopyWarning: \n",
      "A value is trying to be set on a copy of a slice from a DataFrame\n",
      "\n",
      "See the caveats in the documentation: http://pandas.pydata.org/pandas-docs/stable/indexing.html#indexing-view-versus-copy\n",
      "  **kwargs)\n"
     ]
    }
   ],
   "source": [
    "avgs.columns = ['avg_'+x for x in avgs]\n",
    "avgs.rename(columns={'avg_type':'type'}, inplace=True)"
   ]
  },
  {
   "cell_type": "code",
   "execution_count": 15,
   "metadata": {
    "collapsed": true
   },
   "outputs": [],
   "source": [
    "avgAdded = pd.merge(interaction_typed, avgs, on='type')"
   ]
  },
  {
   "cell_type": "markdown",
   "metadata": {},
   "source": [
    "I replaced null values with the average to not skew the results. Avaging will result in a ratio of 1 indicating that this property is not differentiated from the rest."
   ]
  },
  {
   "cell_type": "code",
   "execution_count": 16,
   "metadata": {
    "collapsed": true
   },
   "outputs": [],
   "source": [
    "avgAdded['price_per_num_lux'].fillna(avgAdded['avg_price_per_num_lux'], inplace=True)\n",
    "avgAdded['outdoor_score'].fillna(avgAdded['avg_outdoor_score'], inplace=True)\n",
    "avgAdded['lux_score'].fillna(avgAdded['avg_lux_score'], inplace=True)\n",
    "avgAdded['price_per_feature'].fillna(avgAdded['avg_price_per_feature'], inplace=True)\n",
    "\n",
    "avgAdded['price_lux_ratio'] = avgAdded['price_per_num_lux']/avgAdded['avg_price_per_num_lux']\n",
    "avgAdded['outdoor_ratio'] = avgAdded['outdoor_score']/avgAdded['avg_outdoor_score']\n",
    "avgAdded['lux_ratio'] = avgAdded['lux_score']/avgAdded['avg_lux_score']\n",
    "avgAdded['price_feature_ratio'] = avgAdded['price_per_feature']/avgAdded['avg_price_per_feature']"
   ]
  },
  {
   "cell_type": "code",
   "execution_count": 17,
   "metadata": {
    "collapsed": true
   },
   "outputs": [],
   "source": [
    "train = pd.read_json('./rawData/train_data.json')\n",
    "train['numPhotos'] = train['photos'].apply(len)\n",
    "avgAdded = avgAdded.merge(train[['numPhotos', 'listing_id']], on='listing_id', how='left')"
   ]
  },
  {
   "cell_type": "code",
   "execution_count": 18,
   "metadata": {
    "collapsed": true
   },
   "outputs": [],
   "source": [
    "avgAdded.to_json('./typedData/compsTypedInteraction.json')"
   ]
  },
  {
   "cell_type": "code",
   "execution_count": null,
   "metadata": {
    "collapsed": true
   },
   "outputs": [],
   "source": []
  }
 ],
 "metadata": {
  "kernelspec": {
   "display_name": "Python 3",
   "language": "python",
   "name": "python3"
  },
  "language_info": {
   "codemirror_mode": {
    "name": "ipython",
    "version": 3
   },
   "file_extension": ".py",
   "mimetype": "text/x-python",
   "name": "python",
   "nbconvert_exporter": "python",
   "pygments_lexer": "ipython3",
   "version": "3.6.0"
  }
 },
 "nbformat": 4,
 "nbformat_minor": 2
}
