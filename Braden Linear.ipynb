{
 "cells": [
  {
   "cell_type": "code",
   "execution_count": 1,
   "metadata": {
    "collapsed": true
   },
   "outputs": [],
   "source": [
    "import numpy as np\n",
    "import pandas as pd\n",
    "import seaborn as sns\n",
    "import matplotlib.pyplot as plt\n",
    "% matplotlib inline\n",
    "\n",
    "import requests as re\n",
    "\n",
    "sns.set_context('poster')\n",
    "sns.set_style('whitegrid')"
   ]
  },
  {
   "cell_type": "code",
   "execution_count": 7,
   "metadata": {
    "collapsed": false
   },
   "outputs": [],
   "source": [
    "df = pd.read_json('./rawData/train_data.json')"
   ]
  },
  {
   "cell_type": "code",
   "execution_count": 8,
   "metadata": {
    "collapsed": false,
    "scrolled": true
   },
   "outputs": [
    {
     "data": {
      "text/plain": [
       "Index(['Balcony', 'Cats Allowed', 'Common Outdoor Space', 'Dining Room',\n",
       "       'Dishwasher', 'Dogs Allowed', 'Doorman', 'Elevator', 'Exclusive',\n",
       "       'Fitness Center', 'Garden/Patio', 'Hardwood Floors',\n",
       "       'High Speed Internet', 'Laundry In Building', 'Laundry in Building',\n",
       "       'Laundry in Unit', 'Loft', 'New Construction', 'No Fee',\n",
       "       'Outdoor Space', 'Pre-War', 'Roof Deck', 'Swimming Pool', 'Terrace',\n",
       "       'Wheelchair Access', 'bathrooms', 'bedrooms', 'building_id', 'created',\n",
       "       'description', 'display_address', 'features', 'index', 'interest_level',\n",
       "       'latitude', 'level_0', 'listing_id', 'longitude', 'manager_id',\n",
       "       'photos', 'price', 'street_address'],\n",
       "      dtype='object')"
      ]
     },
     "execution_count": 8,
     "metadata": {},
     "output_type": "execute_result"
    }
   ],
   "source": [
    "df.columns"
   ]
  },
  {
   "cell_type": "code",
   "execution_count": 9,
   "metadata": {
    "collapsed": false
   },
   "outputs": [],
   "source": [
    "df.drop('index', axis=1, inplace=True)\n",
    "df['interestVal'] = df['interest_level'].map({'high': 1, 'medium': 0.5, 'low':0})"
   ]
  },
  {
   "cell_type": "code",
   "execution_count": 10,
   "metadata": {
    "collapsed": false
   },
   "outputs": [
    {
     "data": {
      "text/plain": [
       "low       29147\n",
       "medium     9491\n",
       "high       3280\n",
       "Name: interest_level, dtype: int64"
      ]
     },
     "execution_count": 10,
     "metadata": {},
     "output_type": "execute_result"
    }
   ],
   "source": [
    "df.interest_level.value_counts()"
   ]
  },
  {
   "cell_type": "code",
   "execution_count": 11,
   "metadata": {
    "collapsed": false
   },
   "outputs": [
    {
     "data": {
      "text/plain": [
       "0.0    29147\n",
       "0.5     9491\n",
       "1.0     3280\n",
       "Name: interestVal, dtype: int64"
      ]
     },
     "execution_count": 11,
     "metadata": {},
     "output_type": "execute_result"
    }
   ],
   "source": [
    "df.interestVal.value_counts()"
   ]
  },
  {
   "cell_type": "code",
   "execution_count": 12,
   "metadata": {
    "collapsed": true
   },
   "outputs": [],
   "source": [
    "df['bedrooms'] = df['bedrooms'].apply(float)\n",
    "df['bedrooms'].fillna(0, inplace=True)\n",
    "df['bathrooms'].fillna(0, inplace=True)"
   ]
  },
  {
   "cell_type": "code",
   "execution_count": 13,
   "metadata": {
    "collapsed": true
   },
   "outputs": [],
   "source": [
    "import statsmodels.formula.api as smf"
   ]
  },
  {
   "cell_type": "code",
   "execution_count": 14,
   "metadata": {
    "collapsed": false
   },
   "outputs": [],
   "source": [
    "df.columns = [c.replace(' ', '_') for c in df.columns]\n",
    "df.columns = [c.replace('-', '_') for c in df.columns]\n",
    "df.columns = [c.replace('/', '_') for c in df.columns]"
   ]
  },
  {
   "cell_type": "code",
   "execution_count": 18,
   "metadata": {
    "collapsed": false
   },
   "outputs": [],
   "source": [
    "linReg = df.select_dtypes(exclude=['object'])\n",
    "\n",
    "equation = ('+').join(linReg.drop(['interestVal'], axis=1).columns)\n",
    "model = smf.ols('interestVal~'+equation, data=linReg).fit()"
   ]
  },
  {
   "cell_type": "code",
   "execution_count": 19,
   "metadata": {
    "collapsed": false
   },
   "outputs": [
    {
     "data": {
      "text/html": [
       "<table class=\"simpletable\">\n",
       "<caption>OLS Regression Results</caption>\n",
       "<tr>\n",
       "  <th>Dep. Variable:</th>       <td>interestVal</td>   <th>  R-squared:         </th> <td>   0.072</td> \n",
       "</tr>\n",
       "<tr>\n",
       "  <th>Model:</th>                   <td>OLS</td>       <th>  Adj. R-squared:    </th> <td>   0.071</td> \n",
       "</tr>\n",
       "<tr>\n",
       "  <th>Method:</th>             <td>Least Squares</td>  <th>  F-statistic:       </th> <td>   101.5</td> \n",
       "</tr>\n",
       "<tr>\n",
       "  <th>Date:</th>             <td>Sun, 19 Nov 2017</td> <th>  Prob (F-statistic):</th>  <td>  0.00</td>  \n",
       "</tr>\n",
       "<tr>\n",
       "  <th>Time:</th>                 <td>13:19:38</td>     <th>  Log-Likelihood:    </th> <td> -9271.8</td> \n",
       "</tr>\n",
       "<tr>\n",
       "  <th>No. Observations:</th>      <td> 41918</td>      <th>  AIC:               </th> <td>1.861e+04</td>\n",
       "</tr>\n",
       "<tr>\n",
       "  <th>Df Residuals:</th>          <td> 41885</td>      <th>  BIC:               </th> <td>1.889e+04</td>\n",
       "</tr>\n",
       "<tr>\n",
       "  <th>Df Model:</th>              <td>    32</td>      <th>                     </th>     <td> </td>    \n",
       "</tr>\n",
       "<tr>\n",
       "  <th>Covariance Type:</th>      <td>nonrobust</td>    <th>                     </th>     <td> </td>    \n",
       "</tr>\n",
       "</table>\n",
       "<table class=\"simpletable\">\n",
       "<tr>\n",
       "            <td></td>              <th>coef</th>     <th>std err</th>      <th>t</th>      <th>P>|t|</th>  <th>[0.025</th>    <th>0.975]</th>  \n",
       "</tr>\n",
       "<tr>\n",
       "  <th>Intercept</th>            <td>    0.4923</td> <td>    0.130</td> <td>    3.785</td> <td> 0.000</td> <td>    0.237</td> <td>    0.747</td>\n",
       "</tr>\n",
       "<tr>\n",
       "  <th>Balcony</th>              <td>    0.0051</td> <td>    0.007</td> <td>    0.697</td> <td> 0.486</td> <td>   -0.009</td> <td>    0.019</td>\n",
       "</tr>\n",
       "<tr>\n",
       "  <th>Cats_Allowed</th>         <td>    0.0068</td> <td>    0.008</td> <td>    0.797</td> <td> 0.426</td> <td>   -0.010</td> <td>    0.023</td>\n",
       "</tr>\n",
       "<tr>\n",
       "  <th>Common_Outdoor_Space</th> <td>   -0.0159</td> <td>    0.012</td> <td>   -1.354</td> <td> 0.176</td> <td>   -0.039</td> <td>    0.007</td>\n",
       "</tr>\n",
       "<tr>\n",
       "  <th>Dining_Room</th>          <td>    0.0178</td> <td>    0.006</td> <td>    3.205</td> <td> 0.001</td> <td>    0.007</td> <td>    0.029</td>\n",
       "</tr>\n",
       "<tr>\n",
       "  <th>Dishwasher</th>           <td>   -0.0026</td> <td>    0.004</td> <td>   -0.598</td> <td> 0.550</td> <td>   -0.011</td> <td>    0.006</td>\n",
       "</tr>\n",
       "<tr>\n",
       "  <th>Dogs_Allowed</th>         <td>   -0.0319</td> <td>    0.009</td> <td>   -3.733</td> <td> 0.000</td> <td>   -0.049</td> <td>   -0.015</td>\n",
       "</tr>\n",
       "<tr>\n",
       "  <th>Doorman</th>              <td>   -0.0716</td> <td>    0.004</td> <td>  -16.134</td> <td> 0.000</td> <td>   -0.080</td> <td>   -0.063</td>\n",
       "</tr>\n",
       "<tr>\n",
       "  <th>Elevator</th>             <td>   -0.0068</td> <td>    0.004</td> <td>   -1.649</td> <td> 0.099</td> <td>   -0.015</td> <td>    0.001</td>\n",
       "</tr>\n",
       "<tr>\n",
       "  <th>Exclusive</th>            <td>    0.0429</td> <td>    0.007</td> <td>    5.766</td> <td> 0.000</td> <td>    0.028</td> <td>    0.057</td>\n",
       "</tr>\n",
       "<tr>\n",
       "  <th>Fitness_Center</th>       <td>   -0.0345</td> <td>    0.005</td> <td>   -7.256</td> <td> 0.000</td> <td>   -0.044</td> <td>   -0.025</td>\n",
       "</tr>\n",
       "<tr>\n",
       "  <th>Garden_Patio</th>         <td>    0.0058</td> <td>    0.009</td> <td>    0.655</td> <td> 0.512</td> <td>   -0.011</td> <td>    0.023</td>\n",
       "</tr>\n",
       "<tr>\n",
       "  <th>Hardwood_Floors</th>      <td>    0.0630</td> <td>    0.004</td> <td>   14.971</td> <td> 0.000</td> <td>    0.055</td> <td>    0.071</td>\n",
       "</tr>\n",
       "<tr>\n",
       "  <th>High_Speed_Internet</th>  <td>    0.0439</td> <td>    0.007</td> <td>    6.524</td> <td> 0.000</td> <td>    0.031</td> <td>    0.057</td>\n",
       "</tr>\n",
       "<tr>\n",
       "  <th>Laundry_In_Building</th>  <td>    0.1809</td> <td>    0.008</td> <td>   21.519</td> <td> 0.000</td> <td>    0.164</td> <td>    0.197</td>\n",
       "</tr>\n",
       "<tr>\n",
       "  <th>Laundry_in_Building</th>  <td>    0.0232</td> <td>    0.004</td> <td>    5.309</td> <td> 0.000</td> <td>    0.015</td> <td>    0.032</td>\n",
       "</tr>\n",
       "<tr>\n",
       "  <th>Laundry_in_Unit</th>      <td>   -0.0210</td> <td>    0.005</td> <td>   -4.619</td> <td> 0.000</td> <td>   -0.030</td> <td>   -0.012</td>\n",
       "</tr>\n",
       "<tr>\n",
       "  <th>Loft</th>                 <td>    0.0163</td> <td>    0.007</td> <td>    2.180</td> <td> 0.029</td> <td>    0.002</td> <td>    0.031</td>\n",
       "</tr>\n",
       "<tr>\n",
       "  <th>New_Construction</th>     <td>    0.0019</td> <td>    0.008</td> <td>    0.243</td> <td> 0.808</td> <td>   -0.013</td> <td>    0.017</td>\n",
       "</tr>\n",
       "<tr>\n",
       "  <th>No_Fee</th>               <td>    0.0771</td> <td>    0.004</td> <td>   21.788</td> <td> 0.000</td> <td>    0.070</td> <td>    0.084</td>\n",
       "</tr>\n",
       "<tr>\n",
       "  <th>Outdoor_Space</th>        <td>    0.0272</td> <td>    0.006</td> <td>    4.420</td> <td> 0.000</td> <td>    0.015</td> <td>    0.039</td>\n",
       "</tr>\n",
       "<tr>\n",
       "  <th>Pre_War</th>              <td>   -0.0298</td> <td>    0.004</td> <td>   -7.627</td> <td> 0.000</td> <td>   -0.037</td> <td>   -0.022</td>\n",
       "</tr>\n",
       "<tr>\n",
       "  <th>Roof_Deck</th>            <td>   -0.0005</td> <td>    0.006</td> <td>   -0.091</td> <td> 0.927</td> <td>   -0.012</td> <td>    0.011</td>\n",
       "</tr>\n",
       "<tr>\n",
       "  <th>Swimming_Pool</th>        <td>    0.0029</td> <td>    0.007</td> <td>    0.408</td> <td> 0.683</td> <td>   -0.011</td> <td>    0.017</td>\n",
       "</tr>\n",
       "<tr>\n",
       "  <th>Terrace</th>              <td>    0.0006</td> <td>    0.009</td> <td>    0.068</td> <td> 0.946</td> <td>   -0.017</td> <td>    0.018</td>\n",
       "</tr>\n",
       "<tr>\n",
       "  <th>Wheelchair_Access</th>    <td>    0.0034</td> <td>    0.010</td> <td>    0.337</td> <td> 0.736</td> <td>   -0.017</td> <td>    0.023</td>\n",
       "</tr>\n",
       "<tr>\n",
       "  <th>bathrooms</th>            <td>   -0.0724</td> <td>    0.004</td> <td>  -19.799</td> <td> 0.000</td> <td>   -0.080</td> <td>   -0.065</td>\n",
       "</tr>\n",
       "<tr>\n",
       "  <th>bedrooms</th>             <td>    0.0144</td> <td>    0.002</td> <td>    8.780</td> <td> 0.000</td> <td>    0.011</td> <td>    0.018</td>\n",
       "</tr>\n",
       "<tr>\n",
       "  <th>latitude</th>             <td>    0.0021</td> <td>    0.009</td> <td>    0.243</td> <td> 0.808</td> <td>   -0.015</td> <td>    0.019</td>\n",
       "</tr>\n",
       "<tr>\n",
       "  <th>level_0</th>              <td> 7.883e-08</td> <td> 1.04e-07</td> <td>    0.759</td> <td> 0.448</td> <td>-1.25e-07</td> <td> 2.82e-07</td>\n",
       "</tr>\n",
       "<tr>\n",
       "  <th>listing_id</th>           <td>-5.029e-08</td> <td> 1.17e-08</td> <td>   -4.283</td> <td> 0.000</td> <td>-7.33e-08</td> <td>-2.73e-08</td>\n",
       "</tr>\n",
       "<tr>\n",
       "  <th>longitude</th>            <td>   -0.0001</td> <td>    0.005</td> <td>   -0.025</td> <td> 0.980</td> <td>   -0.009</td> <td>    0.009</td>\n",
       "</tr>\n",
       "<tr>\n",
       "  <th>price</th>                <td>-1.842e-07</td> <td> 6.34e-08</td> <td>   -2.906</td> <td> 0.004</td> <td>-3.08e-07</td> <td>   -6e-08</td>\n",
       "</tr>\n",
       "</table>\n",
       "<table class=\"simpletable\">\n",
       "<tr>\n",
       "  <th>Omnibus:</th>       <td>7802.117</td> <th>  Durbin-Watson:     </th> <td>   2.012</td> \n",
       "</tr>\n",
       "<tr>\n",
       "  <th>Prob(Omnibus):</th>  <td> 0.000</td>  <th>  Jarque-Bera (JB):  </th> <td>12915.695</td>\n",
       "</tr>\n",
       "<tr>\n",
       "  <th>Skew:</th>           <td> 1.293</td>  <th>  Prob(JB):          </th> <td>    0.00</td> \n",
       "</tr>\n",
       "<tr>\n",
       "  <th>Kurtosis:</th>       <td> 3.840</td>  <th>  Cond. No.          </th> <td>6.19e+08</td> \n",
       "</tr>\n",
       "</table>"
      ],
      "text/plain": [
       "<class 'statsmodels.iolib.summary.Summary'>\n",
       "\"\"\"\n",
       "                            OLS Regression Results                            \n",
       "==============================================================================\n",
       "Dep. Variable:            interestVal   R-squared:                       0.072\n",
       "Model:                            OLS   Adj. R-squared:                  0.071\n",
       "Method:                 Least Squares   F-statistic:                     101.5\n",
       "Date:                Sun, 19 Nov 2017   Prob (F-statistic):               0.00\n",
       "Time:                        13:19:38   Log-Likelihood:                -9271.8\n",
       "No. Observations:               41918   AIC:                         1.861e+04\n",
       "Df Residuals:                   41885   BIC:                         1.889e+04\n",
       "Df Model:                          32                                         \n",
       "Covariance Type:            nonrobust                                         \n",
       "========================================================================================\n",
       "                           coef    std err          t      P>|t|      [0.025      0.975]\n",
       "----------------------------------------------------------------------------------------\n",
       "Intercept                0.4923      0.130      3.785      0.000       0.237       0.747\n",
       "Balcony                  0.0051      0.007      0.697      0.486      -0.009       0.019\n",
       "Cats_Allowed             0.0068      0.008      0.797      0.426      -0.010       0.023\n",
       "Common_Outdoor_Space    -0.0159      0.012     -1.354      0.176      -0.039       0.007\n",
       "Dining_Room              0.0178      0.006      3.205      0.001       0.007       0.029\n",
       "Dishwasher              -0.0026      0.004     -0.598      0.550      -0.011       0.006\n",
       "Dogs_Allowed            -0.0319      0.009     -3.733      0.000      -0.049      -0.015\n",
       "Doorman                 -0.0716      0.004    -16.134      0.000      -0.080      -0.063\n",
       "Elevator                -0.0068      0.004     -1.649      0.099      -0.015       0.001\n",
       "Exclusive                0.0429      0.007      5.766      0.000       0.028       0.057\n",
       "Fitness_Center          -0.0345      0.005     -7.256      0.000      -0.044      -0.025\n",
       "Garden_Patio             0.0058      0.009      0.655      0.512      -0.011       0.023\n",
       "Hardwood_Floors          0.0630      0.004     14.971      0.000       0.055       0.071\n",
       "High_Speed_Internet      0.0439      0.007      6.524      0.000       0.031       0.057\n",
       "Laundry_In_Building      0.1809      0.008     21.519      0.000       0.164       0.197\n",
       "Laundry_in_Building      0.0232      0.004      5.309      0.000       0.015       0.032\n",
       "Laundry_in_Unit         -0.0210      0.005     -4.619      0.000      -0.030      -0.012\n",
       "Loft                     0.0163      0.007      2.180      0.029       0.002       0.031\n",
       "New_Construction         0.0019      0.008      0.243      0.808      -0.013       0.017\n",
       "No_Fee                   0.0771      0.004     21.788      0.000       0.070       0.084\n",
       "Outdoor_Space            0.0272      0.006      4.420      0.000       0.015       0.039\n",
       "Pre_War                 -0.0298      0.004     -7.627      0.000      -0.037      -0.022\n",
       "Roof_Deck               -0.0005      0.006     -0.091      0.927      -0.012       0.011\n",
       "Swimming_Pool            0.0029      0.007      0.408      0.683      -0.011       0.017\n",
       "Terrace                  0.0006      0.009      0.068      0.946      -0.017       0.018\n",
       "Wheelchair_Access        0.0034      0.010      0.337      0.736      -0.017       0.023\n",
       "bathrooms               -0.0724      0.004    -19.799      0.000      -0.080      -0.065\n",
       "bedrooms                 0.0144      0.002      8.780      0.000       0.011       0.018\n",
       "latitude                 0.0021      0.009      0.243      0.808      -0.015       0.019\n",
       "level_0               7.883e-08   1.04e-07      0.759      0.448   -1.25e-07    2.82e-07\n",
       "listing_id           -5.029e-08   1.17e-08     -4.283      0.000   -7.33e-08   -2.73e-08\n",
       "longitude               -0.0001      0.005     -0.025      0.980      -0.009       0.009\n",
       "price                -1.842e-07   6.34e-08     -2.906      0.004   -3.08e-07      -6e-08\n",
       "==============================================================================\n",
       "Omnibus:                     7802.117   Durbin-Watson:                   2.012\n",
       "Prob(Omnibus):                  0.000   Jarque-Bera (JB):            12915.695\n",
       "Skew:                           1.293   Prob(JB):                         0.00\n",
       "Kurtosis:                       3.840   Cond. No.                     6.19e+08\n",
       "==============================================================================\n",
       "\n",
       "Warnings:\n",
       "[1] Standard Errors assume that the covariance matrix of the errors is correctly specified.\n",
       "[2] The condition number is large, 6.19e+08. This might indicate that there are\n",
       "strong multicollinearity or other numerical problems.\n",
       "\"\"\""
      ]
     },
     "execution_count": 19,
     "metadata": {},
     "output_type": "execute_result"
    }
   ],
   "source": [
    "model.summary()"
   ]
  },
  {
   "cell_type": "code",
   "execution_count": 21,
   "metadata": {
    "collapsed": false
   },
   "outputs": [],
   "source": [
    "typed = pd.read_json('./typedData/train_typed.json')"
   ]
  },
  {
   "cell_type": "code",
   "execution_count": null,
   "metadata": {
    "collapsed": true
   },
   "outputs": [],
   "source": []
  }
 ],
 "metadata": {
  "kernelspec": {
   "display_name": "Python 3",
   "language": "python",
   "name": "python3"
  },
  "language_info": {
   "codemirror_mode": {
    "name": "ipython",
    "version": 3
   },
   "file_extension": ".py",
   "mimetype": "text/x-python",
   "name": "python",
   "nbconvert_exporter": "python",
   "pygments_lexer": "ipython3",
   "version": "3.6.0"
  }
 },
 "nbformat": 4,
 "nbformat_minor": 2
}
