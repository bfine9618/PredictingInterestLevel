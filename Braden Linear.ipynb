{
 "cells": [
  {
   "cell_type": "code",
   "execution_count": 73,
   "metadata": {
    "collapsed": true
   },
   "outputs": [],
   "source": [
    "import numpy as np\n",
    "import pandas as pd\n",
    "import seaborn as sns\n",
    "import matplotlib.pyplot as plt\n",
    "% matplotlib inline\n",
    "\n",
    "import requests as re\n",
    "\n",
    "sns.set_context('poster')\n",
    "sns.set_style('whitegrid')\n",
    "\n",
    "import statsmodels.formula.api as smf"
   ]
  },
  {
   "cell_type": "code",
   "execution_count": 74,
   "metadata": {
    "collapsed": false
   },
   "outputs": [],
   "source": [
    "df = pd.read_json('./rawData/cleaned.json')"
   ]
  },
  {
   "cell_type": "code",
   "execution_count": 75,
   "metadata": {
    "collapsed": false
   },
   "outputs": [
    {
     "data": {
      "text/plain": [
       "low       29147\n",
       "medium     9491\n",
       "high       3280\n",
       "Name: interest_level, dtype: int64"
      ]
     },
     "execution_count": 75,
     "metadata": {},
     "output_type": "execute_result"
    }
   ],
   "source": [
    "df.interest_level.value_counts()"
   ]
  },
  {
   "cell_type": "code",
   "execution_count": 76,
   "metadata": {
    "collapsed": false
   },
   "outputs": [
    {
     "data": {
      "text/plain": [
       "0.0    29147\n",
       "0.5     9491\n",
       "1.0     3280\n",
       "Name: interestVal, dtype: int64"
      ]
     },
     "execution_count": 76,
     "metadata": {},
     "output_type": "execute_result"
    }
   ],
   "source": [
    "df.interestVal.value_counts()"
   ]
  },
  {
   "cell_type": "code",
   "execution_count": 77,
   "metadata": {
    "collapsed": false
   },
   "outputs": [],
   "source": [
    "linReg = df.select_dtypes(exclude=['object'])\n",
    "\n",
    "equation = ('+').join(linReg.drop(['interestVal'], axis=1).columns)\n",
    "model = smf.ols('interestVal~'+equation, data=linReg).fit()"
   ]
  },
  {
   "cell_type": "code",
   "execution_count": 78,
   "metadata": {
    "collapsed": false
   },
   "outputs": [
    {
     "data": {
      "text/html": [
       "<table class=\"simpletable\">\n",
       "<caption>OLS Regression Results</caption>\n",
       "<tr>\n",
       "  <th>Dep. Variable:</th>       <td>interestVal</td>   <th>  R-squared:         </th> <td>   0.065</td> \n",
       "</tr>\n",
       "<tr>\n",
       "  <th>Model:</th>                   <td>OLS</td>       <th>  Adj. R-squared:    </th> <td>   0.064</td> \n",
       "</tr>\n",
       "<tr>\n",
       "  <th>Method:</th>             <td>Least Squares</td>  <th>  F-statistic:       </th> <td>   96.70</td> \n",
       "</tr>\n",
       "<tr>\n",
       "  <th>Date:</th>             <td>Sat, 02 Dec 2017</td> <th>  Prob (F-statistic):</th>  <td>  0.00</td>  \n",
       "</tr>\n",
       "<tr>\n",
       "  <th>Time:</th>                 <td>14:02:50</td>     <th>  Log-Likelihood:    </th> <td> -9434.2</td> \n",
       "</tr>\n",
       "<tr>\n",
       "  <th>No. Observations:</th>      <td> 41918</td>      <th>  AIC:               </th> <td>1.893e+04</td>\n",
       "</tr>\n",
       "<tr>\n",
       "  <th>Df Residuals:</th>          <td> 41887</td>      <th>  BIC:               </th> <td>1.920e+04</td>\n",
       "</tr>\n",
       "<tr>\n",
       "  <th>Df Model:</th>              <td>    30</td>      <th>                     </th>     <td> </td>    \n",
       "</tr>\n",
       "<tr>\n",
       "  <th>Covariance Type:</th>      <td>nonrobust</td>    <th>                     </th>     <td> </td>    \n",
       "</tr>\n",
       "</table>\n",
       "<table class=\"simpletable\">\n",
       "<tr>\n",
       "            <td></td>              <th>coef</th>     <th>std err</th>      <th>t</th>      <th>P>|t|</th>  <th>[0.025</th>    <th>0.975]</th>  \n",
       "</tr>\n",
       "<tr>\n",
       "  <th>Intercept</th>            <td>    0.5043</td> <td>    0.130</td> <td>    3.872</td> <td> 0.000</td> <td>    0.249</td> <td>    0.760</td>\n",
       "</tr>\n",
       "<tr>\n",
       "  <th>Balcony</th>              <td>    0.0035</td> <td>    0.007</td> <td>    0.471</td> <td> 0.638</td> <td>   -0.011</td> <td>    0.018</td>\n",
       "</tr>\n",
       "<tr>\n",
       "  <th>Cats_Allowed</th>         <td>    0.0161</td> <td>    0.008</td> <td>    1.896</td> <td> 0.058</td> <td>   -0.001</td> <td>    0.033</td>\n",
       "</tr>\n",
       "<tr>\n",
       "  <th>Common_Outdoor_Space</th> <td>    0.0989</td> <td>    0.010</td> <td>    9.967</td> <td> 0.000</td> <td>    0.079</td> <td>    0.118</td>\n",
       "</tr>\n",
       "<tr>\n",
       "  <th>Dining_Room</th>          <td>    0.0153</td> <td>    0.006</td> <td>    2.757</td> <td> 0.006</td> <td>    0.004</td> <td>    0.026</td>\n",
       "</tr>\n",
       "<tr>\n",
       "  <th>Dishwasher</th>           <td>   -0.0073</td> <td>    0.004</td> <td>   -1.668</td> <td> 0.095</td> <td>   -0.016</td> <td>    0.001</td>\n",
       "</tr>\n",
       "<tr>\n",
       "  <th>Dogs_Allowed</th>         <td>   -0.0374</td> <td>    0.009</td> <td>   -4.358</td> <td> 0.000</td> <td>   -0.054</td> <td>   -0.021</td>\n",
       "</tr>\n",
       "<tr>\n",
       "  <th>Doorman</th>              <td>   -0.0779</td> <td>    0.004</td> <td>  -17.542</td> <td> 0.000</td> <td>   -0.087</td> <td>   -0.069</td>\n",
       "</tr>\n",
       "<tr>\n",
       "  <th>Elevator</th>             <td>   -0.0042</td> <td>    0.004</td> <td>   -1.009</td> <td> 0.313</td> <td>   -0.012</td> <td>    0.004</td>\n",
       "</tr>\n",
       "<tr>\n",
       "  <th>Exclusive</th>            <td>    0.0437</td> <td>    0.007</td> <td>    5.850</td> <td> 0.000</td> <td>    0.029</td> <td>    0.058</td>\n",
       "</tr>\n",
       "<tr>\n",
       "  <th>Fitness_Center</th>       <td>   -0.0381</td> <td>    0.005</td> <td>   -7.980</td> <td> 0.000</td> <td>   -0.047</td> <td>   -0.029</td>\n",
       "</tr>\n",
       "<tr>\n",
       "  <th>Garden_Patio</th>         <td>    0.0056</td> <td>    0.009</td> <td>    0.634</td> <td> 0.526</td> <td>   -0.012</td> <td>    0.023</td>\n",
       "</tr>\n",
       "<tr>\n",
       "  <th>Hardwood_Floors</th>      <td>    0.0551</td> <td>    0.004</td> <td>   13.146</td> <td> 0.000</td> <td>    0.047</td> <td>    0.063</td>\n",
       "</tr>\n",
       "<tr>\n",
       "  <th>High_Speed_Internet</th>  <td>    0.0442</td> <td>    0.007</td> <td>    6.542</td> <td> 0.000</td> <td>    0.031</td> <td>    0.057</td>\n",
       "</tr>\n",
       "<tr>\n",
       "  <th>Laundry_in_Unit</th>      <td>   -0.0214</td> <td>    0.005</td> <td>   -4.689</td> <td> 0.000</td> <td>   -0.030</td> <td>   -0.012</td>\n",
       "</tr>\n",
       "<tr>\n",
       "  <th>Loft</th>                 <td>    0.0165</td> <td>    0.008</td> <td>    2.201</td> <td> 0.028</td> <td>    0.002</td> <td>    0.031</td>\n",
       "</tr>\n",
       "<tr>\n",
       "  <th>New_Construction</th>     <td>   -0.0029</td> <td>    0.008</td> <td>   -0.374</td> <td> 0.709</td> <td>   -0.018</td> <td>    0.012</td>\n",
       "</tr>\n",
       "<tr>\n",
       "  <th>No_Fee</th>               <td>    0.0786</td> <td>    0.004</td> <td>   22.142</td> <td> 0.000</td> <td>    0.072</td> <td>    0.086</td>\n",
       "</tr>\n",
       "<tr>\n",
       "  <th>Outdoor_Space</th>        <td>    0.0243</td> <td>    0.006</td> <td>    3.943</td> <td> 0.000</td> <td>    0.012</td> <td>    0.036</td>\n",
       "</tr>\n",
       "<tr>\n",
       "  <th>Pre_War</th>              <td>   -0.0362</td> <td>    0.004</td> <td>   -9.285</td> <td> 0.000</td> <td>   -0.044</td> <td>   -0.029</td>\n",
       "</tr>\n",
       "<tr>\n",
       "  <th>Roof_Deck</th>            <td>   -0.0072</td> <td>    0.006</td> <td>   -1.278</td> <td> 0.201</td> <td>   -0.018</td> <td>    0.004</td>\n",
       "</tr>\n",
       "<tr>\n",
       "  <th>Swimming_Pool</th>        <td>    0.0047</td> <td>    0.007</td> <td>    0.658</td> <td> 0.511</td> <td>   -0.009</td> <td>    0.019</td>\n",
       "</tr>\n",
       "<tr>\n",
       "  <th>Terrace</th>              <td>    0.0014</td> <td>    0.009</td> <td>    0.159</td> <td> 0.874</td> <td>   -0.016</td> <td>    0.019</td>\n",
       "</tr>\n",
       "<tr>\n",
       "  <th>Wheelchair_Access</th>    <td>   -0.0009</td> <td>    0.010</td> <td>   -0.088</td> <td> 0.930</td> <td>   -0.021</td> <td>    0.019</td>\n",
       "</tr>\n",
       "<tr>\n",
       "  <th>bathrooms</th>            <td>   -0.0733</td> <td>    0.004</td> <td>  -19.985</td> <td> 0.000</td> <td>   -0.081</td> <td>   -0.066</td>\n",
       "</tr>\n",
       "<tr>\n",
       "  <th>bedrooms</th>             <td>    0.0152</td> <td>    0.002</td> <td>    9.222</td> <td> 0.000</td> <td>    0.012</td> <td>    0.018</td>\n",
       "</tr>\n",
       "<tr>\n",
       "  <th>latitude</th>             <td>    0.0026</td> <td>    0.009</td> <td>    0.303</td> <td> 0.762</td> <td>   -0.014</td> <td>    0.020</td>\n",
       "</tr>\n",
       "<tr>\n",
       "  <th>laundry_in_building</th>  <td>    0.0504</td> <td>    0.004</td> <td>   12.165</td> <td> 0.000</td> <td>    0.042</td> <td>    0.058</td>\n",
       "</tr>\n",
       "<tr>\n",
       "  <th>listing_id</th>           <td> -5.04e-08</td> <td> 1.18e-08</td> <td>   -4.288</td> <td> 0.000</td> <td>-7.34e-08</td> <td>-2.74e-08</td>\n",
       "</tr>\n",
       "<tr>\n",
       "  <th>longitude</th>            <td>    0.0003</td> <td>    0.005</td> <td>    0.054</td> <td> 0.957</td> <td>   -0.009</td> <td>    0.009</td>\n",
       "</tr>\n",
       "<tr>\n",
       "  <th>price</th>                <td>-1.855e-07</td> <td> 6.36e-08</td> <td>   -2.915</td> <td> 0.004</td> <td> -3.1e-07</td> <td>-6.08e-08</td>\n",
       "</tr>\n",
       "</table>\n",
       "<table class=\"simpletable\">\n",
       "<tr>\n",
       "  <th>Omnibus:</th>       <td>7831.692</td> <th>  Durbin-Watson:     </th> <td>   2.012</td> \n",
       "</tr>\n",
       "<tr>\n",
       "  <th>Prob(Omnibus):</th>  <td> 0.000</td>  <th>  Jarque-Bera (JB):  </th> <td>12980.998</td>\n",
       "</tr>\n",
       "<tr>\n",
       "  <th>Skew:</th>           <td> 1.300</td>  <th>  Prob(JB):          </th> <td>    0.00</td> \n",
       "</tr>\n",
       "<tr>\n",
       "  <th>Kurtosis:</th>       <td> 3.821</td>  <th>  Cond. No.          </th> <td>6.18e+08</td> \n",
       "</tr>\n",
       "</table>"
      ],
      "text/plain": [
       "<class 'statsmodels.iolib.summary.Summary'>\n",
       "\"\"\"\n",
       "                            OLS Regression Results                            \n",
       "==============================================================================\n",
       "Dep. Variable:            interestVal   R-squared:                       0.065\n",
       "Model:                            OLS   Adj. R-squared:                  0.064\n",
       "Method:                 Least Squares   F-statistic:                     96.70\n",
       "Date:                Sat, 02 Dec 2017   Prob (F-statistic):               0.00\n",
       "Time:                        14:02:50   Log-Likelihood:                -9434.2\n",
       "No. Observations:               41918   AIC:                         1.893e+04\n",
       "Df Residuals:                   41887   BIC:                         1.920e+04\n",
       "Df Model:                          30                                         \n",
       "Covariance Type:            nonrobust                                         \n",
       "========================================================================================\n",
       "                           coef    std err          t      P>|t|      [0.025      0.975]\n",
       "----------------------------------------------------------------------------------------\n",
       "Intercept                0.5043      0.130      3.872      0.000       0.249       0.760\n",
       "Balcony                  0.0035      0.007      0.471      0.638      -0.011       0.018\n",
       "Cats_Allowed             0.0161      0.008      1.896      0.058      -0.001       0.033\n",
       "Common_Outdoor_Space     0.0989      0.010      9.967      0.000       0.079       0.118\n",
       "Dining_Room              0.0153      0.006      2.757      0.006       0.004       0.026\n",
       "Dishwasher              -0.0073      0.004     -1.668      0.095      -0.016       0.001\n",
       "Dogs_Allowed            -0.0374      0.009     -4.358      0.000      -0.054      -0.021\n",
       "Doorman                 -0.0779      0.004    -17.542      0.000      -0.087      -0.069\n",
       "Elevator                -0.0042      0.004     -1.009      0.313      -0.012       0.004\n",
       "Exclusive                0.0437      0.007      5.850      0.000       0.029       0.058\n",
       "Fitness_Center          -0.0381      0.005     -7.980      0.000      -0.047      -0.029\n",
       "Garden_Patio             0.0056      0.009      0.634      0.526      -0.012       0.023\n",
       "Hardwood_Floors          0.0551      0.004     13.146      0.000       0.047       0.063\n",
       "High_Speed_Internet      0.0442      0.007      6.542      0.000       0.031       0.057\n",
       "Laundry_in_Unit         -0.0214      0.005     -4.689      0.000      -0.030      -0.012\n",
       "Loft                     0.0165      0.008      2.201      0.028       0.002       0.031\n",
       "New_Construction        -0.0029      0.008     -0.374      0.709      -0.018       0.012\n",
       "No_Fee                   0.0786      0.004     22.142      0.000       0.072       0.086\n",
       "Outdoor_Space            0.0243      0.006      3.943      0.000       0.012       0.036\n",
       "Pre_War                 -0.0362      0.004     -9.285      0.000      -0.044      -0.029\n",
       "Roof_Deck               -0.0072      0.006     -1.278      0.201      -0.018       0.004\n",
       "Swimming_Pool            0.0047      0.007      0.658      0.511      -0.009       0.019\n",
       "Terrace                  0.0014      0.009      0.159      0.874      -0.016       0.019\n",
       "Wheelchair_Access       -0.0009      0.010     -0.088      0.930      -0.021       0.019\n",
       "bathrooms               -0.0733      0.004    -19.985      0.000      -0.081      -0.066\n",
       "bedrooms                 0.0152      0.002      9.222      0.000       0.012       0.018\n",
       "latitude                 0.0026      0.009      0.303      0.762      -0.014       0.020\n",
       "laundry_in_building      0.0504      0.004     12.165      0.000       0.042       0.058\n",
       "listing_id            -5.04e-08   1.18e-08     -4.288      0.000   -7.34e-08   -2.74e-08\n",
       "longitude                0.0003      0.005      0.054      0.957      -0.009       0.009\n",
       "price                -1.855e-07   6.36e-08     -2.915      0.004    -3.1e-07   -6.08e-08\n",
       "==============================================================================\n",
       "Omnibus:                     7831.692   Durbin-Watson:                   2.012\n",
       "Prob(Omnibus):                  0.000   Jarque-Bera (JB):            12980.998\n",
       "Skew:                           1.300   Prob(JB):                         0.00\n",
       "Kurtosis:                       3.821   Cond. No.                     6.18e+08\n",
       "==============================================================================\n",
       "\n",
       "Warnings:\n",
       "[1] Standard Errors assume that the covariance matrix of the errors is correctly specified.\n",
       "[2] The condition number is large, 6.18e+08. This might indicate that there are\n",
       "strong multicollinearity or other numerical problems.\n",
       "\"\"\""
      ]
     },
     "execution_count": 78,
     "metadata": {},
     "output_type": "execute_result"
    }
   ],
   "source": [
    "model.summary()"
   ]
  },
  {
   "cell_type": "code",
   "execution_count": 79,
   "metadata": {
    "collapsed": false
   },
   "outputs": [],
   "source": [
    "typed = pd.read_json('./typedData/train_typed.json')"
   ]
  },
  {
   "cell_type": "code",
   "execution_count": 80,
   "metadata": {
    "collapsed": false
   },
   "outputs": [
    {
     "data": {
      "text/plain": [
       "Index(['Balcony', 'Cats_Allowed', 'Common_Outdoor_Space', 'Dining_Room',\n",
       "       'Dishwasher', 'Dogs_Allowed', 'Doorman', 'Elevator', 'Exclusive',\n",
       "       'Fitness_Center', 'Garden_Patio', 'Hardwood_Floors',\n",
       "       'High_Speed_Internet', 'Laundry_in_Unit', 'New_Construction', 'No_Fee',\n",
       "       'Outdoor_Space', 'Pre_War', 'Roof_Deck', 'Swimming_Pool', 'Terrace',\n",
       "       'Wheelchair_Access', 'apartment', 'bathrooms', 'bedrooms',\n",
       "       'building_id', 'condominium', 'created', 'description',\n",
       "       'display_address', 'features', 'foundType', 'interestVal',\n",
       "       'interest_level', 'latitude', 'laundry_in_building', 'listing_id',\n",
       "       'loft', 'longitude', 'manager_id', 'other', 'ph', 'price',\n",
       "       'street_address', 'studio', 'townhome', 'type', 'walk_up'],\n",
       "      dtype='object')"
      ]
     },
     "execution_count": 80,
     "metadata": {},
     "output_type": "execute_result"
    }
   ],
   "source": [
    "typed.columns"
   ]
  },
  {
   "cell_type": "code",
   "execution_count": 81,
   "metadata": {
    "collapsed": false
   },
   "outputs": [],
   "source": [
    "linReg = typed.select_dtypes(exclude=['object'])\n",
    "\n",
    "equation = ('+').join(linReg.drop(['interestVal'], axis=1).columns)\n",
    "model = smf.ols('interestVal~'+equation, data=linReg).fit()"
   ]
  },
  {
   "cell_type": "code",
   "execution_count": 82,
   "metadata": {
    "collapsed": false
   },
   "outputs": [
    {
     "data": {
      "text/plain": [
       "'Balcony+Cats_Allowed+Common_Outdoor_Space+Dining_Room+Dishwasher+Dogs_Allowed+Doorman+Elevator+Exclusive+Fitness_Center+Garden_Patio+Hardwood_Floors+High_Speed_Internet+Laundry_in_Unit+New_Construction+No_Fee+Outdoor_Space+Pre_War+Roof_Deck+Swimming_Pool+Terrace+Wheelchair_Access+apartment+bathrooms+bedrooms+condominium+foundType+latitude+laundry_in_building+listing_id+loft+longitude+other+ph+price+studio+townhome+walk_up'"
      ]
     },
     "execution_count": 82,
     "metadata": {},
     "output_type": "execute_result"
    }
   ],
   "source": [
    "equation"
   ]
  },
  {
   "cell_type": "code",
   "execution_count": 83,
   "metadata": {
    "collapsed": false
   },
   "outputs": [
    {
     "data": {
      "text/html": [
       "<table class=\"simpletable\">\n",
       "<caption>OLS Regression Results</caption>\n",
       "<tr>\n",
       "  <th>Dep. Variable:</th>       <td>interestVal</td>   <th>  R-squared:         </th> <td>   0.090</td>\n",
       "</tr>\n",
       "<tr>\n",
       "  <th>Model:</th>                   <td>OLS</td>       <th>  Adj. R-squared:    </th> <td>   0.088</td>\n",
       "</tr>\n",
       "<tr>\n",
       "  <th>Method:</th>             <td>Least Squares</td>  <th>  F-statistic:       </th> <td>   54.29</td>\n",
       "</tr>\n",
       "<tr>\n",
       "  <th>Date:</th>             <td>Sat, 02 Dec 2017</td> <th>  Prob (F-statistic):</th>  <td>  0.00</td> \n",
       "</tr>\n",
       "<tr>\n",
       "  <th>Time:</th>                 <td>14:02:52</td>     <th>  Log-Likelihood:    </th> <td> -4580.2</td>\n",
       "</tr>\n",
       "<tr>\n",
       "  <th>No. Observations:</th>      <td> 19783</td>      <th>  AIC:               </th> <td>   9234.</td>\n",
       "</tr>\n",
       "<tr>\n",
       "  <th>Df Residuals:</th>          <td> 19746</td>      <th>  BIC:               </th> <td>   9526.</td>\n",
       "</tr>\n",
       "<tr>\n",
       "  <th>Df Model:</th>              <td>    36</td>      <th>                     </th>     <td> </td>   \n",
       "</tr>\n",
       "<tr>\n",
       "  <th>Covariance Type:</th>      <td>nonrobust</td>    <th>                     </th>     <td> </td>   \n",
       "</tr>\n",
       "</table>\n",
       "<table class=\"simpletable\">\n",
       "<tr>\n",
       "            <td></td>              <th>coef</th>     <th>std err</th>      <th>t</th>      <th>P>|t|</th>  <th>[0.025</th>    <th>0.975]</th>  \n",
       "</tr>\n",
       "<tr>\n",
       "  <th>Intercept</th>            <td>    0.1813</td> <td>    0.088</td> <td>    2.068</td> <td> 0.039</td> <td>    0.009</td> <td>    0.353</td>\n",
       "</tr>\n",
       "<tr>\n",
       "  <th>foundType[T.True]</th>    <td>    0.1813</td> <td>    0.088</td> <td>    2.068</td> <td> 0.039</td> <td>    0.009</td> <td>    0.353</td>\n",
       "</tr>\n",
       "<tr>\n",
       "  <th>Balcony</th>              <td>   -0.0080</td> <td>    0.010</td> <td>   -0.770</td> <td> 0.442</td> <td>   -0.028</td> <td>    0.012</td>\n",
       "</tr>\n",
       "<tr>\n",
       "  <th>Cats_Allowed</th>         <td>    0.0270</td> <td>    0.013</td> <td>    2.095</td> <td> 0.036</td> <td>    0.002</td> <td>    0.052</td>\n",
       "</tr>\n",
       "<tr>\n",
       "  <th>Common_Outdoor_Space</th> <td>    0.0964</td> <td>    0.015</td> <td>    6.549</td> <td> 0.000</td> <td>    0.068</td> <td>    0.125</td>\n",
       "</tr>\n",
       "<tr>\n",
       "  <th>Dining_Room</th>          <td>    0.0242</td> <td>    0.008</td> <td>    3.095</td> <td> 0.002</td> <td>    0.009</td> <td>    0.040</td>\n",
       "</tr>\n",
       "<tr>\n",
       "  <th>Dishwasher</th>           <td>   -0.0029</td> <td>    0.006</td> <td>   -0.466</td> <td> 0.641</td> <td>   -0.015</td> <td>    0.009</td>\n",
       "</tr>\n",
       "<tr>\n",
       "  <th>Dogs_Allowed</th>         <td>   -0.0472</td> <td>    0.013</td> <td>   -3.633</td> <td> 0.000</td> <td>   -0.073</td> <td>   -0.022</td>\n",
       "</tr>\n",
       "<tr>\n",
       "  <th>Doorman</th>              <td>   -0.0723</td> <td>    0.007</td> <td>  -10.929</td> <td> 0.000</td> <td>   -0.085</td> <td>   -0.059</td>\n",
       "</tr>\n",
       "<tr>\n",
       "  <th>Elevator</th>             <td>    0.0048</td> <td>    0.006</td> <td>    0.770</td> <td> 0.441</td> <td>   -0.007</td> <td>    0.017</td>\n",
       "</tr>\n",
       "<tr>\n",
       "  <th>Exclusive</th>            <td>    0.0897</td> <td>    0.012</td> <td>    7.314</td> <td> 0.000</td> <td>    0.066</td> <td>    0.114</td>\n",
       "</tr>\n",
       "<tr>\n",
       "  <th>Fitness_Center</th>       <td>   -0.0315</td> <td>    0.007</td> <td>   -4.448</td> <td> 0.000</td> <td>   -0.045</td> <td>   -0.018</td>\n",
       "</tr>\n",
       "<tr>\n",
       "  <th>Garden_Patio</th>         <td>   -0.0114</td> <td>    0.012</td> <td>   -0.921</td> <td> 0.357</td> <td>   -0.036</td> <td>    0.013</td>\n",
       "</tr>\n",
       "<tr>\n",
       "  <th>Hardwood_Floors</th>      <td>    0.0396</td> <td>    0.006</td> <td>    6.578</td> <td> 0.000</td> <td>    0.028</td> <td>    0.051</td>\n",
       "</tr>\n",
       "<tr>\n",
       "  <th>High_Speed_Internet</th>  <td>    0.0488</td> <td>    0.010</td> <td>    5.113</td> <td> 0.000</td> <td>    0.030</td> <td>    0.068</td>\n",
       "</tr>\n",
       "<tr>\n",
       "  <th>Laundry_in_Unit</th>      <td>   -0.0023</td> <td>    0.006</td> <td>   -0.352</td> <td> 0.725</td> <td>   -0.015</td> <td>    0.010</td>\n",
       "</tr>\n",
       "<tr>\n",
       "  <th>New_Construction</th>     <td>   -0.0165</td> <td>    0.011</td> <td>   -1.468</td> <td> 0.142</td> <td>   -0.039</td> <td>    0.006</td>\n",
       "</tr>\n",
       "<tr>\n",
       "  <th>No_Fee</th>               <td>    0.0751</td> <td>    0.005</td> <td>   14.805</td> <td> 0.000</td> <td>    0.065</td> <td>    0.085</td>\n",
       "</tr>\n",
       "<tr>\n",
       "  <th>Outdoor_Space</th>        <td>    0.0186</td> <td>    0.009</td> <td>    2.149</td> <td> 0.032</td> <td>    0.002</td> <td>    0.036</td>\n",
       "</tr>\n",
       "<tr>\n",
       "  <th>Pre_War</th>              <td>   -0.0469</td> <td>    0.006</td> <td>   -8.525</td> <td> 0.000</td> <td>   -0.058</td> <td>   -0.036</td>\n",
       "</tr>\n",
       "<tr>\n",
       "  <th>Roof_Deck</th>            <td>   -0.0162</td> <td>    0.008</td> <td>   -2.015</td> <td> 0.044</td> <td>   -0.032</td> <td>   -0.000</td>\n",
       "</tr>\n",
       "<tr>\n",
       "  <th>Swimming_Pool</th>        <td>    0.0061</td> <td>    0.010</td> <td>    0.613</td> <td> 0.540</td> <td>   -0.013</td> <td>    0.026</td>\n",
       "</tr>\n",
       "<tr>\n",
       "  <th>Terrace</th>              <td>    0.0287</td> <td>    0.012</td> <td>    2.320</td> <td> 0.020</td> <td>    0.004</td> <td>    0.053</td>\n",
       "</tr>\n",
       "<tr>\n",
       "  <th>Wheelchair_Access</th>    <td>   -0.0196</td> <td>    0.014</td> <td>   -1.362</td> <td> 0.173</td> <td>   -0.048</td> <td>    0.009</td>\n",
       "</tr>\n",
       "<tr>\n",
       "  <th>apartment</th>            <td>    0.0417</td> <td>    0.027</td> <td>    1.568</td> <td> 0.117</td> <td>   -0.010</td> <td>    0.094</td>\n",
       "</tr>\n",
       "<tr>\n",
       "  <th>bathrooms</th>            <td>   -0.0130</td> <td>    0.006</td> <td>   -2.026</td> <td> 0.043</td> <td>   -0.026</td> <td>   -0.000</td>\n",
       "</tr>\n",
       "<tr>\n",
       "  <th>bedrooms</th>             <td>    0.0299</td> <td>    0.003</td> <td>   11.718</td> <td> 0.000</td> <td>    0.025</td> <td>    0.035</td>\n",
       "</tr>\n",
       "<tr>\n",
       "  <th>condominium</th>          <td>    0.0644</td> <td>    0.033</td> <td>    1.966</td> <td> 0.049</td> <td>    0.000</td> <td>    0.129</td>\n",
       "</tr>\n",
       "<tr>\n",
       "  <th>latitude</th>             <td>   -0.0318</td> <td>    0.029</td> <td>   -1.100</td> <td> 0.271</td> <td>   -0.088</td> <td>    0.025</td>\n",
       "</tr>\n",
       "<tr>\n",
       "  <th>laundry_in_building</th>  <td>    0.0389</td> <td>    0.006</td> <td>    6.540</td> <td> 0.000</td> <td>    0.027</td> <td>    0.051</td>\n",
       "</tr>\n",
       "<tr>\n",
       "  <th>listing_id</th>           <td>-3.994e-08</td> <td> 1.72e-08</td> <td>   -2.329</td> <td> 0.020</td> <td>-7.36e-08</td> <td>-6.32e-09</td>\n",
       "</tr>\n",
       "<tr>\n",
       "  <th>loft</th>                 <td>    0.0079</td> <td>    0.010</td> <td>    0.755</td> <td> 0.450</td> <td>   -0.013</td> <td>    0.028</td>\n",
       "</tr>\n",
       "<tr>\n",
       "  <th>longitude</th>            <td>   -0.0192</td> <td>    0.016</td> <td>   -1.209</td> <td> 0.227</td> <td>   -0.050</td> <td>    0.012</td>\n",
       "</tr>\n",
       "<tr>\n",
       "  <th>other</th>                <td>-2.431e-17</td> <td> 4.31e-18</td> <td>   -5.647</td> <td> 0.000</td> <td>-3.28e-17</td> <td>-1.59e-17</td>\n",
       "</tr>\n",
       "<tr>\n",
       "  <th>ph</th>                   <td>    0.0336</td> <td>    0.030</td> <td>    1.131</td> <td> 0.258</td> <td>   -0.025</td> <td>    0.092</td>\n",
       "</tr>\n",
       "<tr>\n",
       "  <th>price</th>                <td>-2.644e-05</td> <td> 1.25e-06</td> <td>  -21.101</td> <td> 0.000</td> <td>-2.89e-05</td> <td> -2.4e-05</td>\n",
       "</tr>\n",
       "<tr>\n",
       "  <th>studio</th>               <td>    0.0710</td> <td>    0.028</td> <td>    2.583</td> <td> 0.010</td> <td>    0.017</td> <td>    0.125</td>\n",
       "</tr>\n",
       "<tr>\n",
       "  <th>townhome</th>             <td>    0.0188</td> <td>    0.033</td> <td>    0.568</td> <td> 0.570</td> <td>   -0.046</td> <td>    0.083</td>\n",
       "</tr>\n",
       "<tr>\n",
       "  <th>walk_up</th>              <td>    0.0853</td> <td>    0.035</td> <td>    2.410</td> <td> 0.016</td> <td>    0.016</td> <td>    0.155</td>\n",
       "</tr>\n",
       "</table>\n",
       "<table class=\"simpletable\">\n",
       "<tr>\n",
       "  <th>Omnibus:</th>       <td>3299.497</td> <th>  Durbin-Watson:     </th> <td>   2.006</td>\n",
       "</tr>\n",
       "<tr>\n",
       "  <th>Prob(Omnibus):</th>  <td> 0.000</td>  <th>  Jarque-Bera (JB):  </th> <td>5201.014</td>\n",
       "</tr>\n",
       "<tr>\n",
       "  <th>Skew:</th>           <td> 1.194</td>  <th>  Prob(JB):          </th> <td>    0.00</td>\n",
       "</tr>\n",
       "<tr>\n",
       "  <th>Kurtosis:</th>       <td> 3.778</td>  <th>  Cond. No.          </th> <td>2.92e+16</td>\n",
       "</tr>\n",
       "</table>"
      ],
      "text/plain": [
       "<class 'statsmodels.iolib.summary.Summary'>\n",
       "\"\"\"\n",
       "                            OLS Regression Results                            \n",
       "==============================================================================\n",
       "Dep. Variable:            interestVal   R-squared:                       0.090\n",
       "Model:                            OLS   Adj. R-squared:                  0.088\n",
       "Method:                 Least Squares   F-statistic:                     54.29\n",
       "Date:                Sat, 02 Dec 2017   Prob (F-statistic):               0.00\n",
       "Time:                        14:02:52   Log-Likelihood:                -4580.2\n",
       "No. Observations:               19783   AIC:                             9234.\n",
       "Df Residuals:                   19746   BIC:                             9526.\n",
       "Df Model:                          36                                         \n",
       "Covariance Type:            nonrobust                                         \n",
       "========================================================================================\n",
       "                           coef    std err          t      P>|t|      [0.025      0.975]\n",
       "----------------------------------------------------------------------------------------\n",
       "Intercept                0.1813      0.088      2.068      0.039       0.009       0.353\n",
       "foundType[T.True]        0.1813      0.088      2.068      0.039       0.009       0.353\n",
       "Balcony                 -0.0080      0.010     -0.770      0.442      -0.028       0.012\n",
       "Cats_Allowed             0.0270      0.013      2.095      0.036       0.002       0.052\n",
       "Common_Outdoor_Space     0.0964      0.015      6.549      0.000       0.068       0.125\n",
       "Dining_Room              0.0242      0.008      3.095      0.002       0.009       0.040\n",
       "Dishwasher              -0.0029      0.006     -0.466      0.641      -0.015       0.009\n",
       "Dogs_Allowed            -0.0472      0.013     -3.633      0.000      -0.073      -0.022\n",
       "Doorman                 -0.0723      0.007    -10.929      0.000      -0.085      -0.059\n",
       "Elevator                 0.0048      0.006      0.770      0.441      -0.007       0.017\n",
       "Exclusive                0.0897      0.012      7.314      0.000       0.066       0.114\n",
       "Fitness_Center          -0.0315      0.007     -4.448      0.000      -0.045      -0.018\n",
       "Garden_Patio            -0.0114      0.012     -0.921      0.357      -0.036       0.013\n",
       "Hardwood_Floors          0.0396      0.006      6.578      0.000       0.028       0.051\n",
       "High_Speed_Internet      0.0488      0.010      5.113      0.000       0.030       0.068\n",
       "Laundry_in_Unit         -0.0023      0.006     -0.352      0.725      -0.015       0.010\n",
       "New_Construction        -0.0165      0.011     -1.468      0.142      -0.039       0.006\n",
       "No_Fee                   0.0751      0.005     14.805      0.000       0.065       0.085\n",
       "Outdoor_Space            0.0186      0.009      2.149      0.032       0.002       0.036\n",
       "Pre_War                 -0.0469      0.006     -8.525      0.000      -0.058      -0.036\n",
       "Roof_Deck               -0.0162      0.008     -2.015      0.044      -0.032      -0.000\n",
       "Swimming_Pool            0.0061      0.010      0.613      0.540      -0.013       0.026\n",
       "Terrace                  0.0287      0.012      2.320      0.020       0.004       0.053\n",
       "Wheelchair_Access       -0.0196      0.014     -1.362      0.173      -0.048       0.009\n",
       "apartment                0.0417      0.027      1.568      0.117      -0.010       0.094\n",
       "bathrooms               -0.0130      0.006     -2.026      0.043      -0.026      -0.000\n",
       "bedrooms                 0.0299      0.003     11.718      0.000       0.025       0.035\n",
       "condominium              0.0644      0.033      1.966      0.049       0.000       0.129\n",
       "latitude                -0.0318      0.029     -1.100      0.271      -0.088       0.025\n",
       "laundry_in_building      0.0389      0.006      6.540      0.000       0.027       0.051\n",
       "listing_id           -3.994e-08   1.72e-08     -2.329      0.020   -7.36e-08   -6.32e-09\n",
       "loft                     0.0079      0.010      0.755      0.450      -0.013       0.028\n",
       "longitude               -0.0192      0.016     -1.209      0.227      -0.050       0.012\n",
       "other                -2.431e-17   4.31e-18     -5.647      0.000   -3.28e-17   -1.59e-17\n",
       "ph                       0.0336      0.030      1.131      0.258      -0.025       0.092\n",
       "price                -2.644e-05   1.25e-06    -21.101      0.000   -2.89e-05    -2.4e-05\n",
       "studio                   0.0710      0.028      2.583      0.010       0.017       0.125\n",
       "townhome                 0.0188      0.033      0.568      0.570      -0.046       0.083\n",
       "walk_up                  0.0853      0.035      2.410      0.016       0.016       0.155\n",
       "==============================================================================\n",
       "Omnibus:                     3299.497   Durbin-Watson:                   2.006\n",
       "Prob(Omnibus):                  0.000   Jarque-Bera (JB):             5201.014\n",
       "Skew:                           1.194   Prob(JB):                         0.00\n",
       "Kurtosis:                       3.778   Cond. No.                     2.92e+16\n",
       "==============================================================================\n",
       "\n",
       "Warnings:\n",
       "[1] Standard Errors assume that the covariance matrix of the errors is correctly specified.\n",
       "[2] The smallest eigenvalue is 1.14e-15. This might indicate that there are\n",
       "strong multicollinearity problems or that the design matrix is singular.\n",
       "\"\"\""
      ]
     },
     "execution_count": 83,
     "metadata": {},
     "output_type": "execute_result"
    }
   ],
   "source": [
    "model.summary()"
   ]
  },
  {
   "cell_type": "code",
   "execution_count": 100,
   "metadata": {
    "collapsed": true
   },
   "outputs": [],
   "source": [
    "def olsModel(data, hometype):\n",
    "    subset = data[data[hometype] == 1]\n",
    "    linReg = subset.select_dtypes(exclude=['object'])\n",
    "    cols = linReg.drop(['interestVal'], axis=1).columns\n",
    "    cols = [x for x in cols if 'avg' not in x]\n",
    "    equation = ('+').join(cols)\n",
    "    model = smf.ols('interestVal~'+equation, data=linReg).fit()\n",
    "    return model"
   ]
  },
  {
   "cell_type": "code",
   "execution_count": 101,
   "metadata": {
    "collapsed": true
   },
   "outputs": [],
   "source": [
    "allInfo = pd.read_json('./typedData/compsTypedInteraction.json')"
   ]
  },
  {
   "cell_type": "code",
   "execution_count": 106,
   "metadata": {
    "collapsed": false
   },
   "outputs": [
    {
     "name": "stdout",
     "output_type": "stream",
     "text": [
      "Studio Adjusted R-Squared: 0.1097\n",
      "Townhome Adjusted R-Squared: 0.0296\n",
      "Walk-Up Adjusted R-Squared: 0.1802\n",
      "Condo Adjusted R-Squared: 0.0907\n",
      "Penthouse Adjusted R-Squared: 0.1282\n",
      "Loft Adjusted R-Squared: 0.1398\n"
     ]
    }
   ],
   "source": [
    "studioOLS = olsModel(allInfo, 'studio')\n",
    "townhomeOLS = olsModel(allInfo, 'townhome')\n",
    "walkUpOLS = olsModel(allInfo, 'walk_up')\n",
    "condoOLS = olsModel(allInfo, 'condominium')\n",
    "phOLS = olsModel(allInfo, 'ph')\n",
    "loftOLS = olsModel(allInfo, 'loft')\n",
    "otherOLS = olsModel(allInfo, 'other')\n",
    "\n",
    "\n",
    "print('Studio Adjusted R-Squared: {}'.format(np.round(studioOLS.rsquared_adj, 4)))\n",
    "print('Townhome Adjusted R-Squared: {}'.format(np.round(townhomeOLS.rsquared_adj, 4)))\n",
    "print('Walk-Up Adjusted R-Squared: {}'.format(np.round(walkUpOLS.rsquared_adj, 4)))\n",
    "print('Condo Adjusted R-Squared: {}'.format(np.round(condoOLS.rsquared_adj, 4)))\n",
    "print('Penthouse Adjusted R-Squared: {}'.format(np.round(phOLS.rsquared_adj, 4)))\n",
    "print('Loft Adjusted R-Squared: {}'.format(np.round(loftOLS.rsquared_adj, 4)))"
   ]
  },
  {
   "cell_type": "markdown",
   "metadata": {
    "collapsed": true
   },
   "source": [
    "# Attempt to reclassify outputs"
   ]
  },
  {
   "cell_type": "code",
   "execution_count": 72,
   "metadata": {
    "collapsed": true
   },
   "outputs": [],
   "source": [
    "test_typed = pd.read_json('./typedData/test_typed.json')"
   ]
  },
  {
   "cell_type": "code",
   "execution_count": 57,
   "metadata": {
    "collapsed": true
   },
   "outputs": [],
   "source": [
    "def testOLS(model, test, hometype):\n",
    "    subset = test[test[hometype] == 1]\n",
    "    preds = model.predict(subset)\n",
    "    return subset.append(preds, axis=1)"
   ]
  },
  {
   "cell_type": "code",
   "execution_count": 58,
   "metadata": {
    "collapsed": false
   },
   "outputs": [
    {
     "ename": "PatsyError",
     "evalue": "Error evaluating factor: NameError: name 'Laundry_In_Building' is not defined\n    interestVal~Balcony+Cats_Allowed+Common_Outdoor_Space+Dining_Room+Dishwasher+Dogs_Allowed+Doorman+Elevator+Exclusive+Fitness_Center+Garden_Patio+Hardwood_Floors+High_Speed_Internet+Laundry_In_Building+Laundry_in_Building+Laundry_in_Unit+Loft+New_Construction+No_Fee+Outdoor_Space+Pre_War+Roof_Deck+Swimming_Pool+Terrace+Wheelchair_Access+apartment+bathrooms+bedrooms+condominium+latitude+level_0+listing_id+loft+longitude+ph+price+studio+townhome+walk_up\n                                                                                                                                                                                         ^^^^^^^^^^^^^^^^^^^",
     "output_type": "error",
     "traceback": [
      "\u001b[0;31m---------------------------------------------------------------------------\u001b[0m",
      "\u001b[0;31mNameError\u001b[0m                                 Traceback (most recent call last)",
      "\u001b[0;32m/Users/Braden/anaconda/lib/python3.6/site-packages/patsy/compat.py\u001b[0m in \u001b[0;36mcall_and_wrap_exc\u001b[0;34m(msg, origin, f, *args, **kwargs)\u001b[0m\n\u001b[1;32m    116\u001b[0m     \u001b[0;32mtry\u001b[0m\u001b[0;34m:\u001b[0m\u001b[0;34m\u001b[0m\u001b[0m\n\u001b[0;32m--> 117\u001b[0;31m         \u001b[0;32mreturn\u001b[0m \u001b[0mf\u001b[0m\u001b[0;34m(\u001b[0m\u001b[0;34m*\u001b[0m\u001b[0margs\u001b[0m\u001b[0;34m,\u001b[0m \u001b[0;34m**\u001b[0m\u001b[0mkwargs\u001b[0m\u001b[0;34m)\u001b[0m\u001b[0;34m\u001b[0m\u001b[0m\n\u001b[0m\u001b[1;32m    118\u001b[0m     \u001b[0;32mexcept\u001b[0m \u001b[0mException\u001b[0m \u001b[0;32mas\u001b[0m \u001b[0me\u001b[0m\u001b[0;34m:\u001b[0m\u001b[0;34m\u001b[0m\u001b[0m\n",
      "\u001b[0;32m/Users/Braden/anaconda/lib/python3.6/site-packages/patsy/eval.py\u001b[0m in \u001b[0;36meval\u001b[0;34m(self, expr, source_name, inner_namespace)\u001b[0m\n\u001b[1;32m    165\u001b[0m         return eval(code, {}, VarLookupDict([inner_namespace]\n\u001b[0;32m--> 166\u001b[0;31m                                             + self._namespaces))\n\u001b[0m\u001b[1;32m    167\u001b[0m \u001b[0;34m\u001b[0m\u001b[0m\n",
      "\u001b[0;32m<string>\u001b[0m in \u001b[0;36m<module>\u001b[0;34m()\u001b[0m\n",
      "\u001b[0;31mNameError\u001b[0m: name 'Laundry_In_Building' is not defined",
      "\nThe above exception was the direct cause of the following exception:\n",
      "\u001b[0;31mPatsyError\u001b[0m                                Traceback (most recent call last)",
      "\u001b[0;32m<ipython-input-58-02d32428462e>\u001b[0m in \u001b[0;36m<module>\u001b[0;34m()\u001b[0m\n\u001b[0;32m----> 1\u001b[0;31m \u001b[0mstudioPreds\u001b[0m \u001b[0;34m=\u001b[0m \u001b[0mtestOLS\u001b[0m\u001b[0;34m(\u001b[0m\u001b[0mstudioOLS\u001b[0m\u001b[0;34m,\u001b[0m \u001b[0mtest_typed\u001b[0m\u001b[0;34m,\u001b[0m \u001b[0;34m'studio'\u001b[0m\u001b[0;34m)\u001b[0m\u001b[0;34m\u001b[0m\u001b[0m\n\u001b[0m",
      "\u001b[0;32m<ipython-input-57-a869ff162bda>\u001b[0m in \u001b[0;36mtestOLS\u001b[0;34m(model, test, hometype)\u001b[0m\n\u001b[1;32m      1\u001b[0m \u001b[0;32mdef\u001b[0m \u001b[0mtestOLS\u001b[0m\u001b[0;34m(\u001b[0m\u001b[0mmodel\u001b[0m\u001b[0;34m,\u001b[0m \u001b[0mtest\u001b[0m\u001b[0;34m,\u001b[0m \u001b[0mhometype\u001b[0m\u001b[0;34m)\u001b[0m\u001b[0;34m:\u001b[0m\u001b[0;34m\u001b[0m\u001b[0m\n\u001b[1;32m      2\u001b[0m     \u001b[0msubset\u001b[0m \u001b[0;34m=\u001b[0m \u001b[0mtest\u001b[0m\u001b[0;34m[\u001b[0m\u001b[0mtest\u001b[0m\u001b[0;34m[\u001b[0m\u001b[0mhometype\u001b[0m\u001b[0;34m]\u001b[0m \u001b[0;34m==\u001b[0m \u001b[0;36m1\u001b[0m\u001b[0;34m]\u001b[0m\u001b[0;34m\u001b[0m\u001b[0m\n\u001b[0;32m----> 3\u001b[0;31m     \u001b[0mpreds\u001b[0m \u001b[0;34m=\u001b[0m \u001b[0mmodel\u001b[0m\u001b[0;34m.\u001b[0m\u001b[0mpredict\u001b[0m\u001b[0;34m(\u001b[0m\u001b[0msubset\u001b[0m\u001b[0;34m)\u001b[0m\u001b[0;34m\u001b[0m\u001b[0m\n\u001b[0m\u001b[1;32m      4\u001b[0m     \u001b[0;32mreturn\u001b[0m \u001b[0msubset\u001b[0m\u001b[0;34m.\u001b[0m\u001b[0mappend\u001b[0m\u001b[0;34m(\u001b[0m\u001b[0mpreds\u001b[0m\u001b[0;34m,\u001b[0m \u001b[0maxis\u001b[0m\u001b[0;34m=\u001b[0m\u001b[0;36m1\u001b[0m\u001b[0;34m)\u001b[0m\u001b[0;34m\u001b[0m\u001b[0m\n",
      "\u001b[0;32m/Users/Braden/anaconda/lib/python3.6/site-packages/statsmodels/base/model.py\u001b[0m in \u001b[0;36mpredict\u001b[0;34m(self, exog, transform, *args, **kwargs)\u001b[0m\n\u001b[1;32m    774\u001b[0m                 \u001b[0mexog_index\u001b[0m \u001b[0;34m=\u001b[0m \u001b[0mexog\u001b[0m\u001b[0;34m.\u001b[0m\u001b[0mindex\u001b[0m\u001b[0;34m\u001b[0m\u001b[0m\n\u001b[1;32m    775\u001b[0m             exog = dmatrix(self.model.data.design_info.builder,\n\u001b[0;32m--> 776\u001b[0;31m                            exog, return_type=\"dataframe\")\n\u001b[0m\u001b[1;32m    777\u001b[0m             \u001b[0;32mif\u001b[0m \u001b[0mlen\u001b[0m\u001b[0;34m(\u001b[0m\u001b[0mexog\u001b[0m\u001b[0;34m)\u001b[0m \u001b[0;34m<\u001b[0m \u001b[0mlen\u001b[0m\u001b[0;34m(\u001b[0m\u001b[0mexog_index\u001b[0m\u001b[0;34m)\u001b[0m\u001b[0;34m:\u001b[0m\u001b[0;34m\u001b[0m\u001b[0m\n\u001b[1;32m    778\u001b[0m                 \u001b[0;31m# missing values, rows have been dropped\u001b[0m\u001b[0;34m\u001b[0m\u001b[0;34m\u001b[0m\u001b[0m\n",
      "\u001b[0;32m/Users/Braden/anaconda/lib/python3.6/site-packages/patsy/highlevel.py\u001b[0m in \u001b[0;36mdmatrix\u001b[0;34m(formula_like, data, eval_env, NA_action, return_type)\u001b[0m\n\u001b[1;32m    289\u001b[0m     \u001b[0meval_env\u001b[0m \u001b[0;34m=\u001b[0m \u001b[0mEvalEnvironment\u001b[0m\u001b[0;34m.\u001b[0m\u001b[0mcapture\u001b[0m\u001b[0;34m(\u001b[0m\u001b[0meval_env\u001b[0m\u001b[0;34m,\u001b[0m \u001b[0mreference\u001b[0m\u001b[0;34m=\u001b[0m\u001b[0;36m1\u001b[0m\u001b[0;34m)\u001b[0m\u001b[0;34m\u001b[0m\u001b[0m\n\u001b[1;32m    290\u001b[0m     (lhs, rhs) = _do_highlevel_design(formula_like, data, eval_env,\n\u001b[0;32m--> 291\u001b[0;31m                                       NA_action, return_type)\n\u001b[0m\u001b[1;32m    292\u001b[0m     \u001b[0;32mif\u001b[0m \u001b[0mlhs\u001b[0m\u001b[0;34m.\u001b[0m\u001b[0mshape\u001b[0m\u001b[0;34m[\u001b[0m\u001b[0;36m1\u001b[0m\u001b[0;34m]\u001b[0m \u001b[0;34m!=\u001b[0m \u001b[0;36m0\u001b[0m\u001b[0;34m:\u001b[0m\u001b[0;34m\u001b[0m\u001b[0m\n\u001b[1;32m    293\u001b[0m         raise PatsyError(\"encountered outcome variables for a model \"\n",
      "\u001b[0;32m/Users/Braden/anaconda/lib/python3.6/site-packages/patsy/highlevel.py\u001b[0m in \u001b[0;36m_do_highlevel_design\u001b[0;34m(formula_like, data, eval_env, NA_action, return_type)\u001b[0m\n\u001b[1;32m    167\u001b[0m         return build_design_matrices(design_infos, data,\n\u001b[1;32m    168\u001b[0m                                      \u001b[0mNA_action\u001b[0m\u001b[0;34m=\u001b[0m\u001b[0mNA_action\u001b[0m\u001b[0;34m,\u001b[0m\u001b[0;34m\u001b[0m\u001b[0m\n\u001b[0;32m--> 169\u001b[0;31m                                      return_type=return_type)\n\u001b[0m\u001b[1;32m    170\u001b[0m     \u001b[0;32melse\u001b[0m\u001b[0;34m:\u001b[0m\u001b[0;34m\u001b[0m\u001b[0m\n\u001b[1;32m    171\u001b[0m         \u001b[0;31m# No builders, but maybe we can still get matrices\u001b[0m\u001b[0;34m\u001b[0m\u001b[0;34m\u001b[0m\u001b[0m\n",
      "\u001b[0;32m/Users/Braden/anaconda/lib/python3.6/site-packages/patsy/build.py\u001b[0m in \u001b[0;36mbuild_design_matrices\u001b[0;34m(design_infos, data, NA_action, return_type, dtype)\u001b[0m\n\u001b[1;32m    886\u001b[0m         \u001b[0;32mfor\u001b[0m \u001b[0mfactor_info\u001b[0m \u001b[0;32min\u001b[0m \u001b[0msix\u001b[0m\u001b[0;34m.\u001b[0m\u001b[0mitervalues\u001b[0m\u001b[0;34m(\u001b[0m\u001b[0mdesign_info\u001b[0m\u001b[0;34m.\u001b[0m\u001b[0mfactor_infos\u001b[0m\u001b[0;34m)\u001b[0m\u001b[0;34m:\u001b[0m\u001b[0;34m\u001b[0m\u001b[0m\n\u001b[1;32m    887\u001b[0m             \u001b[0;32mif\u001b[0m \u001b[0mfactor_info\u001b[0m \u001b[0;32mnot\u001b[0m \u001b[0;32min\u001b[0m \u001b[0mfactor_info_to_values\u001b[0m\u001b[0;34m:\u001b[0m\u001b[0;34m\u001b[0m\u001b[0m\n\u001b[0;32m--> 888\u001b[0;31m                 \u001b[0mvalue\u001b[0m\u001b[0;34m,\u001b[0m \u001b[0mis_NA\u001b[0m \u001b[0;34m=\u001b[0m \u001b[0m_eval_factor\u001b[0m\u001b[0;34m(\u001b[0m\u001b[0mfactor_info\u001b[0m\u001b[0;34m,\u001b[0m \u001b[0mdata\u001b[0m\u001b[0;34m,\u001b[0m \u001b[0mNA_action\u001b[0m\u001b[0;34m)\u001b[0m\u001b[0;34m\u001b[0m\u001b[0m\n\u001b[0m\u001b[1;32m    889\u001b[0m                 \u001b[0mfactor_info_to_isNAs\u001b[0m\u001b[0;34m[\u001b[0m\u001b[0mfactor_info\u001b[0m\u001b[0;34m]\u001b[0m \u001b[0;34m=\u001b[0m \u001b[0mis_NA\u001b[0m\u001b[0;34m\u001b[0m\u001b[0m\n\u001b[1;32m    890\u001b[0m                 \u001b[0;31m# value may now be a Series, DataFrame, or ndarray\u001b[0m\u001b[0;34m\u001b[0m\u001b[0;34m\u001b[0m\u001b[0m\n",
      "\u001b[0;32m/Users/Braden/anaconda/lib/python3.6/site-packages/patsy/build.py\u001b[0m in \u001b[0;36m_eval_factor\u001b[0;34m(factor_info, data, NA_action)\u001b[0m\n\u001b[1;32m     61\u001b[0m \u001b[0;32mdef\u001b[0m \u001b[0m_eval_factor\u001b[0m\u001b[0;34m(\u001b[0m\u001b[0mfactor_info\u001b[0m\u001b[0;34m,\u001b[0m \u001b[0mdata\u001b[0m\u001b[0;34m,\u001b[0m \u001b[0mNA_action\u001b[0m\u001b[0;34m)\u001b[0m\u001b[0;34m:\u001b[0m\u001b[0;34m\u001b[0m\u001b[0m\n\u001b[1;32m     62\u001b[0m     \u001b[0mfactor\u001b[0m \u001b[0;34m=\u001b[0m \u001b[0mfactor_info\u001b[0m\u001b[0;34m.\u001b[0m\u001b[0mfactor\u001b[0m\u001b[0;34m\u001b[0m\u001b[0m\n\u001b[0;32m---> 63\u001b[0;31m     \u001b[0mresult\u001b[0m \u001b[0;34m=\u001b[0m \u001b[0mfactor\u001b[0m\u001b[0;34m.\u001b[0m\u001b[0meval\u001b[0m\u001b[0;34m(\u001b[0m\u001b[0mfactor_info\u001b[0m\u001b[0;34m.\u001b[0m\u001b[0mstate\u001b[0m\u001b[0;34m,\u001b[0m \u001b[0mdata\u001b[0m\u001b[0;34m)\u001b[0m\u001b[0;34m\u001b[0m\u001b[0m\n\u001b[0m\u001b[1;32m     64\u001b[0m     \u001b[0;31m# Returns either a 2d ndarray, or a DataFrame, plus is_NA mask\u001b[0m\u001b[0;34m\u001b[0m\u001b[0;34m\u001b[0m\u001b[0m\n\u001b[1;32m     65\u001b[0m     \u001b[0;32mif\u001b[0m \u001b[0mfactor_info\u001b[0m\u001b[0;34m.\u001b[0m\u001b[0mtype\u001b[0m \u001b[0;34m==\u001b[0m \u001b[0;34m\"numerical\"\u001b[0m\u001b[0;34m:\u001b[0m\u001b[0;34m\u001b[0m\u001b[0m\n",
      "\u001b[0;32m/Users/Braden/anaconda/lib/python3.6/site-packages/patsy/eval.py\u001b[0m in \u001b[0;36meval\u001b[0;34m(self, memorize_state, data)\u001b[0m\n\u001b[1;32m    564\u001b[0m         return self._eval(memorize_state[\"eval_code\"],\n\u001b[1;32m    565\u001b[0m                           \u001b[0mmemorize_state\u001b[0m\u001b[0;34m,\u001b[0m\u001b[0;34m\u001b[0m\u001b[0m\n\u001b[0;32m--> 566\u001b[0;31m                           data)\n\u001b[0m\u001b[1;32m    567\u001b[0m \u001b[0;34m\u001b[0m\u001b[0m\n\u001b[1;32m    568\u001b[0m     \u001b[0m__getstate__\u001b[0m \u001b[0;34m=\u001b[0m \u001b[0mno_pickling\u001b[0m\u001b[0;34m\u001b[0m\u001b[0m\n",
      "\u001b[0;32m/Users/Braden/anaconda/lib/python3.6/site-packages/patsy/eval.py\u001b[0m in \u001b[0;36m_eval\u001b[0;34m(self, code, memorize_state, data)\u001b[0m\n\u001b[1;32m    549\u001b[0m                                  \u001b[0mmemorize_state\u001b[0m\u001b[0;34m[\u001b[0m\u001b[0;34m\"eval_env\"\u001b[0m\u001b[0;34m]\u001b[0m\u001b[0;34m.\u001b[0m\u001b[0meval\u001b[0m\u001b[0;34m,\u001b[0m\u001b[0;34m\u001b[0m\u001b[0m\n\u001b[1;32m    550\u001b[0m                                  \u001b[0mcode\u001b[0m\u001b[0;34m,\u001b[0m\u001b[0;34m\u001b[0m\u001b[0m\n\u001b[0;32m--> 551\u001b[0;31m                                  inner_namespace=inner_namespace)\n\u001b[0m\u001b[1;32m    552\u001b[0m \u001b[0;34m\u001b[0m\u001b[0m\n\u001b[1;32m    553\u001b[0m     \u001b[0;32mdef\u001b[0m \u001b[0mmemorize_chunk\u001b[0m\u001b[0;34m(\u001b[0m\u001b[0mself\u001b[0m\u001b[0;34m,\u001b[0m \u001b[0mstate\u001b[0m\u001b[0;34m,\u001b[0m \u001b[0mwhich_pass\u001b[0m\u001b[0;34m,\u001b[0m \u001b[0mdata\u001b[0m\u001b[0;34m)\u001b[0m\u001b[0;34m:\u001b[0m\u001b[0;34m\u001b[0m\u001b[0m\n",
      "\u001b[0;32m/Users/Braden/anaconda/lib/python3.6/site-packages/patsy/compat.py\u001b[0m in \u001b[0;36mcall_and_wrap_exc\u001b[0;34m(msg, origin, f, *args, **kwargs)\u001b[0m\n\u001b[1;32m    122\u001b[0m                                  origin)\n\u001b[1;32m    123\u001b[0m             \u001b[0;31m# Use 'exec' to hide this syntax from the Python 2 parser:\u001b[0m\u001b[0;34m\u001b[0m\u001b[0;34m\u001b[0m\u001b[0m\n\u001b[0;32m--> 124\u001b[0;31m             \u001b[0mexec\u001b[0m\u001b[0;34m(\u001b[0m\u001b[0;34m\"raise new_exc from e\"\u001b[0m\u001b[0;34m)\u001b[0m\u001b[0;34m\u001b[0m\u001b[0m\n\u001b[0m\u001b[1;32m    125\u001b[0m         \u001b[0;32melse\u001b[0m\u001b[0;34m:\u001b[0m\u001b[0;34m\u001b[0m\u001b[0m\n\u001b[1;32m    126\u001b[0m             \u001b[0;31m# In python 2, we just let the original exception escape -- better\u001b[0m\u001b[0;34m\u001b[0m\u001b[0;34m\u001b[0m\u001b[0m\n",
      "\u001b[0;32m/Users/Braden/anaconda/lib/python3.6/site-packages/patsy/compat.py\u001b[0m in \u001b[0;36m<module>\u001b[0;34m()\u001b[0m\n",
      "\u001b[0;31mPatsyError\u001b[0m: Error evaluating factor: NameError: name 'Laundry_In_Building' is not defined\n    interestVal~Balcony+Cats_Allowed+Common_Outdoor_Space+Dining_Room+Dishwasher+Dogs_Allowed+Doorman+Elevator+Exclusive+Fitness_Center+Garden_Patio+Hardwood_Floors+High_Speed_Internet+Laundry_In_Building+Laundry_in_Building+Laundry_in_Unit+Loft+New_Construction+No_Fee+Outdoor_Space+Pre_War+Roof_Deck+Swimming_Pool+Terrace+Wheelchair_Access+apartment+bathrooms+bedrooms+condominium+latitude+level_0+listing_id+loft+longitude+ph+price+studio+townhome+walk_up\n                                                                                                                                                                                         ^^^^^^^^^^^^^^^^^^^"
     ]
    }
   ],
   "source": [
    "studioPreds = testOLS(studioOLS, test_typed, 'studio')"
   ]
  },
  {
   "cell_type": "code",
   "execution_count": null,
   "metadata": {
    "collapsed": true
   },
   "outputs": [],
   "source": []
  }
 ],
 "metadata": {
  "kernelspec": {
   "display_name": "Python 3",
   "language": "python",
   "name": "python3"
  },
  "language_info": {
   "codemirror_mode": {
    "name": "ipython",
    "version": 3
   },
   "file_extension": ".py",
   "mimetype": "text/x-python",
   "name": "python",
   "nbconvert_exporter": "python",
   "pygments_lexer": "ipython3",
   "version": "3.6.0"
  }
 },
 "nbformat": 4,
 "nbformat_minor": 2
}
