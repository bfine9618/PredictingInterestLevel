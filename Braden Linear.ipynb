{
 "cells": [
  {
   "cell_type": "code",
   "execution_count": 1,
   "metadata": {
    "collapsed": true
   },
   "outputs": [],
   "source": [
    "import numpy as np\n",
    "import pandas as pd\n",
    "import seaborn as sns\n",
    "import matplotlib.pyplot as plt\n",
    "% matplotlib inline\n",
    "\n",
    "import requests as re\n",
    "\n",
    "sns.set_context('poster')\n",
    "sns.set_style('whitegrid')"
   ]
  },
  {
   "cell_type": "code",
   "execution_count": 2,
   "metadata": {
    "collapsed": true
   },
   "outputs": [],
   "source": [
    "df = pd.read_json('train_data.json')"
   ]
  },
  {
   "cell_type": "code",
   "execution_count": 3,
   "metadata": {
    "collapsed": false
   },
   "outputs": [
    {
     "data": {
      "text/plain": [
       "Index(['Balcony', 'Cats Allowed', 'Common Outdoor Space', 'Dining Room',\n",
       "       'Dishwasher', 'Dogs Allowed', 'Doorman', 'Elevator', 'Exclusive',\n",
       "       'Fitness Center', 'Garden/Patio', 'Hardwood Floors',\n",
       "       'High Speed Internet', 'Laundry In Building', 'Laundry in Building',\n",
       "       'Laundry in Unit', 'Loft', 'New Construction', 'No Fee',\n",
       "       'Outdoor Space', 'Pre-War', 'Roof Deck', 'Swimming Pool', 'Terrace',\n",
       "       'Wheelchair Access', 'bathrooms', 'bedrooms', 'building_id', 'created',\n",
       "       'description', 'display_address', 'features', 'index', 'interest_level',\n",
       "       'latitude', 'level_0', 'listing_id', 'longitude', 'manager_id',\n",
       "       'photos', 'price', 'street_address'],\n",
       "      dtype='object')"
      ]
     },
     "execution_count": 3,
     "metadata": {},
     "output_type": "execute_result"
    }
   ],
   "source": [
    "df.columns"
   ]
  },
  {
   "cell_type": "code",
   "execution_count": 7,
   "metadata": {
    "collapsed": false
   },
   "outputs": [
    {
     "data": {
      "text/plain": [
       "low       29147\n",
       "medium     9491\n",
       "high       3280\n",
       "Name: interest_level, dtype: int64"
      ]
     },
     "execution_count": 7,
     "metadata": {},
     "output_type": "execute_result"
    }
   ],
   "source": [
    "df.interest_level.value_counts()"
   ]
  },
  {
   "cell_type": "code",
   "execution_count": null,
   "metadata": {
    "collapsed": true
   },
   "outputs": [],
   "source": []
  },
  {
   "cell_type": "code",
   "execution_count": 5,
   "metadata": {
    "collapsed": true
   },
   "outputs": [],
   "source": [
    "test = pd.read_json('test_data.json')"
   ]
  },
  {
   "cell_type": "code",
   "execution_count": 6,
   "metadata": {
    "collapsed": false
   },
   "outputs": [
    {
     "name": "stdout",
     "output_type": "stream",
     "text": [
      "<class 'pandas.core.frame.DataFrame'>\n",
      "Int64Index: 7434 entries, 0 to 999\n",
      "Data columns (total 41 columns):\n",
      "Balcony                 7434 non-null int64\n",
      "Cats Allowed            7434 non-null int64\n",
      "Common Outdoor Space    7434 non-null int64\n",
      "Dining Room             7434 non-null int64\n",
      "Dishwasher              7434 non-null int64\n",
      "Dogs Allowed            7434 non-null int64\n",
      "Doorman                 7434 non-null int64\n",
      "Elevator                7434 non-null int64\n",
      "Exclusive               7434 non-null int64\n",
      "Fitness Center          7434 non-null int64\n",
      "Garden/Patio            7434 non-null int64\n",
      "Hardwood Floors         7434 non-null int64\n",
      "High Speed Internet     7434 non-null int64\n",
      "Laundry In Building     7434 non-null int64\n",
      "Laundry in Building     7434 non-null int64\n",
      "Laundry in Unit         7434 non-null int64\n",
      "Loft                    7434 non-null int64\n",
      "New Construction        7434 non-null int64\n",
      "No Fee                  7434 non-null int64\n",
      "Outdoor Space           7434 non-null int64\n",
      "Pre-War                 7434 non-null int64\n",
      "Roof Deck               7434 non-null int64\n",
      "Swimming Pool           7434 non-null int64\n",
      "Terrace                 7434 non-null int64\n",
      "Wheelchair Access       7434 non-null int64\n",
      "bathrooms               7434 non-null float64\n",
      "bedrooms                7434 non-null int64\n",
      "building_id             7434 non-null object\n",
      "created                 7434 non-null object\n",
      "description             7434 non-null object\n",
      "display_address         7434 non-null object\n",
      "features                7434 non-null object\n",
      "index                   7434 non-null int64\n",
      "latitude                7434 non-null float64\n",
      "level_0                 7434 non-null int64\n",
      "listing_id              7434 non-null int64\n",
      "longitude               7434 non-null float64\n",
      "manager_id              7434 non-null object\n",
      "photos                  7434 non-null object\n",
      "price                   7434 non-null int64\n",
      "street_address          7434 non-null object\n",
      "dtypes: float64(3), int64(30), object(8)\n",
      "memory usage: 2.4+ MB\n"
     ]
    }
   ],
   "source": [
    "test.info()"
   ]
  },
  {
   "cell_type": "code",
   "execution_count": null,
   "metadata": {
    "collapsed": true
   },
   "outputs": [],
   "source": []
  }
 ],
 "metadata": {
  "kernelspec": {
   "display_name": "Python 3",
   "language": "python",
   "name": "python3"
  },
  "language_info": {
   "codemirror_mode": {
    "name": "ipython",
    "version": 3
   },
   "file_extension": ".py",
   "mimetype": "text/x-python",
   "name": "python",
   "nbconvert_exporter": "python",
   "pygments_lexer": "ipython3",
   "version": "3.6.0"
  }
 },
 "nbformat": 4,
 "nbformat_minor": 2
}
